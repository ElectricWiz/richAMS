{
 "cells": [
  {
   "cell_type": "code",
   "execution_count": 1,
   "id": "d5111f05-61ed-4d85-9210-5ad927fc6f17",
   "metadata": {
    "scrolled": true
   },
   "outputs": [],
   "source": [
    "import pandas as pd\n",
    "import numpy as np\n",
    "import matplotlib.pyplot as plt\n",
    "import gc\n",
    "import math\n",
    "import seaborn as sns\n",
    "\n",
    "sns.set_theme()"
   ]
  },
  {
   "cell_type": "code",
   "execution_count": 2,
   "id": "4503003e",
   "metadata": {},
   "outputs": [],
   "source": [
    "ene = 4.0\n",
    "ene_str = str(ene).replace('.', '_')\n",
    "\n",
    "h = 10.0\n",
    "L = 750\n",
    "n = 1.05"
   ]
  },
  {
   "cell_type": "code",
   "execution_count": 3,
   "id": "63348115-839e-4dca-ae47-b9425128dc6c",
   "metadata": {},
   "outputs": [
    {
     "name": "stderr",
     "output_type": "stream",
     "text": [
      "/home/electricwiz/miniconda3/envs/DataAnalisis/etc/cling/std.modulemap:257:29: warning: unknown attribute 'optional' [-Wignored-attributes]\n",
      "  module \"memory_resource\" [optional] {\n",
      "                            ^\n",
      "/home/electricwiz/miniconda3/envs/DataAnalisis/etc/cling/std.modulemap:447:27: warning: unknown attribute 'optional' [-Wignored-attributes]\n",
      "  module \"bits/chrono.h\" [optional] {\n",
      "                          ^\n",
      "/home/electricwiz/miniconda3/envs/DataAnalisis/etc/cling/std.modulemap:531:41: warning: unknown attribute 'optional' [-Wignored-attributes]\n",
      "  explicit module \"bits_ranges_base_h\" [optional] {\n",
      "                                        ^\n",
      "/home/electricwiz/miniconda3/envs/DataAnalisis/etc/cling/std.modulemap:538:32: warning: unknown attribute 'optional' [-Wignored-attributes]\n",
      "  module \"bits/ranges_util.h\" [optional] {\n",
      "                               ^\n",
      "/home/electricwiz/miniconda3/envs/DataAnalisis/etc/cling/std.modulemap:559:40: warning: unknown attribute 'optional' [-Wignored-attributes]\n",
      "  module \"bits/uses_allocator_args.h\" [optional] {\n",
      "                                       ^\n"
     ]
    },
    {
     "name": "stdout",
     "output_type": "stream",
     "text": [
      "Welcome to JupyROOT 6.28/04\n",
      "Tree: PrimaryParticle\n",
      "  Branch: energyPrimary\n",
      "  Branch: eventNumber\n",
      "  Branch: l\n",
      "  Branch: m\n",
      "  Branch: n\n",
      "Tree: Detectors\n",
      "  Branch: detectorPositionX\n",
      "  Branch: detectorPositionY\n",
      "  Branch: eventNumber\n",
      "  Branch: trackID\n",
      "  Branch: energy\n",
      "Tree: CircleCenter\n",
      "  Branch: centerX\n",
      "  Branch: centerY\n",
      "  Branch: eventNumber\n"
     ]
    }
   ],
   "source": [
    "import ROOT\n",
    "\n",
    "# Open the .root file\n",
    "file = ROOT.TFile(\"../build/test.root\")\n",
    "\n",
    "# Iterate over all items in the file\n",
    "for key in file.GetListOfKeys():\n",
    "    obj = key.ReadObj()\n",
    "    # Check if the object is a tree\n",
    "    if isinstance(obj, ROOT.TTree):\n",
    "        tree_name = obj.GetName()\n",
    "        print(f\"Tree: {tree_name}\")\n",
    "        \n",
    "        # List all branches in the tree\n",
    "        branches = obj.GetListOfBranches()\n",
    "        for branch in branches:\n",
    "            print(f\"  Branch: {branch.GetName()}\")\n"
   ]
  },
  {
   "cell_type": "code",
   "execution_count": 4,
   "id": "680d6d50-493f-4c8a-b429-ce1870627557",
   "metadata": {},
   "outputs": [],
   "source": [
    "# Access the 'Detectors' tree\n",
    "tree = file.Get(\"Detectors\")\n",
    "\n",
    "# Define the branches you want to extract\n",
    "branches = ['detectorPositionX', 'detectorPositionY', 'eventNumber']\n",
    "\n",
    "# Determine the total number of entries\n",
    "total_entries = tree.GetEntries()\n",
    "\n",
    "# Define the chunk size\n",
    "chunk_size = 1500000000 # Adjust based on your system's RAM\n",
    "\n",
    "# Initialize a list for the chunk DataFrames\n",
    "dfs = []\n",
    "\n",
    "# Process the tree in chunks\n",
    "for start in range(0, total_entries, chunk_size):\n",
    "    end = min(start + chunk_size, total_entries)\n",
    "    data_list = []\n",
    "\n",
    "    # Loop over the entries in the current chunk\n",
    "    for i in range(start, end):\n",
    "        tree.GetEntry(i)\n",
    "        # Access branch data directly\n",
    "        data = {branch: getattr(tree, branch) for branch in branches}\n",
    "        data_list.append(data)\n",
    "\n",
    "    # Convert the chunk to a DataFrame\n",
    "    chunk_df = pd.DataFrame(data_list)\n",
    "\n",
    "    # Convert the 'eventNumber' column to int32\n",
    "    chunk_df['eventNumber'] = chunk_df['eventNumber'].astype('int32')\n",
    "\n",
    "    # Add the chunk DataFrame to the list\n",
    "    dfs.append(chunk_df)\n",
    "\n",
    "    # Delete the data list to free up memory\n",
    "    del data_list\n",
    "\n",
    "    # Force the garbage collector to release unreferenced memory\n",
    "    gc.collect()\n",
    "\n",
    "# Concatenate all chunk DataFrames\n",
    "df = pd.concat(dfs, ignore_index=True)\n"
   ]
  },
  {
   "cell_type": "markdown",
   "id": "dd22ee19",
   "metadata": {},
   "source": []
  },
  {
   "cell_type": "markdown",
   "id": "17644fda",
   "metadata": {},
   "source": []
  },
  {
   "cell_type": "code",
   "execution_count": 5,
   "id": "a44d9770-acc7-41f6-93d4-5d925e267ef9",
   "metadata": {},
   "outputs": [
    {
     "data": {
      "text/html": [
       "<div>\n",
       "<style scoped>\n",
       "    .dataframe tbody tr th:only-of-type {\n",
       "        vertical-align: middle;\n",
       "    }\n",
       "\n",
       "    .dataframe tbody tr th {\n",
       "        vertical-align: top;\n",
       "    }\n",
       "\n",
       "    .dataframe thead th {\n",
       "        text-align: right;\n",
       "    }\n",
       "</style>\n",
       "<table border=\"1\" class=\"dataframe\">\n",
       "  <thead>\n",
       "    <tr style=\"text-align: right;\">\n",
       "      <th></th>\n",
       "      <th>detectorPositionX</th>\n",
       "      <th>detectorPositionY</th>\n",
       "      <th>eventNumber</th>\n",
       "    </tr>\n",
       "  </thead>\n",
       "  <tbody>\n",
       "    <tr>\n",
       "      <th>0</th>\n",
       "      <td>4.25</td>\n",
       "      <td>4.25</td>\n",
       "      <td>510</td>\n",
       "    </tr>\n",
       "    <tr>\n",
       "      <th>1</th>\n",
       "      <td>184.25</td>\n",
       "      <td>-245.75</td>\n",
       "      <td>510</td>\n",
       "    </tr>\n",
       "    <tr>\n",
       "      <th>2</th>\n",
       "      <td>-5.75</td>\n",
       "      <td>-395.75</td>\n",
       "      <td>510</td>\n",
       "    </tr>\n",
       "    <tr>\n",
       "      <th>3</th>\n",
       "      <td>0.00</td>\n",
       "      <td>0.00</td>\n",
       "      <td>510</td>\n",
       "    </tr>\n",
       "    <tr>\n",
       "      <th>4</th>\n",
       "      <td>-5.75</td>\n",
       "      <td>-375.75</td>\n",
       "      <td>510</td>\n",
       "    </tr>\n",
       "    <tr>\n",
       "      <th>...</th>\n",
       "      <td>...</td>\n",
       "      <td>...</td>\n",
       "      <td>...</td>\n",
       "    </tr>\n",
       "    <tr>\n",
       "      <th>20541383</th>\n",
       "      <td>-125.75</td>\n",
       "      <td>-335.75</td>\n",
       "      <td>348329</td>\n",
       "    </tr>\n",
       "    <tr>\n",
       "      <th>20541384</th>\n",
       "      <td>-115.75</td>\n",
       "      <td>-315.75</td>\n",
       "      <td>348329</td>\n",
       "    </tr>\n",
       "    <tr>\n",
       "      <th>20541385</th>\n",
       "      <td>-115.75</td>\n",
       "      <td>-315.75</td>\n",
       "      <td>348329</td>\n",
       "    </tr>\n",
       "    <tr>\n",
       "      <th>20541386</th>\n",
       "      <td>-115.75</td>\n",
       "      <td>-325.75</td>\n",
       "      <td>348329</td>\n",
       "    </tr>\n",
       "    <tr>\n",
       "      <th>20541387</th>\n",
       "      <td>-115.75</td>\n",
       "      <td>-315.75</td>\n",
       "      <td>348329</td>\n",
       "    </tr>\n",
       "  </tbody>\n",
       "</table>\n",
       "<p>20541388 rows × 3 columns</p>\n",
       "</div>"
      ],
      "text/plain": [
       "          detectorPositionX  detectorPositionY  eventNumber\n",
       "0                      4.25               4.25          510\n",
       "1                    184.25            -245.75          510\n",
       "2                     -5.75            -395.75          510\n",
       "3                      0.00               0.00          510\n",
       "4                     -5.75            -375.75          510\n",
       "...                     ...                ...          ...\n",
       "20541383            -125.75            -335.75       348329\n",
       "20541384            -115.75            -315.75       348329\n",
       "20541385            -115.75            -315.75       348329\n",
       "20541386            -115.75            -325.75       348329\n",
       "20541387            -115.75            -315.75       348329\n",
       "\n",
       "[20541388 rows x 3 columns]"
      ]
     },
     "execution_count": 5,
     "metadata": {},
     "output_type": "execute_result"
    }
   ],
   "source": [
    "df"
   ]
  },
  {
   "cell_type": "code",
   "execution_count": 6,
   "id": "bac4a3b3-90a7-40b3-a037-dc04be832b05",
   "metadata": {},
   "outputs": [
    {
     "data": {
      "text/plain": [
       "0"
      ]
     },
     "execution_count": 6,
     "metadata": {},
     "output_type": "execute_result"
    }
   ],
   "source": [
    "# Now, drop the duplicates\n",
    "df = df.drop_duplicates(subset=['eventNumber', 'detectorPositionX', 'detectorPositionY'])\n",
    "\n",
    "gc.collect()"
   ]
  },
  {
   "cell_type": "code",
   "execution_count": 7,
   "id": "53c21013",
   "metadata": {},
   "outputs": [],
   "source": [
    "# Group by 'eventNumber' and filter out groups with less than 3 elements\n",
    "df = df.groupby('eventNumber').filter(lambda x: len(x) >= 4)# Calculate group sizes\n",
    "group_sizes = df.groupby('eventNumber').size()\n",
    "\n",
    "# Filter out groups with less than 3 elements\n",
    "df = df[df['eventNumber'].isin(group_sizes[group_sizes >= 3].index)]"
   ]
  },
  {
   "cell_type": "code",
   "execution_count": 8,
   "id": "faea0694-d0f0-4a51-93d0-d3d88509ad6a",
   "metadata": {},
   "outputs": [],
   "source": [
    "# Access the 'PrimaryParticle' tree\n",
    "ls"
   ]
  },
  {
   "cell_type": "code",
   "execution_count": 9,
   "id": "8a3b8fa3-25dd-4668-9d32-97e954d5e18f",
   "metadata": {},
   "outputs": [],
   "source": [
    "# Access the 'CircleCenter' tree\n",
    "tree = file.Get(\"CircleCenter\")\n",
    "\n",
    "# Define the branches you want to extract\n",
    "branches = ['centerX', 'centerY', 'eventNumber']\n",
    "\n",
    "# Determine the total number of entries\n",
    "total_entries = tree.GetEntries()\n",
    "\n",
    "# Define the chunk size\n",
    "chunk_size = 15000000 # Adjust based on your system's RAM\n",
    "\n",
    "# Initialize an empty DataFrame for the final result\n",
    "df2 = pd.DataFrame()\n",
    "\n",
    "# Process the tree in chunks\n",
    "for start in range(0, total_entries, chunk_size):\n",
    "    end = min(start + chunk_size, total_entries)\n",
    "    data_list = []\n",
    "\n",
    "    # Loop over the entries in the current chunk\n",
    "    for i in range(start, end):\n",
    "        tree.GetEntry(i)\n",
    "        # Access branch data directly\n",
    "        data = {branch: getattr(tree, branch) for branch in branches}\n",
    "        data_list.append(data)\n",
    "\n",
    "    # Convert the chunk to a DataFrame\n",
    "    chunk_df2 = pd.DataFrame(data_list)\n",
    "\n",
    "    chunk_df2['centerX'] = chunk_df2['centerX']\n",
    "    chunk_df2['centerY'] = chunk_df2['centerY']\n",
    "\n",
    "    # Append the chunk DataFrame to the main DataFrame\n",
    "    df2 = pd.concat([df2, chunk_df2], ignore_index=True)\n",
    "\n",
    "    # Delete the chunk DataFrame and the data list to free up memory\n",
    "    del chunk_df2\n",
    "    del data_list\n",
    "\n",
    "    # Force the garbage collector to release unreferenced memory\n",
    "    gc.collect()"
   ]
  },
  {
   "cell_type": "code",
   "execution_count": 10,
   "id": "8597521e-ec5e-4969-a0e6-bc115041640c",
   "metadata": {},
   "outputs": [
    {
     "data": {
      "text/plain": [
       "0"
      ]
     },
     "execution_count": 10,
     "metadata": {},
     "output_type": "execute_result"
    }
   ],
   "source": [
    "df1 = df1[df1['eventNumber'].isin(df['eventNumber'])]\n",
    "df = df[df['eventNumber'].isin(df2['eventNumber'])]\n",
    "gc.collect()"
   ]
  },
  {
   "cell_type": "code",
   "execution_count": 11,
   "id": "b8a57e11",
   "metadata": {},
   "outputs": [
    {
     "data": {
      "text/plain": [
       "0"
      ]
     },
     "execution_count": 11,
     "metadata": {},
     "output_type": "execute_result"
    }
   ],
   "source": [
    "# Merge df with df1 on 'eventNumber', keeping only 'energyprimary' from df1\n",
    "df = df.merge(df1[['eventNumber', 'energyPrimary', 'l', 'm', 'n']], on='eventNumber', how='left')\n",
    "\n",
    "del df1\n",
    "gc.collect()"
   ]
  },
  {
   "cell_type": "code",
   "execution_count": 12,
   "id": "cc36689e-25d6-4597-9da5-09bd0890ae10",
   "metadata": {},
   "outputs": [
    {
     "data": {
      "image/png": "[encoded data removed]",
      "text/plain": [
       "<Figure size 640x480 with 1 Axes>"
      ]
     },
     "metadata": {},
     "output_type": "display_data"
    }
   ],
   "source": [
    "# Filter the DataFrame for a specific eventNumber\n",
    "event_number = df[\"eventNumber\"].max() \t \t  # replace with your desired event number\n",
    "df_event = df[df['eventNumber'] == event_number]\n",
    "\n",
    "# Create a scatter plot of detectorPositionX and detectorPositionY\n",
    "plt.scatter(df_event['detectorPositionX'], df_event['detectorPositionY'])\n",
    "\n",
    "# Set the labels for the x and y axes\n",
    "plt.xlabel('detectorPositionX')\n",
    "plt.ylabel('detectorPositionY')\n",
    "\n",
    "# Show the plot\n",
    "plt.show()"
   ]
  },
  {
   "cell_type": "code",
   "execution_count": 13,
   "id": "61f10b84-2d98-40d3-b985-678f29bcb5c4",
   "metadata": {},
   "outputs": [],
   "source": [
    "import numpy as np\n",
    "from scipy.stats import norm\n",
    "from scipy.optimize import curve_fit\n",
    "\n",
    "def gaussian(x, A, mu, sigma, x0):\n",
    "    return A * np.where(x < x0, norm.pdf(x, mu, sigma) / norm.pdf(mu, mu, sigma), 0)\n",
    "\n",
    "def slow_exponential(x, a, b):\n",
    "    return a * np.exp(-b * x)\n",
    "\n",
    "def combined_function(x, A=2.007e-1, mu=0, sigma=20, x0=60, a=1.836e-3, b=2.17e-2):\n",
    "    return np.where(x < x0, gaussian(x, A, mu, sigma, x0), slow_exponential(x, a, b))"
   ]
  },
  {
   "cell_type": "code",
   "execution_count": 14,
   "id": "e89046ee-ebeb-44ed-9700-c0bfe1a2a146",
   "metadata": {},
   "outputs": [
    {
     "name": "stderr",
     "output_type": "stream",
     "text": [
      "/tmp/ipykernel_2359/3802739175.py:14: RuntimeWarning: divide by zero encountered in divide\n",
      "  numerator = a**2 * b**2 * np.maximum(0, 1 - (x_rotated**2 / a**2 + y_rotated**2 / b**2))\n",
      "/tmp/ipykernel_2359/3802739175.py:14: RuntimeWarning: invalid value encountered in divide\n",
      "  numerator = a**2 * b**2 * np.maximum(0, 1 - (x_rotated**2 / a**2 + y_rotated**2 / b**2))\n",
      "/tmp/ipykernel_2359/3802739175.py:14: RuntimeWarning: divide by zero encountered in divide\n",
      "  numerator = a**2 * b**2 * np.maximum(0, 1 - (x_rotated**2 / a**2 + y_rotated**2 / b**2))\n",
      "/tmp/ipykernel_2359/3802739175.py:14: RuntimeWarning: invalid value encountered in divide\n",
      "  numerator = a**2 * b**2 * np.maximum(0, 1 - (x_rotated**2 / a**2 + y_rotated**2 / b**2))\n",
      "/tmp/ipykernel_2359/3802739175.py:14: RuntimeWarning: divide by zero encountered in divide\n",
      "  numerator = a**2 * b**2 * np.maximum(0, 1 - (x_rotated**2 / a**2 + y_rotated**2 / b**2))\n",
      "/tmp/ipykernel_2359/3802739175.py:14: RuntimeWarning: invalid value encountered in divide\n",
      "  numerator = a**2 * b**2 * np.maximum(0, 1 - (x_rotated**2 / a**2 + y_rotated**2 / b**2))\n",
      "/tmp/ipykernel_2359/3802739175.py:14: RuntimeWarning: divide by zero encountered in divide\n",
      "  numerator = a**2 * b**2 * np.maximum(0, 1 - (x_rotated**2 / a**2 + y_rotated**2 / b**2))\n",
      "/tmp/ipykernel_2359/3802739175.py:14: RuntimeWarning: invalid value encountered in divide\n",
      "  numerator = a**2 * b**2 * np.maximum(0, 1 - (x_rotated**2 / a**2 + y_rotated**2 / b**2))\n",
      "/tmp/ipykernel_2359/3802739175.py:14: RuntimeWarning: divide by zero encountered in divide\n",
      "  numerator = a**2 * b**2 * np.maximum(0, 1 - (x_rotated**2 / a**2 + y_rotated**2 / b**2))\n",
      "/tmp/ipykernel_2359/3802739175.py:14: RuntimeWarning: invalid value encountered in divide\n",
      "  numerator = a**2 * b**2 * np.maximum(0, 1 - (x_rotated**2 / a**2 + y_rotated**2 / b**2))\n",
      "/tmp/ipykernel_2359/3802739175.py:14: RuntimeWarning: divide by zero encountered in divide\n",
      "  numerator = a**2 * b**2 * np.maximum(0, 1 - (x_rotated**2 / a**2 + y_rotated**2 / b**2))\n",
      "/tmp/ipykernel_2359/3802739175.py:14: RuntimeWarning: invalid value encountered in divide\n",
      "  numerator = a**2 * b**2 * np.maximum(0, 1 - (x_rotated**2 / a**2 + y_rotated**2 / b**2))\n",
      "/tmp/ipykernel_2359/3802739175.py:14: RuntimeWarning: divide by zero encountered in divide\n",
      "  numerator = a**2 * b**2 * np.maximum(0, 1 - (x_rotated**2 / a**2 + y_rotated**2 / b**2))\n",
      "/tmp/ipykernel_2359/3802739175.py:14: RuntimeWarning: invalid value encountered in divide\n",
      "  numerator = a**2 * b**2 * np.maximum(0, 1 - (x_rotated**2 / a**2 + y_rotated**2 / b**2))\n",
      "/tmp/ipykernel_2359/3802739175.py:14: RuntimeWarning: divide by zero encountered in divide\n",
      "  numerator = a**2 * b**2 * np.maximum(0, 1 - (x_rotated**2 / a**2 + y_rotated**2 / b**2))\n",
      "/tmp/ipykernel_2359/3802739175.py:14: RuntimeWarning: invalid value encountered in divide\n",
      "  numerator = a**2 * b**2 * np.maximum(0, 1 - (x_rotated**2 / a**2 + y_rotated**2 / b**2))\n"
     ]
    },
    {
     "data": {
      "text/plain": [
       "0"
      ]
     },
     "execution_count": 14,
     "metadata": {},
     "output_type": "execute_result"
    }
   ],
   "source": [
    "from scipy.optimize import minimize\n",
    "import sys\n",
    "import multiprocessing as mp\n",
    "\n",
    "def residuals(x, y, a, b, r, l, m, n):\n",
    "    h_cone = r * np.sqrt(l**2 + m**2 + n**2) / np.sqrt(l**2 + m**2 + 1e-8)\n",
    "    tan_theta = np.tan(np.arcsin(np.clip(1/n, -1, 1)))  # Clip to avoid domain errors\n",
    "    phi = 0.5 * np.arctan2(2*l*m, (n**2 * tan_theta**2 * ((1 + (l/n)**2) - (1 + (m/n)**2))))\n",
    "    h_ellipse = -l / (n * tan_theta + 1e-8)\n",
    "    k_ellipse = -m / (n * tan_theta + 1e-8)\n",
    "    cos_phi, sin_phi = np.cos(phi), np.sin(phi)\n",
    "    x_rotated = (x - h_ellipse) * cos_phi + (y - k_ellipse) * sin_phi\n",
    "    y_rotated = (y - k_ellipse) * cos_phi - (x - h_ellipse) * sin_phi\n",
    "    numerator = a**2 * b**2 * np.maximum(0, 1 - (x_rotated**2 / a**2 + y_rotated**2 / b**2))\n",
    "    denominator = a**2 * y_rotated**2 + b**2 * x_rotated**2\n",
    "\n",
    "    return np.sqrt(numerator / np.maximum(denominator, 1e-8))\n",
    "\n",
    "def negative_log_likelihood(theta, x, y, l, m, n):\n",
    "    a, b, r = theta\n",
    "    ri = residuals(x, y, a, b, r, l, m, n)\n",
    "    \n",
    "    with np.errstate(invalid='ignore', divide='ignore'):\n",
    "        probabilities = combined_function(ri)\n",
    "\n",
    "    valid_probs = probabilities[np.isfinite(probabilities) & (probabilities > 0)]\n",
    "    if len(valid_probs) == 0:\n",
    "        return np.inf  # Return a large value if all probabilities are invalid\n",
    "    \n",
    "    nll = -np.sum(np.log(valid_probs))\n",
    "    return nll\n",
    "\n",
    "def process_event(event):\n",
    "    event_data = df[df['eventNumber'] == event] \n",
    "    l, m, n = event_data[['l', 'm', 'n']].values[0]\n",
    "\n",
    "    if event in df2['eventNumber'].values:\n",
    "        real_center = df2[df2['eventNumber'] == event][['centerX', 'centerY']].values[0]\n",
    "        \n",
    "        initial_guess_r = np.sqrt(np.mean((event_data['detectorPositionX'] - real_center[0])**2 +\n",
    "                                          (event_data['detectorPositionY'] - real_center[1])**2))\n",
    "        initial_guess = [real_center[0], real_center[1], initial_guess_r]\n",
    "\n",
    "        result = minimize(\n",
    "            negative_log_likelihood,\n",
    "            initial_guess,\n",
    "            args=(event_data['detectorPositionX'].values,\n",
    "                  event_data['detectorPositionY'].values,\n",
    "                 l, m, n),\n",
    "            method='L-BFGS-B',\n",
    "            bounds=[(-650, 650), (-650, 650), (15, 1840)],\n",
    "            options={'ftol':1e-2, 'gtol':1e-2, 'maxiter':1000}\n",
    "        )\n",
    "        if result.success:\n",
    "            return {\n",
    "                'eventNumber': event,\n",
    "                'centerX': result.x[0],\n",
    "                'centerY': result.x[1],\n",
    "                'radius': result.x[2]\n",
    "            }\n",
    "        \n",
    "unique_events = df['eventNumber'].unique()\n",
    "\n",
    "with mp.Pool(mp.cpu_count()) as pool:\n",
    "    optimized_params_list = pool.map(process_event, unique_events)\n",
    "\n",
    "optimized_params_list = [x for x in optimized_params_list if x is not None]\n",
    "optimized_params_df = pd.DataFrame(optimized_params_list)\n",
    "\n",
    "df = pd.merge(df, optimized_params_df, on='eventNumber', how='left', suffixes=('', '_new'))\n",
    "\n",
    "del df2\n",
    "gc.collect()"
   ]
  },
  {
   "cell_type": "code",
   "execution_count": 15,
   "id": "82c3acb4-1973-484f-9fe0-44e798812f1e",
   "metadata": {},
   "outputs": [
    {
     "data": {
      "text/plain": [
       "0"
      ]
     },
     "execution_count": 15,
     "metadata": {},
     "output_type": "execute_result"
    }
   ],
   "source": [
    "df = pd.merge(df, optimized_params_df, on='eventNumber', how='left', suffixes=('', '_new'))\n",
    "\n",
    "df.rename(columns={'centerX_new': 'centerX', 'centerY_new': 'centerY'}, inplace=True)\n",
    "\n",
    "del optimized_params_df\n",
    "gc.collect()"
   ]
  },
  {
   "cell_type": "code",
   "execution_count": 16,
   "id": "4cb5e72f-02f7-4057-a85b-5f0a12f522e8",
   "metadata": {},
   "outputs": [
    {
     "data": {
      "text/plain": [
       "0"
      ]
     },
     "execution_count": 16,
     "metadata": {},
     "output_type": "execute_result"
    }
   ],
   "source": [
    "# Convert columns back to float16\n",
    "df['eventNumber'] = df['eventNumber'].astype('int32')\n",
    "df['detectorPositionX'] = df['detectorPositionX']\n",
    "df['detectorPositionY'] = df['detectorPositionY']\n",
    "\n",
    "gc.collect()"
   ]
  },
  {
   "cell_type": "code",
   "execution_count": 17,
   "id": "629bc60a-7bc3-44d8-8c6c-758c2aa517f9",
   "metadata": {},
   "outputs": [],
   "source": [
    "def calculate_beta(cherenkov_angle, refractive_index):\n",
    "    # Check if refractive index is non-zero to avoid division by zero\n",
    "    if np.any(refractive_index == 0):\n",
    "        raise ValueError(\"Refractive index cannot be zero.\")\n",
    "\n",
    "    # Calculate beta using the Cherenkov angle and refractive index\n",
    "    beta = 1 / np.cos(cherenkov_angle) / refractive_index\n",
    "\n",
    "    return beta\n",
    "\n",
    "def calculate_beta_proton(energy_gev):\n",
    "    rest_mass_energy_mev = 938.272\n",
    "    energy_mev = energy_gev * 1000\n",
    "    gamma = 1 + (energy_mev / rest_mass_energy_mev)\n",
    "    beta = np.sqrt(1 - 1 / gamma**2)\n",
    "\n",
    "    return beta\n",
    "\n",
    "def calculate_radius(ene, n=n, h=h, L=L):\n",
    "    beta = calculate_beta_proton(ene)\n",
    "    theta = np.arccos(1/(beta*n))\n",
    "\n",
    "    return L * np.tan(np.arcsin(n * np.sin(theta))) + (h / 2) * np.tan(theta)\n"
   ]
  },
  {
   "cell_type": "code",
   "execution_count": 18,
   "id": "634aa8db",
   "metadata": {},
   "outputs": [],
   "source": [
    "df[\"radius_gev\"] = calculate_radius(df[\"energyPrimary\"])\n",
    "df[\"residual\"] = np.abs(df[\"radius_gev\"] - df[\"radius\"])"
   ]
  },
  {
   "cell_type": "code",
   "execution_count": 19,
   "id": "7b876bda-716b-4cde-95a8-78701f7c6a5a",
   "metadata": {},
   "outputs": [
    {
     "data": {
      "image/png": "[encoded data removed]",
      "text/plain": [
       "<Figure size 640x480 with 1 Axes>"
      ]
     },
     "metadata": {},
     "output_type": "display_data"
    }
   ],
   "source": [
    "plt.hist(df[\"residual\"], bins=100, density=True, log=True, color='gray', alpha=0.5)\n",
    "plt.ylim([2e-8, 1e-1])\n",
    "\n",
    "plt.xlabel('Residual [mm]')\n",
    "plt.ylabel('% Eventos')\n",
    "\n",
    "plt.title(\"Residuales Caso Oblicuo\" + f\" ({ene} GeV)\")\n",
    "\n",
    "plt.savefig(\"perpendicular.png\")\n",
    "plt.show()"
   ]
  },
  {
   "cell_type": "code",
   "execution_count": 20,
   "id": "f0ab056c",
   "metadata": {},
   "outputs": [
    {
     "name": "stdout",
     "output_type": "stream",
     "text": [
      "The bin with the highest count between 170 and 220 is: 178.69833450336185\n"
     ]
    }
   ],
   "source": [
    "filtered_df = df[(df['residual'] >= 160) & (df['residual'] <= 240)]\n",
    "value_counts = filtered_df['residual'].value_counts()\n",
    "highest_count_bin = value_counts.idxmax()\n",
    "\n",
    "print(f\"The bin with the highest count between 170 and 220 is: {highest_count_bin}\")"
   ]
  },
  {
   "cell_type": "code",
   "execution_count": 21,
   "id": "0559e22e",
   "metadata": {},
   "outputs": [
    {
     "name": "stdout",
     "output_type": "stream",
     "text": [
      "The bin with the second highest count between 170 and 220 is: 166.26104031615066\n"
     ]
    }
   ],
   "source": [
    "sorted_value_counts = value_counts.sort_values(ascending=False)\n",
    "second_highest_count_bin = sorted_value_counts.index[1]\n",
    "\n",
    "print(f\"The bin with the second highest count between 170 and 220 is: {second_highest_count_bin}\")"
   ]
  },
  {
   "cell_type": "code",
   "execution_count": 22,
   "id": "f4e72a1f",
   "metadata": {},
   "outputs": [
    {
     "data": {
      "image/png": "[encoded data removed]",
      "text/plain": [
       "<Figure size 900x600 with 1 Axes>"
      ]
     },
     "metadata": {},
     "output_type": "display_data"
    }
   ],
   "source": [
    "random_event_number = df['eventNumber'].sample(1).values[0]\n",
    "\n",
    "# Create a plot for the selected event\n",
    "fig, ax = plt.subplots(figsize=(9, 6))\n",
    "\n",
    "# Select all rows for the current 'eventNumber'\n",
    "event = df[df['eventNumber'] == random_event_number]\n",
    "ax.scatter(event['detectorPositionX'], event['detectorPositionY'], label='Positions')\n",
    "\n",
    "\n",
    "# Calculate and plot the center position\n",
    "center_x = event[\"centerX\"]\n",
    "center_y = event['centerY']\n",
    "ax.scatter(center_x, center_y, color='red', label='Center')\n",
    "\n",
    "ax.set_xlabel('X [mm]')\n",
    "ax.set_ylabel('Y [mm]')\n",
    "ax.legend()\n",
    "\n",
    "plt.title(f\"Evento Número {random_event_number} Que Forma Parte del Pico a 4.2 GeV\")\n",
    "plt.show()"
   ]
  },
  {
   "cell_type": "code",
   "execution_count": 23,
   "id": "0921cb4c",
   "metadata": {},
   "outputs": [
    {
     "name": "stdout",
     "output_type": "stream",
     "text": [
      "Optimized parameters: [8.12797441e-02 4.17137370e+00 6.30067889e+00 7.50000000e+01\n",
      " 3.43870933e-04 1.23627854e-02]\n"
     ]
    },
    {
     "data": {
      "image/png": "[encoded data removed]",
      "text/plain": [
       "<Figure size 1000x600 with 1 Axes>"
      ]
     },
     "metadata": {},
     "output_type": "display_data"
    }
   ],
   "source": [
    "import numpy as np\n",
    "from scipy.stats import norm\n",
    "from scipy.optimize import curve_fit\n",
    "import matplotlib.pyplot as plt\n",
    "\n",
    "def gaussian(x, A, mu, sigma, x0):\n",
    "    return A * np.where(x < x0, norm.pdf(x, mu, sigma) / norm.pdf(mu, mu, sigma), 0)\n",
    "\n",
    "def slow_exponential(x, a, b):\n",
    "    return a * np.exp(-b * x)\n",
    "\n",
    "def combined_function(x, A, mu, sigma, x0, a, b):\n",
    "    return np.where(x < x0, gaussian(x, A, mu, sigma, x0), slow_exponential(x, a, b))\n",
    "\n",
    "# Get the histogram data\n",
    "# Filter the 'residual' column\n",
    "filtered_residual = df['residual'][df['residual'] <= 600]\n",
    "\n",
    "# Get the histogram data\n",
    "hist, bin_edges = np.histogram(filtered_residual, bins=100, density=True)\n",
    "bin_centers = (bin_edges[:-1] + bin_edges[1:]) / 2\n",
    "\n",
    "# Fit the function to the histogram data\n",
    "popt, pcov = curve_fit(combined_function, bin_centers, hist, \n",
    "                       p0=[0.2, 0, 6, 75, 0.001, 0.0004],\n",
    "                       method='dogbox',\n",
    "                       ftol=1e-5, \n",
    "                       gtol=1e-5,\n",
    "                       max_nfev=100000)\n",
    "\n",
    "# Print the optimized parameters\n",
    "print(\"Optimized parameters:\", popt)\n",
    "\n",
    "# Plot the histogram\n",
    "plt.figure(figsize=(10, 6))\n",
    "plt.hist(df[\"residual\"], bins=100, density=True, log=True, color='gray', alpha=0.5)\n",
    "\n",
    "# Plot the fitted function\n",
    "x = np.linspace(bin_edges[0], bin_edges[-1], 1000)\n",
    "plt.plot(x, combined_function(x, *popt), 'r-', label='Fitted function')\n",
    "\n",
    "plt.xlabel('Residual [mm]')\n",
    "plt.ylabel('% Eventos')\n",
    "plt.title(\"Ajuste de la Distribución de los Residuales a 4.2 GeV\")\n",
    "plt.ylim([2e-8, 1e-1])\n",
    "plt.legend()\n",
    "\n",
    "plt.show()"
   ]
  },
  {
   "cell_type": "code",
   "execution_count": 24,
   "id": "80695840-5511-4172-8bac-39d80b3d2934",
   "metadata": {},
   "outputs": [
    {
     "data": {
      "text/plain": [
       "37519"
      ]
     },
     "execution_count": 24,
     "metadata": {},
     "output_type": "execute_result"
    }
   ],
   "source": [
    "# Get eventNumbers with variance > 0 and < 100\n",
    "good_eventNumbers = df.loc[(df['residual'] > 0) & (df['residual'] < 50), 'eventNumber']\n",
    "\n",
    "# Get eventNumbers with variance > 100\n",
    "bad_eventNumbers = df.loc[df['residual'] > 100, 'eventNumber']\n",
    "\n",
    "# Create df_good DataFrame\n",
    "df_good = df.loc[df['eventNumber'].isin(good_eventNumbers)].copy()\n",
    "\n",
    "# Create df_bad DataFrame\n",
    "df_bad = df.loc[df['eventNumber'].isin(bad_eventNumbers)].copy()\n",
    "\n",
    "# Delete unused variables and original df\n",
    "del df, good_eventNumbers, bad_eventNumbers\n",
    "gc.collect()"
   ]
  },
  {
   "cell_type": "code",
   "execution_count": 25,
   "id": "a1bbf282-c8c9-472b-9fe0-12622b5b15e9",
   "metadata": {},
   "outputs": [
    {
     "ename": "NameError",
     "evalue": "name 'variance_df' is not defined",
     "output_type": "error",
     "traceback": [
      "\u001b[0;31m---------------------------------------------------------------------------\u001b[0m",
      "\u001b[0;31mNameError\u001b[0m                                 Traceback (most recent call last)",
      "Cell \u001b[0;32mIn[25], line 2\u001b[0m\n\u001b[1;32m      1\u001b[0m \u001b[38;5;28;01mimport\u001b[39;00m \u001b[38;5;21;01mmatplotlib\u001b[39;00m\u001b[38;5;21;01m.\u001b[39;00m\u001b[38;5;21;01mpyplot\u001b[39;00m \u001b[38;5;28;01mas\u001b[39;00m \u001b[38;5;21;01mplt\u001b[39;00m\n\u001b[0;32m----> 2\u001b[0m plt\u001b[38;5;241m.\u001b[39mhist(\u001b[43mvariance_df\u001b[49m[\u001b[38;5;124m\"\u001b[39m\u001b[38;5;124mresidual\u001b[39m\u001b[38;5;124m\"\u001b[39m], bins\u001b[38;5;241m=\u001b[39m\u001b[38;5;241m100\u001b[39m, \u001b[38;5;28mrange\u001b[39m\u001b[38;5;241m=\u001b[39m(\u001b[38;5;241m0\u001b[39m, \u001b[38;5;241m500\u001b[39m), log \u001b[38;5;241m=\u001b[39m \u001b[38;5;28;01mTrue\u001b[39;00m, density\u001b[38;5;241m=\u001b[39m\u001b[38;5;28;01mTrue\u001b[39;00m)\n\u001b[1;32m      4\u001b[0m plt\u001b[38;5;241m.\u001b[39mtitle(\u001b[38;5;124m'\u001b[39m\u001b[38;5;124mHistograma del Residual Normalizado por El Número de Fotones Cherenkov\u001b[39m\u001b[38;5;124m'\u001b[39m)\n\u001b[1;32m      5\u001b[0m plt\u001b[38;5;241m.\u001b[39mxlabel(\u001b[38;5;124m'\u001b[39m\u001b[38;5;124mResidual Normalizado\u001b[39m\u001b[38;5;124m'\u001b[39m)\n",
      "\u001b[0;31mNameError\u001b[0m: name 'variance_df' is not defined"
     ]
    }
   ],
   "source": [
    "import matplotlib.pyplot as plt\n",
    "plt.hist(variance_df[\"residual\"], bins=100, range=(0, 500), log = True, density=True)\n",
    "\n",
    "plt.title('Histograma del Residual Normalizado por El Número de Fotones Cherenkov')\n",
    "plt.xlabel('Residual Normalizado')\n",
    "plt.ylabel('% Eventos')\n",
    "\n",
    "plt.savefig(\"normalizado2cm.png\")\n",
    "\n",
    "plt.show()"
   ]
  },
  {
   "cell_type": "code",
   "execution_count": null,
   "id": "91a04c8f-88f9-442e-b2e3-96b6f10e2ded",
   "metadata": {},
   "outputs": [
    {
     "data": {
      "text/plain": [
       "'import math\\n\\ndef inc(n, R, h = 76.5):\\n    return 1.202/(math.sin(math.atan(R/h))*(math.cos(math.atan(R/h))**2)*n*h*(1 + (R/h)**2))'"
      ]
     },
     "execution_count": 343,
     "metadata": {},
     "output_type": "execute_result"
    }
   ],
   "source": [
    "\"\"\"import math\n",
    "\n",
    "def inc(n, R, h = 76.5):\n",
    "    return 1.202/(math.sin(math.atan(R/h))*(math.cos(math.atan(R/h))**2)*n*h*(1 + (R/h)**2))\"\"\""
   ]
  },
  {
   "cell_type": "code",
   "execution_count": null,
   "id": "3c3c046f-9b3e-4816-bd6c-34b1b42b1bce",
   "metadata": {},
   "outputs": [],
   "source": [
    "import tensorflow as tf\n",
    "\n",
    "# Group the DataFrame by 'eventNumber' and save each group as an element in a list\n",
    "groups1 = [group for _, group in df_good.groupby('eventNumber')]\n",
    "groups2 = [group for _, group in df_bad.groupby('eventNumber')]\n",
    "\n",
    "# Get the labels (the 'eventNumber' column)\n",
    "labels1 = df_good.groupby('eventNumber')['energyPrimary'].first().values\n",
    "labels2 = df_bad.groupby('eventNumber')['energyPrimary'].first().values"
   ]
  },
  {
   "cell_type": "code",
   "execution_count": null,
   "id": "a4b25356-2779-4f0a-ab0f-738e59c9c76d",
   "metadata": {},
   "outputs": [],
   "source": [
    "def serialize_example(group, label):\n",
    "    # Convert the 'detectorPositionX', 'detectorPositionY', 'duplicates_count' columns to floats\n",
    "    detectorPositionX_floats = group['detectorPositionX'].values.astype(float)\n",
    "    detectorPositionY_floats = group['detectorPositionY'].values.astype(float)\n",
    "    label_float = float(label)\n",
    "\n",
    "    feature = {\n",
    "        'detectorPositionX': tf.train.Feature(float_list=tf.train.FloatList(value=detectorPositionX_floats)),\n",
    "        'detectorPositionY': tf.train.Feature(float_list=tf.train.FloatList(value=detectorPositionY_floats)),\n",
    "        'label': tf.train.Feature(float_list=tf.train.FloatList(value=[label_float])),\n",
    "    }\n",
    "    example_proto = tf.train.Example(features=tf.train.Features(feature=feature))\n",
    "    return example_proto.SerializeToString()\n",
    "\n",
    "# Write the dataset to a TFRecord file\n",
    "with tf.io.TFRecordWriter('good3_0.tfrecords') as writer:\n",
    "    for group, label in zip(groups1, labels1):\n",
    "        example = serialize_example(group, label)\n",
    "        writer.write(example)\n",
    "\n",
    "with tf.io.TFRecordWriter('bad3_0.tfrecords') as writer:\n",
    "    for group, label in zip(groups2, labels2):\n",
    "        example = serialize_example(group, label)\n",
    "        writer.write(example)"
   ]
  },
  {
   "cell_type": "code",
   "execution_count": null,
   "id": "151d2fd4-6145-4ca3-bb54-81dbdf958404",
   "metadata": {},
   "outputs": [
    {
     "data": {
      "text/plain": [
       "'df_good.loc[:, \"beta_hat\"] = calculate_beta(df_good[\"radius\"].apply(calculate_half_angle), 1.05)\\n\\ndf_bad.loc[:, \"beta_hat\"] = calculate_beta(df_bad[\"radius\"].apply(calculate_half_angle), 1.05)'"
      ]
     },
     "execution_count": 346,
     "metadata": {},
     "output_type": "execute_result"
    }
   ],
   "source": [
    "\"\"\"df_good.loc[:, \"beta_hat\"] = calculate_beta(df_good[\"radius\"].apply(calculate_half_angle), 1.05)\n",
    "\n",
    "df_bad.loc[:, \"beta_hat\"] = calculate_beta(df_bad[\"radius\"].apply(calculate_half_angle), 1.05)\"\"\""
   ]
  },
  {
   "cell_type": "code",
   "execution_count": null,
   "id": "fc4ec63b",
   "metadata": {},
   "outputs": [
    {
     "ename": "SyntaxError",
     "evalue": "cannot assign to expression here. Maybe you meant '==' instead of '='? (4033453458.py, line 2)",
     "output_type": "error",
     "traceback": [
      "\u001b[0;36m  Cell \u001b[0;32mIn[127], line 2\u001b[0;36m\u001b[0m\n\u001b[0;31m    df_bad|[\"beta_hat\"] = calculate_beta_proton(df_bad[\"radius\"])\u001b[0m\n\u001b[0m    ^\u001b[0m\n\u001b[0;31mSyntaxError\u001b[0m\u001b[0;31m:\u001b[0m cannot assign to expression here. Maybe you meant '==' instead of '='?\n"
     ]
    }
   ],
   "source": [
    "df_good[\"beta_hat\"] = calculate_beta_proton(df_good[\"radius\"])\n",
    "df_bad|[\"beta_hat\"] = calculate_beta_proton(df_bad[\"radius\"])"
   ]
  },
  {
   "cell_type": "code",
   "execution_count": null,
   "id": "9e717a01-387c-4de0-9787-078530b04612",
   "metadata": {},
   "outputs": [
    {
     "ename": "KeyError",
     "evalue": "'beta_hat'",
     "output_type": "error",
     "traceback": [
      "\u001b[0;31m---------------------------------------------------------------------------\u001b[0m",
      "\u001b[0;31mKeyError\u001b[0m                                  Traceback (most recent call last)",
      "File \u001b[0;32m~/anaconda3/envs/DataAnalisis/lib/python3.11/site-packages/pandas/core/indexes/base.py:3805\u001b[0m, in \u001b[0;36mIndex.get_loc\u001b[0;34m(self, key)\u001b[0m\n\u001b[1;32m   3804\u001b[0m \u001b[38;5;28;01mtry\u001b[39;00m:\n\u001b[0;32m-> 3805\u001b[0m     \u001b[38;5;28;01mreturn\u001b[39;00m \u001b[38;5;28;43mself\u001b[39;49m\u001b[38;5;241;43m.\u001b[39;49m\u001b[43m_engine\u001b[49m\u001b[38;5;241;43m.\u001b[39;49m\u001b[43mget_loc\u001b[49m\u001b[43m(\u001b[49m\u001b[43mcasted_key\u001b[49m\u001b[43m)\u001b[49m\n\u001b[1;32m   3806\u001b[0m \u001b[38;5;28;01mexcept\u001b[39;00m \u001b[38;5;167;01mKeyError\u001b[39;00m \u001b[38;5;28;01mas\u001b[39;00m err:\n",
      "File \u001b[0;32mindex.pyx:167\u001b[0m, in \u001b[0;36mpandas._libs.index.IndexEngine.get_loc\u001b[0;34m()\u001b[0m\n",
      "File \u001b[0;32mindex.pyx:196\u001b[0m, in \u001b[0;36mpandas._libs.index.IndexEngine.get_loc\u001b[0;34m()\u001b[0m\n",
      "File \u001b[0;32mpandas/_libs/hashtable_class_helper.pxi:7081\u001b[0m, in \u001b[0;36mpandas._libs.hashtable.PyObjectHashTable.get_item\u001b[0;34m()\u001b[0m\n",
      "File \u001b[0;32mpandas/_libs/hashtable_class_helper.pxi:7089\u001b[0m, in \u001b[0;36mpandas._libs.hashtable.PyObjectHashTable.get_item\u001b[0;34m()\u001b[0m\n",
      "\u001b[0;31mKeyError\u001b[0m: 'beta_hat'",
      "\nThe above exception was the direct cause of the following exception:\n",
      "\u001b[0;31mKeyError\u001b[0m                                  Traceback (most recent call last)",
      "Cell \u001b[0;32mIn[126], line 14\u001b[0m\n\u001b[1;32m     12\u001b[0m bins_good \u001b[38;5;241m=\u001b[39m np\u001b[38;5;241m.\u001b[39marange(\u001b[38;5;28mmin\u001b[39m(df_good_grouped[\u001b[38;5;124m\"\u001b[39m\u001b[38;5;124mbeta_hat\u001b[39m\u001b[38;5;124m\"\u001b[39m]), \u001b[38;5;28mmax\u001b[39m(df_good_grouped[\u001b[38;5;124m\"\u001b[39m\u001b[38;5;124mbeta_hat\u001b[39m\u001b[38;5;124m\"\u001b[39m]) \u001b[38;5;241m+\u001b[39m bin_width, bin_width)\n\u001b[1;32m     13\u001b[0m counts_good, _ \u001b[38;5;241m=\u001b[39m np\u001b[38;5;241m.\u001b[39mhistogram(df_good_grouped[\u001b[38;5;124m\"\u001b[39m\u001b[38;5;124mbeta_hat\u001b[39m\u001b[38;5;124m\"\u001b[39m], bins\u001b[38;5;241m=\u001b[39mbins_good)\n\u001b[0;32m---> 14\u001b[0m bins_bad \u001b[38;5;241m=\u001b[39m np\u001b[38;5;241m.\u001b[39marange(\u001b[38;5;28mmin\u001b[39m(\u001b[43mdf_bad_grouped\u001b[49m\u001b[43m[\u001b[49m\u001b[38;5;124;43m\"\u001b[39;49m\u001b[38;5;124;43mbeta_hat\u001b[39;49m\u001b[38;5;124;43m\"\u001b[39;49m\u001b[43m]\u001b[49m), \u001b[38;5;28mmax\u001b[39m(df_bad_grouped[\u001b[38;5;124m\"\u001b[39m\u001b[38;5;124mbeta_hat\u001b[39m\u001b[38;5;124m\"\u001b[39m]) \u001b[38;5;241m+\u001b[39m bin_width, bin_width)\n\u001b[1;32m     15\u001b[0m counts_bad, _ \u001b[38;5;241m=\u001b[39m np\u001b[38;5;241m.\u001b[39mhistogram(df_bad_grouped[\u001b[38;5;124m\"\u001b[39m\u001b[38;5;124mbeta_hat\u001b[39m\u001b[38;5;124m\"\u001b[39m], bins\u001b[38;5;241m=\u001b[39mbins_bad)\n\u001b[1;32m     16\u001b[0m counts_good \u001b[38;5;241m=\u001b[39m counts_good \u001b[38;5;241m/\u001b[39m np\u001b[38;5;241m.\u001b[39msum(counts_good)\n",
      "File \u001b[0;32m~/anaconda3/envs/DataAnalisis/lib/python3.11/site-packages/pandas/core/frame.py:4102\u001b[0m, in \u001b[0;36mDataFrame.__getitem__\u001b[0;34m(self, key)\u001b[0m\n\u001b[1;32m   4100\u001b[0m \u001b[38;5;28;01mif\u001b[39;00m \u001b[38;5;28mself\u001b[39m\u001b[38;5;241m.\u001b[39mcolumns\u001b[38;5;241m.\u001b[39mnlevels \u001b[38;5;241m>\u001b[39m \u001b[38;5;241m1\u001b[39m:\n\u001b[1;32m   4101\u001b[0m     \u001b[38;5;28;01mreturn\u001b[39;00m \u001b[38;5;28mself\u001b[39m\u001b[38;5;241m.\u001b[39m_getitem_multilevel(key)\n\u001b[0;32m-> 4102\u001b[0m indexer \u001b[38;5;241m=\u001b[39m \u001b[38;5;28;43mself\u001b[39;49m\u001b[38;5;241;43m.\u001b[39;49m\u001b[43mcolumns\u001b[49m\u001b[38;5;241;43m.\u001b[39;49m\u001b[43mget_loc\u001b[49m\u001b[43m(\u001b[49m\u001b[43mkey\u001b[49m\u001b[43m)\u001b[49m\n\u001b[1;32m   4103\u001b[0m \u001b[38;5;28;01mif\u001b[39;00m is_integer(indexer):\n\u001b[1;32m   4104\u001b[0m     indexer \u001b[38;5;241m=\u001b[39m [indexer]\n",
      "File \u001b[0;32m~/anaconda3/envs/DataAnalisis/lib/python3.11/site-packages/pandas/core/indexes/base.py:3812\u001b[0m, in \u001b[0;36mIndex.get_loc\u001b[0;34m(self, key)\u001b[0m\n\u001b[1;32m   3807\u001b[0m     \u001b[38;5;28;01mif\u001b[39;00m \u001b[38;5;28misinstance\u001b[39m(casted_key, \u001b[38;5;28mslice\u001b[39m) \u001b[38;5;129;01mor\u001b[39;00m (\n\u001b[1;32m   3808\u001b[0m         \u001b[38;5;28misinstance\u001b[39m(casted_key, abc\u001b[38;5;241m.\u001b[39mIterable)\n\u001b[1;32m   3809\u001b[0m         \u001b[38;5;129;01mand\u001b[39;00m \u001b[38;5;28many\u001b[39m(\u001b[38;5;28misinstance\u001b[39m(x, \u001b[38;5;28mslice\u001b[39m) \u001b[38;5;28;01mfor\u001b[39;00m x \u001b[38;5;129;01min\u001b[39;00m casted_key)\n\u001b[1;32m   3810\u001b[0m     ):\n\u001b[1;32m   3811\u001b[0m         \u001b[38;5;28;01mraise\u001b[39;00m InvalidIndexError(key)\n\u001b[0;32m-> 3812\u001b[0m     \u001b[38;5;28;01mraise\u001b[39;00m \u001b[38;5;167;01mKeyError\u001b[39;00m(key) \u001b[38;5;28;01mfrom\u001b[39;00m \u001b[38;5;21;01merr\u001b[39;00m\n\u001b[1;32m   3813\u001b[0m \u001b[38;5;28;01mexcept\u001b[39;00m \u001b[38;5;167;01mTypeError\u001b[39;00m:\n\u001b[1;32m   3814\u001b[0m     \u001b[38;5;66;03m# If we have a listlike key, _check_indexing_error will raise\u001b[39;00m\n\u001b[1;32m   3815\u001b[0m     \u001b[38;5;66;03m#  InvalidIndexError. Otherwise we fall through and re-raise\u001b[39;00m\n\u001b[1;32m   3816\u001b[0m     \u001b[38;5;66;03m#  the TypeError.\u001b[39;00m\n\u001b[1;32m   3817\u001b[0m     \u001b[38;5;28mself\u001b[39m\u001b[38;5;241m.\u001b[39m_check_indexing_error(key)\n",
      "\u001b[0;31mKeyError\u001b[0m: 'beta_hat'"
     ]
    }
   ],
   "source": [
    "from scipy.optimize import curve_fit\n",
    "\n",
    "def gaussian(x, a, b, c):\n",
    "    return a * np.exp(-(x - b)**2 / (2 * c**2))\n",
    "\n",
    "for idx, ene in enumerate(enes):\n",
    "    df_good_grouped = df_good.groupby('eventNumber').first()\n",
    "    df_bad_grouped = df_bad.groupby('eventNumber').first()\n",
    "\n",
    "    bin_width = 0.001\n",
    "\n",
    "    bins_good = np.arange(min(df_good_grouped[\"beta_hat\"]), max(df_good_grouped[\"beta_hat\"]) + bin_width, bin_width)\n",
    "    counts_good, _ = np.histogram(df_good_grouped[\"beta_hat\"], bins=bins_good)\n",
    "    bins_bad = np.arange(min(df_bad_grouped[\"beta_hat\"]), max(df_bad_grouped[\"beta_hat\"]) + bin_width, bin_width)\n",
    "    counts_bad, _ = np.histogram(df_bad_grouped[\"beta_hat\"], bins=bins_bad)\n",
    "    counts_good = counts_good / np.sum(counts_good)\n",
    "    counts_bad = counts_bad / np.sum(counts_bad)\n",
    "\n",
    "    bin_centers_good = (bins_good[:-1] + bins_good[1:]) / 2\n",
    "    bin_centers_bad = (bins_bad[:-1] + bins_bad[1:]) / 2 \n",
    "\n",
    "    ax.bar(bin_centers_good, counts_good, width=np.diff(bins_good), color='g', alpha=1, zorder=2)\n",
    "\n",
    "    initial_guess_good = [max(counts_good), bin_centers_good[np.argmax(counts_good)], np.std(df_good_grouped[\"beta_hat\"])]\n",
    "    popt_good, _ = curve_fit(gaussian, bin_centers_good, counts_good, p0=initial_guess_good, maxfev=5000)\n",
    "    x_good = np.linspace(min(bin_centers_good), max(bin_centers_good), 1000)\n",
    "    ax.plot(x_good, gaussian(x_good, *popt_good), 'r-', zorder=3)\n",
    "    ax.axvline(popt_good[1], color='r', linestyle='--')\n",
    "    ax.bar(bin_centers_bad, counts_bad, width=np.diff(bins_bad), color='b', alpha=0.6, zorder=1)\n",
    "\n",
    "    beta_r = calculate_beta_proton(ene)\n",
    "    ax.axvline(beta_r, color='gold', linestyle='--')\n",
    "\n",
    "    ax.set_xlim([0.962, 1.04])\n",
    "    ax.set_ylim([1e-3, 1.2])\n",
    "\n",
    "    ax.set_yscale('log')\n",
    "\n",
    "    ax.set_xlabel(r'$\\beta$')\n",
    "    ax.set_ylabel('% Eventos')\n",
    "\n",
    "    line_good, = ax.plot(x_good, gaussian(x_good, *popt_good), 'r-', zorder=3) \n",
    "\n",
    "    line_beta_r = ax.axvline(beta_r, color='black', linestyle='--')\n",
    "\n",
    "    lower_bound = beta_r - 0.005*beta_r\n",
    "    upper_bound = beta_r + 0.005*beta_r\n",
    "\n",
    "    num_events_in_range = df_good_grouped[(df_good_grouped[\"beta_hat\"] >= lower_bound) & (df_good_grouped[\"beta_hat\"] <= upper_bound)].shape[0]\n",
    "\n",
    "    total_events = df_good_grouped.shape[0]\n",
    "    efficiency = num_events_in_range / total_events\n",
    "    efficiencies.append(efficiency)\n",
    "\n",
    "    median_bad = df_bad_grouped[\"beta_hat\"].median()\n",
    "    line_median_bad = ax.axvline(median_bad, color='purple', linestyle='--')\n",
    "\n",
    "    ax.legend([line_good, line_beta_r, line_median_bad], \n",
    "              [f'$<\\\\beta_{{Buenos}}>$ = {popt_good[1]:.4f}', \n",
    "               f'$\\\\beta_{{Real}}$ = {beta_r:.4f}', \n",
    "               f'Mediana $\\\\beta_{{Malos}}$ = {median_bad:.4f}'], \n",
    "              title='Betas Calculadas')\n",
    "\n",
    "    ax.set_title(f'  {str(ene)} GeV Con Likelihood, Eficiencia = {efficiency*100:.4f} %')\n",
    "\n",
    "fig.tight_layout()\n",
    "fig.savefig(f\"./figures/pLike9.png\")\n",
    "\n",
    "plt.show()"
   ]
  },
  {
   "cell_type": "code",
   "execution_count": null,
   "id": "3081e4e0-7cc1-4d51-a1e1-edbcb112c640",
   "metadata": {},
   "outputs": [],
   "source": [
    "\"\"\"import matplotlib.pyplot as plt\n",
    "import numpy as np\n",
    "\n",
    "def draw_circle(ax, centerX, centerY, radius, color):\n",
    "    circle = plt.Circle((centerX, centerY), radius, fill=False, color=color)\n",
    "    ax.add_artist(circle)\n",
    "    ax.plot(centerX, centerY, marker='o', color=color)  # plot the center\n",
    "    \n",
    "# Assuming good_events and bad_events are DataFrames grouped by 'eventNumber'\n",
    "good_events = df_good.groupby('eventNumber')\n",
    "bad_events = df_bad.groupby('eventNumber')\n",
    "\n",
    "fig, axs = plt.subplots(2, 2, figsize=(10, 10))\n",
    "\n",
    "# Plot for df_good\n",
    "for i, (eventNumber, event) in enumerate(good_events):\n",
    "    if i > 1:  # Limit the number of plots to the size of the axs array\n",
    "        break\n",
    "    axs[0, i].scatter(event.detectorPositionX, event.detectorPositionY, color='blue')\n",
    "    draw_circle(axs[0, i], event.centerX.mean(), event.centerY.mean(), event.radius.mean(), 'magenta')\n",
    "\n",
    "# Plot for df_bad\n",
    "for i, (eventNumber, event) in enumerate(bad_events):\n",
    "    if i > 1:  # Limit the number of plots to the size of the axs array\n",
    "        break\n",
    "    axs[1, i].scatter(event.detectorPositionX, event.detectorPositionY, color='yellow')\n",
    "    draw_circle(axs[1, i], event.centerX.mean(), event.centerY.mean(), event.radius.mean(), 'cyan')\n",
    "\n",
    "plt.show()\"\"\""
   ]
  },
  {
   "cell_type": "code",
   "execution_count": null,
   "id": "8de669ee-c295-48a8-a549-787af66a2a40",
   "metadata": {},
   "outputs": [],
   "source": [
    "betas = [calculate_beta_proton(ene) for ene in enes]\n",
    "\n",
    "plt.title(\"Eficiencia en Función de la Velocidad\")\n",
    "\n",
    "plt.xlabel(r'$\\beta$')\n",
    "plt.ylabel(\"% Eficiencia\")\n",
    "\n",
    "plt.plot(betas, [efe*100 for efe in efficiencies])"
   ]
  }
 ],
 "metadata": {
  "kernelspec": {
   "display_name": "Python 3 (ipykernel)",
   "language": "python",
   "name": "python3"
  },
  "language_info": {
   "codemirror_mode": {
    "name": "ipython",
    "version": 3
   },
   "file_extension": ".py",
   "mimetype": "text/x-python",
   "name": "python",
   "nbconvert_exporter": "python",
   "pygments_lexer": "ipython3",
   "version": "3.11.8"
  }
 },
 "nbformat": 4,
 "nbformat_minor": 5
}
