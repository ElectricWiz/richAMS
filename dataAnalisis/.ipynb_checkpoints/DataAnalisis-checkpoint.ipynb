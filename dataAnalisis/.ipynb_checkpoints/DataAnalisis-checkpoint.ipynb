{
 "cells": [
  {
   "cell_type": "code",
   "execution_count": 86,
   "id": "d5111f05-61ed-4d85-9210-5ad927fc6f17",
   "metadata": {
    "scrolled": true
   },
   "outputs": [],
   "source": [
    "import pandas as pd\n",
    "import numpy as np\n",
    "import matplotlib.pyplot as plt\n",
    "import gc\n",
    "import math\n"
   ]
  },
  {
   "cell_type": "code",
   "execution_count": 87,
   "id": "63348115-839e-4dca-ae47-b9425128dc6c",
   "metadata": {},
   "outputs": [
    {
     "name": "stdout",
     "output_type": "stream",
     "text": [
      "Tree: PrimaryParticle\n",
      "  Branch: energyPrimary\n",
      "  Branch: eventNumber\n",
      "Tree: Detectors\n",
      "  Branch: detectorPositionX\n",
      "  Branch: detectorPositionY\n",
      "  Branch: eventNumber\n",
      "Tree: CircleCenter\n",
      "  Branch: centerX\n",
      "  Branch: centerY\n",
      "  Branch: eventNumber\n"
     ]
    }
   ],
   "source": [
    "import ROOT\n",
    "\n",
    "# Open the .root file\n",
    "file = ROOT.TFile(\"aero3_0.root\")\n",
    "\n",
    "# Iterate over all items in the file\n",
    "for key in file.GetListOfKeys():\n",
    "    obj = key.ReadObj()\n",
    "    # Check if the object is a tree\n",
    "    if isinstance(obj, ROOT.TTree):\n",
    "        tree_name = obj.GetName()\n",
    "        print(f\"Tree: {tree_name}\")\n",
    "        \n",
    "        # List all branches in the tree\n",
    "        branches = obj.GetListOfBranches()\n",
    "        for branch in branches:\n",
    "            print(f\"  Branch: {branch.GetName()}\")\n"
   ]
  },
  {
   "cell_type": "code",
   "execution_count": 88,
   "id": "680d6d50-493f-4c8a-b429-ce1870627557",
   "metadata": {},
   "outputs": [],
   "source": [
    "# Access the 'Detectors' tree\n",
    "tree = file.Get(\"Detectors\")\n",
    "\n",
    "# Define the branches you want to extract\n",
    "branches = ['detectorPositionX', 'detectorPositionY', 'eventNumber']\n",
    "\n",
    "# Determine the total number of entries\n",
    "total_entries = tree.GetEntries()\n",
    "\n",
    "# Define the chunk size\n",
    "chunk_size = 15000000 # Adjust based on your system's RAM\n",
    "\n",
    "# Initialize an empty DataFrame for the final result\n",
    "df = pd.DataFrame()\n",
    "\n",
    "# Process the tree in chunks\n",
    "for start in range(0, total_entries, chunk_size):\n",
    "    end = min(start + chunk_size, total_entries)\n",
    "    data_list = []\n",
    "\n",
    "    # Loop over the entries in the current chunk\n",
    "    for i in range(start, end):\n",
    "        tree.GetEntry(i)\n",
    "        # Access branch data directly\n",
    "        data = {branch: getattr(tree, branch) for branch in branches}\n",
    "        data_list.append(data)\n",
    "\n",
    "    # Convert the chunk to a DataFrame\n",
    "    chunk_df = pd.DataFrame(data_list)\n",
    "\n",
    "    # Convert the 'detectorPositionX' and 'detectorPositionY' columns to float32\n",
    "    chunk_df['detectorPositionX'] = chunk_df['detectorPositionX'].astype('float32')\n",
    "    chunk_df['detectorPositionY'] = chunk_df['detectorPositionY'].astype('float32')\n",
    "\n",
    "    # Convert the 'eventNumber' column to int32\n",
    "    chunk_df['eventNumber'] = chunk_df['eventNumber'].astype('int32')\n",
    "\n",
    "    # Append the chunk DataFrame to the main DataFrame\n",
    "    df = pd.concat([df, chunk_df], ignore_index=True)\n",
    "\n",
    "    # Delete the chunk DataFrame and the data list to free up memory\n",
    "    del chunk_df\n",
    "    del data_list\n",
    "\n",
    "    # Force the garbage collector to release unreferenced memory\n",
    "    gc.collect()\n"
   ]
  },
  {
   "cell_type": "code",
   "execution_count": 89,
   "id": "60c0fb1b-7d90-44cc-b26d-f0fef1983c0b",
   "metadata": {},
   "outputs": [
    {
     "data": {
      "text/html": [
       "<div>\n",
       "<style scoped>\n",
       "    .dataframe tbody tr th:only-of-type {\n",
       "        vertical-align: middle;\n",
       "    }\n",
       "\n",
       "    .dataframe tbody tr th {\n",
       "        vertical-align: top;\n",
       "    }\n",
       "\n",
       "    .dataframe thead th {\n",
       "        text-align: right;\n",
       "    }\n",
       "</style>\n",
       "<table border=\"1\" class=\"dataframe\">\n",
       "  <thead>\n",
       "    <tr style=\"text-align: right;\">\n",
       "      <th></th>\n",
       "      <th>detectorPositionX</th>\n",
       "      <th>detectorPositionY</th>\n",
       "      <th>eventNumber</th>\n",
       "    </tr>\n",
       "  </thead>\n",
       "  <tbody>\n",
       "    <tr>\n",
       "      <th>0</th>\n",
       "      <td>-405.75</td>\n",
       "      <td>124.25</td>\n",
       "      <td>29</td>\n",
       "    </tr>\n",
       "    <tr>\n",
       "      <th>1</th>\n",
       "      <td>-245.75</td>\n",
       "      <td>464.25</td>\n",
       "      <td>29</td>\n",
       "    </tr>\n",
       "    <tr>\n",
       "      <th>2</th>\n",
       "      <td>-505.75</td>\n",
       "      <td>194.25</td>\n",
       "      <td>29</td>\n",
       "    </tr>\n",
       "    <tr>\n",
       "      <th>3</th>\n",
       "      <td>-165.75</td>\n",
       "      <td>284.25</td>\n",
       "      <td>29</td>\n",
       "    </tr>\n",
       "    <tr>\n",
       "      <th>4</th>\n",
       "      <td>-325.75</td>\n",
       "      <td>174.25</td>\n",
       "      <td>29</td>\n",
       "    </tr>\n",
       "    <tr>\n",
       "      <th>...</th>\n",
       "      <td>...</td>\n",
       "      <td>...</td>\n",
       "      <td>...</td>\n",
       "    </tr>\n",
       "    <tr>\n",
       "      <th>6411495</th>\n",
       "      <td>124.25</td>\n",
       "      <td>444.25</td>\n",
       "      <td>9995</td>\n",
       "    </tr>\n",
       "    <tr>\n",
       "      <th>6411496</th>\n",
       "      <td>54.25</td>\n",
       "      <td>314.25</td>\n",
       "      <td>9995</td>\n",
       "    </tr>\n",
       "    <tr>\n",
       "      <th>6411497</th>\n",
       "      <td>204.25</td>\n",
       "      <td>314.25</td>\n",
       "      <td>9995</td>\n",
       "    </tr>\n",
       "    <tr>\n",
       "      <th>6411498</th>\n",
       "      <td>204.25</td>\n",
       "      <td>314.25</td>\n",
       "      <td>9995</td>\n",
       "    </tr>\n",
       "    <tr>\n",
       "      <th>6411499</th>\n",
       "      <td>204.25</td>\n",
       "      <td>314.25</td>\n",
       "      <td>9995</td>\n",
       "    </tr>\n",
       "  </tbody>\n",
       "</table>\n",
       "<p>6411500 rows × 3 columns</p>\n",
       "</div>"
      ],
      "text/plain": [
       "         detectorPositionX  detectorPositionY  eventNumber\n",
       "0                  -405.75             124.25           29\n",
       "1                  -245.75             464.25           29\n",
       "2                  -505.75             194.25           29\n",
       "3                  -165.75             284.25           29\n",
       "4                  -325.75             174.25           29\n",
       "...                    ...                ...          ...\n",
       "6411495             124.25             444.25         9995\n",
       "6411496              54.25             314.25         9995\n",
       "6411497             204.25             314.25         9995\n",
       "6411498             204.25             314.25         9995\n",
       "6411499             204.25             314.25         9995\n",
       "\n",
       "[6411500 rows x 3 columns]"
      ]
     },
     "execution_count": 89,
     "metadata": {},
     "output_type": "execute_result"
    }
   ],
   "source": [
    "df"
   ]
  },
  {
   "cell_type": "code",
   "execution_count": 90,
   "id": "faea0694-d0f0-4a51-93d0-d3d88509ad6a",
   "metadata": {},
   "outputs": [],
   "source": [
    "# Access the 'PrimaryParticle' tree\n",
    "tree1 = file.Get(\"PrimaryParticle\")\n",
    "\n",
    "# Define the branches you want to extract from the 'PrimaryParticle' tree\n",
    "branches1 = ['energyPrimary', 'eventNumber']\n",
    "\n",
    "# Determine the total number of entries in the 'PrimaryParticle' tree\n",
    "total_entries1 = tree1.GetEntries()\n",
    "\n",
    "# Initialize an empty DataFrame for the final result\n",
    "df1 = pd.DataFrame()\n",
    "\n",
    "for start in range(0, total_entries1, chunk_size):\n",
    "    end = min(start + chunk_size, total_entries1)\n",
    "    data_list1 = []\n",
    "\n",
    "    # Loop over the entries in the current chunk\n",
    "    for i in range(start, end):\n",
    "        tree1.GetEntry(i)\n",
    "        # Access branch data directly\n",
    "        data1 = {branch: getattr(tree1, branch) for branch in branches1}\n",
    "        data_list1.append(data1)\n",
    "\n",
    "    # Convert the chunk to a DataFrame\n",
    "    chunk_df1 = pd.DataFrame(data_list1)\n",
    "\n",
    "    # Divide the 'energyPrimary' column by 1000 and convert to float16\n",
    "    chunk_df1['energyPrimary'] = (chunk_df1['energyPrimary'] / 1000).astype('float16')\n",
    "\n",
    "    # Convert the 'eventNumber' column to int32\n",
    "    chunk_df1['eventNumber'] = chunk_df1['eventNumber'].astype('int32')\n",
    "\n",
    "    # Append the chunk DataFrame to the main DataFrame\n",
    "    df1 = pd.concat([df1, chunk_df1], ignore_index=True)\n",
    "\n",
    "    # Delete the chunk DataFrame and the data list to free up memory\n",
    "    del chunk_df1\n",
    "    del data_list1\n",
    "\n",
    "    # Force the garbage collector to release unreferenced memory\n",
    "    gc.collect()"
   ]
  },
  {
   "cell_type": "code",
   "execution_count": 91,
   "id": "8a3b8fa3-25dd-4668-9d32-97e954d5e18f",
   "metadata": {},
   "outputs": [],
   "source": [
    "# Access the 'CircleCenter' tree\n",
    "tree = file.Get(\"CircleCenter\")\n",
    "\n",
    "# Define the branches you want to extract\n",
    "branches = ['centerX', 'centerY', 'eventNumber']\n",
    "\n",
    "# Determine the total number of entries\n",
    "total_entries = tree.GetEntries()\n",
    "\n",
    "# Define the chunk size\n",
    "chunk_size = 15000000 # Adjust based on your system's RAM\n",
    "\n",
    "# Initialize an empty DataFrame for the final result\n",
    "df2 = pd.DataFrame()\n",
    "\n",
    "# Process the tree in chunks\n",
    "for start in range(0, total_entries, chunk_size):\n",
    "    end = min(start + chunk_size, total_entries)\n",
    "    data_list = []\n",
    "\n",
    "    # Loop over the entries in the current chunk\n",
    "    for i in range(start, end):\n",
    "        tree.GetEntry(i)\n",
    "        # Access branch data directly\n",
    "        data = {branch: getattr(tree, branch) for branch in branches}\n",
    "        data_list.append(data)\n",
    "\n",
    "    # Convert the chunk to a DataFrame\n",
    "    chunk_df2 = pd.DataFrame(data_list)\n",
    "\n",
    "    # Append the chunk DataFrame to the main DataFrame\n",
    "    df2 = pd.concat([df2, chunk_df2], ignore_index=True)\n",
    "\n",
    "    # Delete the chunk DataFrame and the data list to free up memory\n",
    "    del chunk_df2\n",
    "    del data_list\n",
    "\n",
    "    # Force the garbage collector to release unreferenced memory\n",
    "    gc.collect()"
   ]
  },
  {
   "cell_type": "code",
   "execution_count": 92,
   "id": "324c69ab-f674-4a95-824c-8ccb54d13d26",
   "metadata": {},
   "outputs": [],
   "source": [
    "df = df[~((df['detectorPositionX'] == 0) & (df['detectorPositionY'] == 0))]"
   ]
  },
  {
   "cell_type": "code",
   "execution_count": 93,
   "id": "8597521e-ec5e-4969-a0e6-bc115041640c",
   "metadata": {},
   "outputs": [
    {
     "data": {
      "text/plain": [
       "0"
      ]
     },
     "execution_count": 93,
     "metadata": {},
     "output_type": "execute_result"
    }
   ],
   "source": [
    "df1 = df1[df1['eventNumber'].isin(df['eventNumber'])]\n",
    "gc.collect()"
   ]
  },
  {
   "cell_type": "code",
   "execution_count": 94,
   "id": "bac4a3b3-90a7-40b3-a037-dc04be832b05",
   "metadata": {},
   "outputs": [
    {
     "name": "stderr",
     "output_type": "stream",
     "text": [
      "/tmp/ipykernel_7451/2826935924.py:2: SettingWithCopyWarning: \n",
      "A value is trying to be set on a copy of a slice from a DataFrame.\n",
      "Try using .loc[row_indexer,col_indexer] = value instead\n",
      "\n",
      "See the caveats in the documentation: https://pandas.pydata.org/pandas-docs/stable/user_guide/indexing.html#returning-a-view-versus-a-copy\n",
      "  df.loc[:, 'duplicates_count'] = df.groupby(['eventNumber', 'detectorPositionX', 'detectorPositionY'])['eventNumber'].transform('count')\n"
     ]
    }
   ],
   "source": [
    "# Create a new column 'duplicates_count' that counts the number of duplicates for each ['eventNumber', 'detectorPositionX', 'detectorPositionY'] group\n",
    "df.loc[:, 'duplicates_count'] = df.groupby(['eventNumber', 'detectorPositionX', 'detectorPositionY'])['eventNumber'].transform('count')\n",
    "\n",
    "# Now, drop the duplicates\n",
    "df = df.drop_duplicates(subset=['eventNumber', 'detectorPositionX', 'detectorPositionY'])"
   ]
  },
  {
   "cell_type": "code",
   "execution_count": 95,
   "id": "cc36689e-25d6-4597-9da5-09bd0890ae10",
   "metadata": {},
   "outputs": [
    {
     "data": {
      "text/plain": [
       "'# Filter the DataFrame for a specific eventNumber\\nevent_number = df[\"eventNumber\"].max() \\t \\t  # replace with your desired event number\\ndf_event = df[df[\\'eventNumber\\'] == event_number]\\n\\n# Create a scatter plot of detectorPositionX and detectorPositionY\\nplt.scatter(df_event[\\'detectorPositionX\\'], df_event[\\'detectorPositionY\\'])\\n\\n# Set the labels for the x and y axes\\nplt.xlabel(\\'detectorPositionX\\')\\nplt.ylabel(\\'detectorPositionY\\')\\n\\n# Show the plot\\nplt.show()'"
      ]
     },
     "execution_count": 95,
     "metadata": {},
     "output_type": "execute_result"
    }
   ],
   "source": [
    "\"\"\"# Filter the DataFrame for a specific eventNumber\n",
    "event_number = df[\"eventNumber\"].max() \t \t  # replace with your desired event number\n",
    "df_event = df[df['eventNumber'] == event_number]\n",
    "\n",
    "# Create a scatter plot of detectorPositionX and detectorPositionY\n",
    "plt.scatter(df_event['detectorPositionX'], df_event['detectorPositionY'])\n",
    "\n",
    "# Set the labels for the x and y axes\n",
    "plt.xlabel('detectorPositionX')\n",
    "plt.ylabel('detectorPositionY')\n",
    "\n",
    "# Show the plot\n",
    "plt.show()\"\"\""
   ]
  },
  {
   "cell_type": "code",
   "execution_count": 96,
   "id": "61f10b84-2d98-40d3-b985-678f29bcb5c4",
   "metadata": {},
   "outputs": [],
   "source": [
    "from scipy.integrate import quad\n",
    "from scipy.stats import norm\n",
    "\n",
    "x0 = 40\n",
    "x1 = 250\n",
    "\n",
    "def gaussian(x):\n",
    "    A = 1.2e7\n",
    "    mu = 0\n",
    "    sigma = 22.5\n",
    "    return A * np.where(x < x0, norm.pdf(x, mu, sigma) / norm.pdf(mu, mu, sigma), 0)/1e6\n",
    "\n",
    "def powerlaw1(x, a1, k1, x0):\n",
    "    x_shifted = x - np.min(x) + 1e-5\n",
    "    return (a1 * ((x_shifted) / (x0 + 1e-5)) ** -k1)/1e6\n",
    "\n",
    "def powerlaw2(x, a2, k2, x1):\n",
    "    x_shifted = x - np.min(x) + 1e-5\n",
    "    return (a2 * ((x_shifted) / (x1 + 1e-5)) ** -k2)/1e6\n",
    "\n",
    "def combined_function(x, a1 = 6.08363849e+05, k1 = 1.47539451e+00, a2 = 3.38685391e+04 , k2 = 3.69204990e+00, x0 = 40, x1 = 250):\n",
    "    return np.where(x < x0, gaussian(x),\n",
    "                    np.where(x < x1, powerlaw1(x, a1, k1, x0),\n",
    "                             powerlaw2(x, a2, k2, x1)))"
   ]
  },
  {
   "cell_type": "code",
   "execution_count": 97,
   "id": "e89046ee-ebeb-44ed-9700-c0bfe1a2a146",
   "metadata": {},
   "outputs": [],
   "source": [
    "from scipy.optimize import minimize\n",
    "\n",
    "# Define the negative log-likelihood function using the normalized combined function\n",
    "def negative_log_likelihood(params, x, y):\n",
    "    a, b, r = params\n",
    "    ri = np.sqrt((x - a)**2 + (y - b)**2) - r\n",
    "    probabilities = combined_function(ri)\n",
    "    # Avoid taking the log of zero by adding a small number epsilon\n",
    "    epsilon = 1e-10\n",
    "    nll = -np.sum(np.log(probabilities + epsilon))\n",
    "    return nll\n",
    "\n",
    "# List to store the optimized parameters for each event\n",
    "optimized_params_list = []\n",
    "\n",
    "# Get unique event numbers\n",
    "unique_events = df['eventNumber'].unique()\n",
    "\n",
    "# Loop over each event number\n",
    "for event in unique_events:  \n",
    "    # Filter the DataFrame for the current event\n",
    "    event_data = df[df['eventNumber'] == event]\n",
    "    \n",
    "    # Check if the event exists in df2\n",
    "    if event in df2['eventNumber'].values:\n",
    "        # Get the \"real center\" for the current event from df2\n",
    "        real_center = df2[df2['eventNumber'] == event][['centerX', 'centerY']].values[0]\n",
    "        \n",
    "        # Initial guess for the circle's radius (r)\n",
    "        initial_guess_r = np.sqrt(np.mean((event_data['detectorPositionX'] - real_center[0])**2 +\n",
    "                                          (event_data['detectorPositionY'] - real_center[1])**2))\n",
    "        initial_guess = [real_center[0], real_center[1], initial_guess_r]\n",
    "\n",
    "        # Minimize the negative log-likelihood\n",
    "        result = minimize(\n",
    "            negative_log_likelihood,\n",
    "            initial_guess,\n",
    "            args=(event_data['detectorPositionX'].values,\n",
    "                  event_data['detectorPositionY'].values)\n",
    "        )\n",
    "\n",
    "        # Check if the optimization was successful\n",
    "        if result.success:\n",
    "            # Store the optimized parameters along with the event number\n",
    "            optimized_params_list.append({\n",
    "                'eventNumber': event,\n",
    "                'centerX': result.x[0],\n",
    "                'centerY': result.x[1],\n",
    "                'radius': result.x[2]\n",
    "            })\n",
    "\n",
    "# Create a DataFrame from the list of optimized parameters\n",
    "optimized_params_df = pd.DataFrame(optimized_params_list)"
   ]
  },
  {
   "cell_type": "code",
   "execution_count": 98,
   "id": "82c3acb4-1973-484f-9fe0-44e798812f1e",
   "metadata": {},
   "outputs": [],
   "source": [
    "# Merge the optimized parameters back to the original DataFrame\n",
    "# This assumes that 'eventNumber' is a column in both `df` and `optimized_params_df`\n",
    "# And that 'centerX' and 'centerY' are the columns in `optimized_params_df`\n",
    "df = pd.merge(df, optimized_params_df, on='eventNumber', how='left', suffixes=('', '_new'))\n",
    "\n",
    "# If you end up with duplicate columns like 'centerX_x' and 'centerX_y', you can rename them\n",
    "# For example, if 'centerX_new' is the optimized centerX, you might want to keep that\n",
    "df.rename(columns={'centerX_new': 'centerX', 'centerY_new': 'centerY'}, inplace=True)\n",
    "# If 'centerX' and 'centerY' from the original df are not needed, you can drop them"
   ]
  },
  {
   "cell_type": "code",
   "execution_count": 99,
   "id": "4cb5e72f-02f7-4057-a85b-5f0a12f522e8",
   "metadata": {},
   "outputs": [
    {
     "data": {
      "text/plain": [
       "672"
      ]
     },
     "execution_count": 99,
     "metadata": {},
     "output_type": "execute_result"
    }
   ],
   "source": [
    "# Merge df with df1 on 'eventNumber', keeping only 'energyprimary' from df1\n",
    "df = df.merge(df1[['eventNumber', 'energyPrimary']], on='eventNumber', how='left')\n",
    "del df1\n",
    "gc.collect()"
   ]
  },
  {
   "cell_type": "code",
   "execution_count": 100,
   "id": "700677f1-4296-434d-bc1e-8d085b9189fb",
   "metadata": {},
   "outputs": [],
   "source": [
    "#df_copy = df.copy()"
   ]
  },
  {
   "cell_type": "code",
   "execution_count": 101,
   "id": "629bc60a-7bc3-44d8-8c6c-758c2aa517f9",
   "metadata": {},
   "outputs": [],
   "source": [
    "def calculate_half_angle(radius, height):\n",
    "    # Check if height is non-zero to avoid division by zero\n",
    "    if np.any(height == 0):\n",
    "        raise ValueError(\"Height cannot be zero.\")\n",
    "\n",
    "    # Calculate the tangent of the half angle\n",
    "    tan_half_angle = radius / height\n",
    "\n",
    "    # Use arctangent to find the half angle in radians\n",
    "    half_angle_radians = np.arctan(tan_half_angle)\n",
    "\n",
    "    # Convert radians to degrees\n",
    "    half_angle_degrees = np.degrees(half_angle_radians)\n",
    "\n",
    "    return half_angle_degrees\n",
    "\n",
    "def calculate_beta(cherenkov_angle, refractive_index):\n",
    "    # Check if refractive index is non-zero to avoid division by zero\n",
    "    if np.any(refractive_index == 0):\n",
    "        raise ValueError(\"Refractive index cannot be zero.\")\n",
    "\n",
    "    # Calculate beta using the Cherenkov angle and refractive index\n",
    "    beta = 1 / np.cos(np.radians(cherenkov_angle)) / refractive_index\n",
    "\n",
    "    return beta\n",
    "\n",
    "def calculate_beta_proton(energy_gev):\n",
    "    # Rest mass energy of a proton in MeV\n",
    "    rest_mass_energy_mev = 938.272\n",
    "\n",
    "    # Convert energy from GeV to MeV\n",
    "    energy_mev = energy_gev * 1000\n",
    "\n",
    "    # Calculate the Lorentz factor\n",
    "    gamma = 1 + (energy_mev / rest_mass_energy_mev)\n",
    "\n",
    "    # Calculate beta using the Lorentz factor\n",
    "    beta = np.sqrt(1 - 1 / gamma**2)\n",
    "\n",
    "    return beta\n",
    "\n",
    "def calculate_radius(ene, refractive_index = 1.05, h = 76.5):\n",
    "    beta = calculate_beta_proton(4.5)\n",
    "\n",
    "    return h*math.tan(math.acos(1/(beta*refractive_index)))*10"
   ]
  },
  {
   "cell_type": "code",
   "execution_count": 102,
   "id": "71f85132-7aff-4c09-bc2e-8c880cdbee5b",
   "metadata": {},
   "outputs": [],
   "source": [
    "df[\"radius_gev\"] = calculate_radius(3.0)"
   ]
  },
  {
   "cell_type": "code",
   "execution_count": 103,
   "id": "5439aab3-d37a-4bb4-9677-09d30b8c6bea",
   "metadata": {},
   "outputs": [
    {
     "data": {
      "text/plain": [
       "201.93947956579464"
      ]
     },
     "execution_count": 103,
     "metadata": {},
     "output_type": "execute_result"
    }
   ],
   "source": [
    "calculate_radius(3.0)"
   ]
  },
  {
   "cell_type": "code",
   "execution_count": 104,
   "id": "570e67bb-aa5e-45f0-9507-32e438753e50",
   "metadata": {},
   "outputs": [],
   "source": [
    "#angles = calculate_half_angle(df[\"radius\"]*.1, 76.5)"
   ]
  },
  {
   "cell_type": "code",
   "execution_count": 105,
   "id": "034473aa-6baf-4130-a003-751c7351d244",
   "metadata": {},
   "outputs": [],
   "source": [
    "#df[\"beta_hat\"] = calculate_beta(angles, 1.05)"
   ]
  },
  {
   "cell_type": "code",
   "execution_count": 106,
   "id": "22327e78-7342-4f7c-b468-7b8f6d04b138",
   "metadata": {},
   "outputs": [],
   "source": [
    "#df[\"betas\"] = calculate_beta_proton(df[\"energyPrimary\"])"
   ]
  },
  {
   "cell_type": "code",
   "execution_count": 107,
   "id": "1ce8c509-28ee-4a01-9278-4633fc909f04",
   "metadata": {},
   "outputs": [],
   "source": [
    "#df.describe()"
   ]
  },
  {
   "cell_type": "code",
   "execution_count": 108,
   "id": "9e91426d-ddf5-4bb8-81ca-d07bdb8998f2",
   "metadata": {},
   "outputs": [
    {
     "data": {
      "text/plain": [
       "'plt.hist(df[\"beta_hat\"], bins=100, log=True\\n        )  # Choose the number of bins that suits your data\\nplt.title(\\'Histogram of beta_hat\\')\\nplt.xlabel(\\'Value\\')\\nplt.ylabel(\\'Frequency\\')\\nplt.show()'"
      ]
     },
     "execution_count": 108,
     "metadata": {},
     "output_type": "execute_result"
    }
   ],
   "source": [
    "\"\"\"plt.hist(df[\"beta_hat\"], bins=100, log=True\n",
    "        )  # Choose the number of bins that suits your data\n",
    "plt.title('Histogram of beta_hat')\n",
    "plt.xlabel('Value')\n",
    "plt.ylabel('Frequency')\n",
    "plt.show()\"\"\""
   ]
  },
  {
   "cell_type": "code",
   "execution_count": 109,
   "id": "69d130bd-f0d8-4414-8ce4-45005f895e5b",
   "metadata": {},
   "outputs": [
    {
     "data": {
      "text/plain": [
       "0.9908140479722277"
      ]
     },
     "execution_count": 109,
     "metadata": {},
     "output_type": "execute_result"
    }
   ],
   "source": [
    "import numpy as np\n",
    "\n",
    "calculate_beta_proton(6.0)"
   ]
  },
  {
   "cell_type": "code",
   "execution_count": 110,
   "id": "2b754f04",
   "metadata": {
    "scrolled": true
   },
   "outputs": [
    {
     "data": {
      "text/plain": [
       "\"import tensorflow as tf\\n\\n# Group the DataFrame by 'eventNumber' and save each group as an element in a list\\ngroups = [group for _, group in df.groupby('eventNumber')]\\n\\n# Get the labels (the 'eventNumber' column)\\nlabels = df.groupby('eventNumber')['energyPrimary'].first().values\\n#del df\\ndel df_copy\\ngc.collect()\""
      ]
     },
     "execution_count": 110,
     "metadata": {},
     "output_type": "execute_result"
    }
   ],
   "source": [
    "\"\"\"import tensorflow as tf\n",
    "\n",
    "# Group the DataFrame by 'eventNumber' and save each group as an element in a list\n",
    "groups = [group for _, group in df.groupby('eventNumber')]\n",
    "\n",
    "# Get the labels (the 'eventNumber' column)\n",
    "labels = df.groupby('eventNumber')['energyPrimary'].first().values\n",
    "#del df\n",
    "del df_copy\n",
    "gc.collect()\"\"\""
   ]
  },
  {
   "cell_type": "code",
   "execution_count": 111,
   "id": "3105a579",
   "metadata": {},
   "outputs": [
    {
     "data": {
      "text/plain": [
       "\"def serialize_example(group, label):\\n    # Convert the 'detectorPositionX', 'detectorPositionY', 'duplicates_count' columns to floats\\n    detectorPositionX_floats = group['detectorPositionX'].values.astype(float)\\n    detectorPositionY_floats = group['detectorPositionY'].values.astype(float)\\n    duplicates_count_floats = group['duplicates_count'].values.astype(float)\\n    label_float = float(label)\\n\\n    feature = {\\n        'detectorPositionX': tf.train.Feature(float_list=tf.train.FloatList(value=detectorPositionX_floats)),\\n        'detectorPositionY': tf.train.Feature(float_list=tf.train.FloatList(value=detectorPositionY_floats)),\\n        'duplicates_count': tf.train.Feature(float_list=tf.train.FloatList(value=duplicates_count_floats)),\\n        'label': tf.train.Feature(float_list=tf.train.FloatList(value=[label_float])),\\n    }\\n    example_proto = tf.train.Example(features=tf.train.Features(feature=feature))\\n    return example_proto.SerializeToString()\\n\\n# Write the dataset to a TFRecord file\\nwith tf.io.TFRecordWriter('aero9_9.tfrecords') as writer:\\n    for group, label in zip(groups, labels):\\n        example = serialize_example(group, label)\\n        writer.write(example)\\n\\ndel groups\\ndel labels\\ngc.collect()\""
      ]
     },
     "execution_count": 111,
     "metadata": {},
     "output_type": "execute_result"
    }
   ],
   "source": [
    "\"\"\"def serialize_example(group, label):\n",
    "    # Convert the 'detectorPositionX', 'detectorPositionY', 'duplicates_count' columns to floats\n",
    "    detectorPositionX_floats = group['detectorPositionX'].values.astype(float)\n",
    "    detectorPositionY_floats = group['detectorPositionY'].values.astype(float)\n",
    "    duplicates_count_floats = group['duplicates_count'].values.astype(float)\n",
    "    label_float = float(label)\n",
    "\n",
    "    feature = {\n",
    "        'detectorPositionX': tf.train.Feature(float_list=tf.train.FloatList(value=detectorPositionX_floats)),\n",
    "        'detectorPositionY': tf.train.Feature(float_list=tf.train.FloatList(value=detectorPositionY_floats)),\n",
    "        'duplicates_count': tf.train.Feature(float_list=tf.train.FloatList(value=duplicates_count_floats)),\n",
    "        'label': tf.train.Feature(float_list=tf.train.FloatList(value=[label_float])),\n",
    "    }\n",
    "    example_proto = tf.train.Example(features=tf.train.Features(feature=feature))\n",
    "    return example_proto.SerializeToString()\n",
    "\n",
    "# Write the dataset to a TFRecord file\n",
    "with tf.io.TFRecordWriter('aero9_9.tfrecords') as writer:\n",
    "    for group, label in zip(groups, labels):\n",
    "        example = serialize_example(group, label)\n",
    "        writer.write(example)\n",
    "\n",
    "del groups\n",
    "del labels\n",
    "gc.collect()\"\"\""
   ]
  },
  {
   "cell_type": "code",
   "execution_count": 112,
   "id": "17019f09-1e09-42f2-8cb8-7e2527e53000",
   "metadata": {},
   "outputs": [],
   "source": [
    "df[\"residual\"] = np.abs(np.sqrt((df[\"detectorPositionX\"] - df[\"centerX\"])**2 + (df[\"detectorPositionY\"] - df[\"centerY\"])**2) - df[\"radius_gev\"])"
   ]
  },
  {
   "cell_type": "code",
   "execution_count": 113,
   "id": "b0a4c99b-2ea1-4d28-869c-d8211047f0fb",
   "metadata": {},
   "outputs": [],
   "source": [
    "# Group the entire DataFrame by 'eventNumber'\n",
    "total_counts = df.groupby('eventNumber').size()\n",
    "\n",
    "# Group by 'eventNumber' and sum 'residual' for each group\n",
    "sum_residual = df.groupby('eventNumber')['residual'].sum()\n",
    "\n",
    "# Calculate variance as a Series\n",
    "variance_series = sum_residual / total_counts\n",
    "\n",
    "# Convert the Series to a DataFrame and reset the index\n",
    "variance_df = variance_series.reset_index()\n",
    "\n",
    "# Rename the columns\n",
    "variance_df.columns = ['eventNumber', 'variance']"
   ]
  },
  {
   "cell_type": "code",
   "execution_count": 115,
   "id": "e9c4aeec-a0ce-40cf-8a59-bacca43afe6f",
   "metadata": {},
   "outputs": [
    {
     "data": {
      "text/html": [
       "<div>\n",
       "<style scoped>\n",
       "    .dataframe tbody tr th:only-of-type {\n",
       "        vertical-align: middle;\n",
       "    }\n",
       "\n",
       "    .dataframe tbody tr th {\n",
       "        vertical-align: top;\n",
       "    }\n",
       "\n",
       "    .dataframe thead th {\n",
       "        text-align: right;\n",
       "    }\n",
       "</style>\n",
       "<table border=\"1\" class=\"dataframe\">\n",
       "  <thead>\n",
       "    <tr style=\"text-align: right;\">\n",
       "      <th></th>\n",
       "      <th>eventNumber</th>\n",
       "      <th>variance</th>\n",
       "    </tr>\n",
       "  </thead>\n",
       "  <tbody>\n",
       "    <tr>\n",
       "      <th>94</th>\n",
       "      <td>98</td>\n",
       "      <td>462.141629</td>\n",
       "    </tr>\n",
       "    <tr>\n",
       "      <th>317</th>\n",
       "      <td>329</td>\n",
       "      <td>521.003804</td>\n",
       "    </tr>\n",
       "    <tr>\n",
       "      <th>1752</th>\n",
       "      <td>1764</td>\n",
       "      <td>838.906846</td>\n",
       "    </tr>\n",
       "    <tr>\n",
       "      <th>2213</th>\n",
       "      <td>2225</td>\n",
       "      <td>569.260282</td>\n",
       "    </tr>\n",
       "    <tr>\n",
       "      <th>2293</th>\n",
       "      <td>2305</td>\n",
       "      <td>631.931197</td>\n",
       "    </tr>\n",
       "    <tr>\n",
       "      <th>2482</th>\n",
       "      <td>2494</td>\n",
       "      <td>501.022525</td>\n",
       "    </tr>\n",
       "    <tr>\n",
       "      <th>2795</th>\n",
       "      <td>2807</td>\n",
       "      <td>459.542348</td>\n",
       "    </tr>\n",
       "    <tr>\n",
       "      <th>2996</th>\n",
       "      <td>3008</td>\n",
       "      <td>472.180200</td>\n",
       "    </tr>\n",
       "    <tr>\n",
       "      <th>3081</th>\n",
       "      <td>3093</td>\n",
       "      <td>735.965324</td>\n",
       "    </tr>\n",
       "    <tr>\n",
       "      <th>3372</th>\n",
       "      <td>3384</td>\n",
       "      <td>463.545282</td>\n",
       "    </tr>\n",
       "    <tr>\n",
       "      <th>4160</th>\n",
       "      <td>4173</td>\n",
       "      <td>497.671568</td>\n",
       "    </tr>\n",
       "    <tr>\n",
       "      <th>4812</th>\n",
       "      <td>4826</td>\n",
       "      <td>517.950050</td>\n",
       "    </tr>\n",
       "    <tr>\n",
       "      <th>4887</th>\n",
       "      <td>4901</td>\n",
       "      <td>517.215955</td>\n",
       "    </tr>\n",
       "    <tr>\n",
       "      <th>5221</th>\n",
       "      <td>5235</td>\n",
       "      <td>512.824564</td>\n",
       "    </tr>\n",
       "    <tr>\n",
       "      <th>5543</th>\n",
       "      <td>5558</td>\n",
       "      <td>796.073762</td>\n",
       "    </tr>\n",
       "    <tr>\n",
       "      <th>5758</th>\n",
       "      <td>5773</td>\n",
       "      <td>505.817721</td>\n",
       "    </tr>\n",
       "    <tr>\n",
       "      <th>7011</th>\n",
       "      <td>7027</td>\n",
       "      <td>527.404501</td>\n",
       "    </tr>\n",
       "    <tr>\n",
       "      <th>7143</th>\n",
       "      <td>7159</td>\n",
       "      <td>552.989747</td>\n",
       "    </tr>\n",
       "    <tr>\n",
       "      <th>7248</th>\n",
       "      <td>7264</td>\n",
       "      <td>607.962576</td>\n",
       "    </tr>\n",
       "    <tr>\n",
       "      <th>7300</th>\n",
       "      <td>7316</td>\n",
       "      <td>599.607199</td>\n",
       "    </tr>\n",
       "    <tr>\n",
       "      <th>9579</th>\n",
       "      <td>9595</td>\n",
       "      <td>618.146139</td>\n",
       "    </tr>\n",
       "  </tbody>\n",
       "</table>\n",
       "</div>"
      ],
      "text/plain": [
       "      eventNumber    variance\n",
       "94             98  462.141629\n",
       "317           329  521.003804\n",
       "1752         1764  838.906846\n",
       "2213         2225  569.260282\n",
       "2293         2305  631.931197\n",
       "2482         2494  501.022525\n",
       "2795         2807  459.542348\n",
       "2996         3008  472.180200\n",
       "3081         3093  735.965324\n",
       "3372         3384  463.545282\n",
       "4160         4173  497.671568\n",
       "4812         4826  517.950050\n",
       "4887         4901  517.215955\n",
       "5221         5235  512.824564\n",
       "5543         5558  796.073762\n",
       "5758         5773  505.817721\n",
       "7011         7027  527.404501\n",
       "7143         7159  552.989747\n",
       "7248         7264  607.962576\n",
       "7300         7316  599.607199\n",
       "9579         9595  618.146139"
      ]
     },
     "execution_count": 115,
     "metadata": {},
     "output_type": "execute_result"
    }
   ],
   "source": [
    "variance_df[variance_df[\"variance\"] > 450]"
   ]
  },
  {
   "cell_type": "code",
   "execution_count": 82,
   "id": "a1bbf282-c8c9-472b-9fe0-12622b5b15e9",
   "metadata": {},
   "outputs": [
    {
     "data": {
      "image/png": "[encoded data removed]",
      "text/plain": [
       "<Figure size 640x480 with 1 Axes>"
      ]
     },
     "metadata": {},
     "output_type": "display_data"
    }
   ],
   "source": [
    "import matplotlib.pyplot as plt\n",
    "\n",
    "# Create a histogram of the 'ratio' column\n",
    "plt.hist(variance, bins=100, range=(0, 500), log = True)\n",
    "\n",
    "# Set the title and labels\n",
    "plt.title('Histogram of Ratio per EventNumber')\n",
    "plt.xlabel('Ratio')\n",
    "plt.ylabel('Frequency')\n",
    "\n",
    "# Display the plot\n",
    "plt.show()"
   ]
  },
  {
   "cell_type": "code",
   "execution_count": 77,
   "id": "80695840-5511-4172-8bac-39d80b3d2934",
   "metadata": {},
   "outputs": [
    {
     "name": "stderr",
     "output_type": "stream",
     "text": [
      "/home/electric-wiz/miniconda3/envs/dataAnalysis/lib/python3.11/site-packages/pandas/core/nanops.py:1479: RuntimeWarning: overflow encountered in cast\n",
      "  return dtype.type(n)\n",
      "/home/electric-wiz/miniconda3/envs/dataAnalysis/lib/python3.11/site-packages/numpy/core/_methods.py:49: RuntimeWarning: overflow encountered in reduce\n",
      "  return umr_sum(a, axis, dtype, out, keepdims, initial, where)\n",
      "/home/electric-wiz/miniconda3/envs/dataAnalysis/lib/python3.11/site-packages/pandas/core/nanops.py:731: RuntimeWarning: invalid value encountered in scalar divide\n",
      "  the_mean = the_sum / count if count > 0 else np.nan\n"
     ]
    },
    {
     "data": {
      "text/html": [
       "<div>\n",
       "<style scoped>\n",
       "    .dataframe tbody tr th:only-of-type {\n",
       "        vertical-align: middle;\n",
       "    }\n",
       "\n",
       "    .dataframe tbody tr th {\n",
       "        vertical-align: top;\n",
       "    }\n",
       "\n",
       "    .dataframe thead th {\n",
       "        text-align: right;\n",
       "    }\n",
       "</style>\n",
       "<table border=\"1\" class=\"dataframe\">\n",
       "  <thead>\n",
       "    <tr style=\"text-align: right;\">\n",
       "      <th></th>\n",
       "      <th>detectorPositionX</th>\n",
       "      <th>detectorPositionY</th>\n",
       "      <th>eventNumber</th>\n",
       "      <th>duplicates_count</th>\n",
       "      <th>centerX</th>\n",
       "      <th>centerY</th>\n",
       "      <th>radius</th>\n",
       "      <th>energyPrimary</th>\n",
       "      <th>radius_gev</th>\n",
       "      <th>residual</th>\n",
       "      <th>variance</th>\n",
       "    </tr>\n",
       "  </thead>\n",
       "  <tbody>\n",
       "    <tr>\n",
       "      <th>count</th>\n",
       "      <td>3.103431e+06</td>\n",
       "      <td>3.103431e+06</td>\n",
       "      <td>3.103431e+06</td>\n",
       "      <td>3.103431e+06</td>\n",
       "      <td>2.696523e+06</td>\n",
       "      <td>2.696523e+06</td>\n",
       "      <td>2.696523e+06</td>\n",
       "      <td>3103431.0</td>\n",
       "      <td>3.103431e+06</td>\n",
       "      <td>2.696523e+06</td>\n",
       "      <td>9983.000000</td>\n",
       "    </tr>\n",
       "    <tr>\n",
       "      <th>mean</th>\n",
       "      <td>4.744717e+00</td>\n",
       "      <td>6.813457e+00</td>\n",
       "      <td>5.011417e+03</td>\n",
       "      <td>1.895343e+00</td>\n",
       "      <td>-2.163815e+00</td>\n",
       "      <td>-7.653253e-01</td>\n",
       "      <td>1.837092e+02</td>\n",
       "      <td>NaN</td>\n",
       "      <td>2.019395e+02</td>\n",
       "      <td>4.271381e+01</td>\n",
       "      <td>32.187919</td>\n",
       "    </tr>\n",
       "    <tr>\n",
       "      <th>std</th>\n",
       "      <td>2.739541e+02</td>\n",
       "      <td>2.734089e+02</td>\n",
       "      <td>2.894232e+03</td>\n",
       "      <td>3.272995e+00</td>\n",
       "      <td>2.491616e+02</td>\n",
       "      <td>2.498032e+02</td>\n",
       "      <td>5.375237e+01</td>\n",
       "      <td>0.0</td>\n",
       "      <td>2.842171e-13</td>\n",
       "      <td>5.888857e+01</td>\n",
       "      <td>39.121398</td>\n",
       "    </tr>\n",
       "    <tr>\n",
       "      <th>min</th>\n",
       "      <td>-6.457500e+02</td>\n",
       "      <td>-6.457500e+02</td>\n",
       "      <td>1.000000e+00</td>\n",
       "      <td>1.000000e+00</td>\n",
       "      <td>-6.457500e+02</td>\n",
       "      <td>-5.957500e+02</td>\n",
       "      <td>1.533806e+02</td>\n",
       "      <td>3.0</td>\n",
       "      <td>2.019395e+02</td>\n",
       "      <td>2.980046e-01</td>\n",
       "      <td>0.000000</td>\n",
       "    </tr>\n",
       "    <tr>\n",
       "      <th>25%</th>\n",
       "      <td>-2.057500e+02</td>\n",
       "      <td>-1.957500e+02</td>\n",
       "      <td>2.501000e+03</td>\n",
       "      <td>1.000000e+00</td>\n",
       "      <td>-2.057500e+02</td>\n",
       "      <td>-2.057500e+02</td>\n",
       "      <td>1.689834e+02</td>\n",
       "      <td>3.0</td>\n",
       "      <td>2.019395e+02</td>\n",
       "      <td>2.193948e+01</td>\n",
       "      <td>32.330103</td>\n",
       "    </tr>\n",
       "    <tr>\n",
       "      <th>50%</th>\n",
       "      <td>4.250000e+00</td>\n",
       "      <td>4.250000e+00</td>\n",
       "      <td>5.021000e+03</td>\n",
       "      <td>2.000000e+00</td>\n",
       "      <td>-5.750000e+00</td>\n",
       "      <td>4.250000e+00</td>\n",
       "      <td>1.695011e+02</td>\n",
       "      <td>3.0</td>\n",
       "      <td>2.019395e+02</td>\n",
       "      <td>3.223385e+01</td>\n",
       "      <td>33.469430</td>\n",
       "    </tr>\n",
       "    <tr>\n",
       "      <th>75%</th>\n",
       "      <td>2.142500e+02</td>\n",
       "      <td>2.142500e+02</td>\n",
       "      <td>7.524000e+03</td>\n",
       "      <td>2.000000e+00</td>\n",
       "      <td>1.942500e+02</td>\n",
       "      <td>2.042500e+02</td>\n",
       "      <td>1.701685e+02</td>\n",
       "      <td>3.0</td>\n",
       "      <td>2.019395e+02</td>\n",
       "      <td>4.541472e+01</td>\n",
       "      <td>34.353014</td>\n",
       "    </tr>\n",
       "    <tr>\n",
       "      <th>max</th>\n",
       "      <td>6.442500e+02</td>\n",
       "      <td>6.442500e+02</td>\n",
       "      <td>9.999000e+03</td>\n",
       "      <td>7.210000e+02</td>\n",
       "      <td>6.142500e+02</td>\n",
       "      <td>6.442500e+02</td>\n",
       "      <td>1.047748e+03</td>\n",
       "      <td>3.0</td>\n",
       "      <td>2.019395e+02</td>\n",
       "      <td>1.034992e+03</td>\n",
       "      <td>838.906846</td>\n",
       "    </tr>\n",
       "  </tbody>\n",
       "</table>\n",
       "</div>"
      ],
      "text/plain": [
       "       detectorPositionX  detectorPositionY   eventNumber  duplicates_count  \\\n",
       "count       3.103431e+06       3.103431e+06  3.103431e+06      3.103431e+06   \n",
       "mean        4.744717e+00       6.813457e+00  5.011417e+03      1.895343e+00   \n",
       "std         2.739541e+02       2.734089e+02  2.894232e+03      3.272995e+00   \n",
       "min        -6.457500e+02      -6.457500e+02  1.000000e+00      1.000000e+00   \n",
       "25%        -2.057500e+02      -1.957500e+02  2.501000e+03      1.000000e+00   \n",
       "50%         4.250000e+00       4.250000e+00  5.021000e+03      2.000000e+00   \n",
       "75%         2.142500e+02       2.142500e+02  7.524000e+03      2.000000e+00   \n",
       "max         6.442500e+02       6.442500e+02  9.999000e+03      7.210000e+02   \n",
       "\n",
       "            centerX       centerY        radius  energyPrimary    radius_gev  \\\n",
       "count  2.696523e+06  2.696523e+06  2.696523e+06      3103431.0  3.103431e+06   \n",
       "mean  -2.163815e+00 -7.653253e-01  1.837092e+02            NaN  2.019395e+02   \n",
       "std    2.491616e+02  2.498032e+02  5.375237e+01            0.0  2.842171e-13   \n",
       "min   -6.457500e+02 -5.957500e+02  1.533806e+02            3.0  2.019395e+02   \n",
       "25%   -2.057500e+02 -2.057500e+02  1.689834e+02            3.0  2.019395e+02   \n",
       "50%   -5.750000e+00  4.250000e+00  1.695011e+02            3.0  2.019395e+02   \n",
       "75%    1.942500e+02  2.042500e+02  1.701685e+02            3.0  2.019395e+02   \n",
       "max    6.142500e+02  6.442500e+02  1.047748e+03            3.0  2.019395e+02   \n",
       "\n",
       "           residual     variance  \n",
       "count  2.696523e+06  9983.000000  \n",
       "mean   4.271381e+01    32.187919  \n",
       "std    5.888857e+01    39.121398  \n",
       "min    2.980046e-01     0.000000  \n",
       "25%    2.193948e+01    32.330103  \n",
       "50%    3.223385e+01    33.469430  \n",
       "75%    4.541472e+01    34.353014  \n",
       "max    1.034992e+03   838.906846  "
      ]
     },
     "execution_count": 77,
     "metadata": {},
     "output_type": "execute_result"
    }
   ],
   "source": [
    "df.describe()"
   ]
  },
  {
   "cell_type": "code",
   "execution_count": 120,
   "id": "5a175409-6ec8-481e-9a04-0fa679d07769",
   "metadata": {},
   "outputs": [
    {
     "data": {
      "image/png": "[encoded data removed]",
      "text/plain": [
       "<Figure size 640x480 with 1 Axes>"
      ]
     },
     "metadata": {},
     "output_type": "display_data"
    }
   ],
   "source": [
    "# Filter the DataFrame for the specific event\n",
    "event_data = df[df['eventNumber'] == 7264]\n",
    "\n",
    "# Create a scatter plot of 'detectorPositionX' and 'detectorPositionY'\n",
    "plt.scatter(event_data['detectorPositionX'], event_data['detectorPositionY'])\n",
    "\n",
    "# Set the title and labels\n",
    "plt.title(f'Scatter plot of detector positions for event {event}')\n",
    "plt.xlabel('Detector Position X')\n",
    "plt.ylabel('Detector Position Y')\n",
    "\n",
    "# Display the plot\n",
    "plt.show()"
   ]
  },
  {
   "cell_type": "code",
   "execution_count": 30,
   "id": "cd546953-805f-485a-bdcb-5df5ad226132",
   "metadata": {},
   "outputs": [],
   "source": [
    "# Filter 'df' to keep only the rows where the 'eventNumber' is in 'events_greater_than_50.index'\n",
    "df_good = df[df[\"ratio\"] > 0.25]\n",
    "df_middle = df[(df[\"ratio\"] > 0.1) & (df[\"ratio\"] < 0.25)]\n",
    "df_bad = df[df[\"ratio\"] < 0.1]"
   ]
  },
  {
   "cell_type": "code",
   "execution_count": 64,
   "id": "91a04c8f-88f9-442e-b2e3-96b6f10e2ded",
   "metadata": {},
   "outputs": [
    {
     "data": {
      "text/plain": [
       "'import math\\n\\ndef inc(n, R, h = 76.5):\\n    return 1.202/(math.sin(math.atan(R/h))*(math.cos(math.atan(R/h))**2)*n*h*(1 + (R/h)**2))'"
      ]
     },
     "execution_count": 64,
     "metadata": {},
     "output_type": "execute_result"
    }
   ],
   "source": [
    "\"\"\"import math\n",
    "\n",
    "def inc(n, R, h = 76.5):\n",
    "    return 1.202/(math.sin(math.atan(R/h))*(math.cos(math.atan(R/h))**2)*n*h*(1 + (R/h)**2))\"\"\""
   ]
  },
  {
   "cell_type": "code",
   "execution_count": 65,
   "id": "ce15f96d-9145-45a9-98ca-4ddcdd0ef001",
   "metadata": {},
   "outputs": [
    {
     "data": {
      "text/plain": [
       "\"# Find the maximum event number\\nmax_event_number = df['eventNumber'].max()\\n\\n# Filter the DataFrame\\ndf_max_event = df[df['eventNumber'] == max_event_number].copy()\\n\\n# Read the process names and trackIDs from the output.txt file\\nwith open('output.txt', 'r') as file:\\n    lines = file.readlines()\\n\\nprocesses = {}\\nfor line in lines:\\n    if 'Transportation' not in line and 'NoProcess' not in line:\\n        parts = line.split(': ')\\n        process_name = parts[1].split(', ')[0].strip()\\n        track_id = int(parts[2].strip())\\n        if process_name not in processes:\\n            processes[process_name] = []\\n        processes[process_name].append(track_id)\\n\\n# For each process, create a new boolean column\\nfor process_name, track_ids in processes.items():\\n    df_max_event.loc[:, process_name] = df_max_event['trackID'].isin(track_ids)\\n\\n# Remove rows where all process columns are False\\nprocess_columns = list(processes.keys())\\ndf_max_event = df_max_event[df_max_event[process_columns].any(axis=1)]\""
      ]
     },
     "execution_count": 65,
     "metadata": {},
     "output_type": "execute_result"
    }
   ],
   "source": [
    "\"\"\"# Find the maximum event number\n",
    "max_event_number = df['eventNumber'].max()\n",
    "\n",
    "# Filter the DataFrame\n",
    "df_max_event = df[df['eventNumber'] == max_event_number].copy()\n",
    "\n",
    "# Read the process names and trackIDs from the output.txt file\n",
    "with open('output.txt', 'r') as file:\n",
    "    lines = file.readlines()\n",
    "\n",
    "processes = {}\n",
    "for line in lines:\n",
    "    if 'Transportation' not in line and 'NoProcess' not in line:\n",
    "        parts = line.split(': ')\n",
    "        process_name = parts[1].split(', ')[0].strip()\n",
    "        track_id = int(parts[2].strip())\n",
    "        if process_name not in processes:\n",
    "            processes[process_name] = []\n",
    "        processes[process_name].append(track_id)\n",
    "\n",
    "# For each process, create a new boolean column\n",
    "for process_name, track_ids in processes.items():\n",
    "    df_max_event.loc[:, process_name] = df_max_event['trackID'].isin(track_ids)\n",
    "\n",
    "# Remove rows where all process columns are False\n",
    "process_columns = list(processes.keys())\n",
    "df_max_event = df_max_event[df_max_event[process_columns].any(axis=1)]\"\"\""
   ]
  },
  {
   "cell_type": "code",
   "execution_count": 31,
   "id": "807cd4a0-b42b-4bf2-8243-b1ba8f4ed090",
   "metadata": {},
   "outputs": [],
   "source": [
    "df_good.to_csv('good20.csv', index=False)\n",
    "df_middle.to_csv('middle20.csv', index=False)\n",
    "df_bad.to_csv('bad20.csv', index=False)"
   ]
  },
  {
   "cell_type": "code",
   "execution_count": 51,
   "id": "53b4ffa0-d2f5-4a49-b307-9081ef308e61",
   "metadata": {},
   "outputs": [
    {
     "name": "stderr",
     "output_type": "stream",
     "text": [
      "/tmp/ipykernel_14347/84014719.py:2: SettingWithCopyWarning: \n",
      "A value is trying to be set on a copy of a slice from a DataFrame.\n",
      "Try using .loc[row_indexer,col_indexer] = value instead\n",
      "\n",
      "See the caveats in the documentation: https://pandas.pydata.org/pandas-docs/stable/user_guide/indexing.html#returning-a-view-versus-a-copy\n",
      "  df_good[\"beta_hat\"] = calculate_beta(angles, 1.05)\n",
      "/tmp/ipykernel_14347/84014719.py:3: SettingWithCopyWarning: \n",
      "A value is trying to be set on a copy of a slice from a DataFrame.\n",
      "Try using .loc[row_indexer,col_indexer] = value instead\n",
      "\n",
      "See the caveats in the documentation: https://pandas.pydata.org/pandas-docs/stable/user_guide/indexing.html#returning-a-view-versus-a-copy\n",
      "  df_good[\"betas\"] = calculate_beta_proton(df[\"energyPrimary\"])\n"
     ]
    },
    {
     "data": {
      "image/png": "[encoded data removed]",
      "text/plain": [
       "<Figure size 640x480 with 1 Axes>"
      ]
     },
     "metadata": {},
     "output_type": "display_data"
    }
   ],
   "source": [
    "angles = calculate_half_angle(df_good[\"radius\"]*.1, 76.5)\n",
    "df_good[\"beta_hat\"] = calculate_beta(angles, 1.05)\n",
    "df_good[\"betas\"] = calculate_beta_proton(df[\"energyPrimary\"])\n",
    "\n",
    "plt.hist(df_good[\"beta_hat\"], bins=100\n",
    "        )  # Choose the number of bins that suits your data\n",
    "plt.title('Histogram of beta_hat')\n",
    "plt.xlabel('Value')\n",
    "plt.ylabel('Frequency')\n",
    "plt.show()"
   ]
  },
  {
   "cell_type": "code",
   "execution_count": 52,
   "id": "ad7d9e7f-c721-4a8d-9e68-85bdef10eabb",
   "metadata": {},
   "outputs": [
    {
     "name": "stderr",
     "output_type": "stream",
     "text": [
      "/tmp/ipykernel_14347/1628043114.py:2: SettingWithCopyWarning: \n",
      "A value is trying to be set on a copy of a slice from a DataFrame.\n",
      "Try using .loc[row_indexer,col_indexer] = value instead\n",
      "\n",
      "See the caveats in the documentation: https://pandas.pydata.org/pandas-docs/stable/user_guide/indexing.html#returning-a-view-versus-a-copy\n",
      "  df_bad[\"beta_hat\"] = calculate_beta(angles, 1.05)\n",
      "/tmp/ipykernel_14347/1628043114.py:3: SettingWithCopyWarning: \n",
      "A value is trying to be set on a copy of a slice from a DataFrame.\n",
      "Try using .loc[row_indexer,col_indexer] = value instead\n",
      "\n",
      "See the caveats in the documentation: https://pandas.pydata.org/pandas-docs/stable/user_guide/indexing.html#returning-a-view-versus-a-copy\n",
      "  df_bad[\"betas\"] = calculate_beta_proton(df[\"energyPrimary\"])\n"
     ]
    },
    {
     "data": {
      "image/png": "[encoded data removed]",
      "text/plain": [
       "<Figure size 640x480 with 1 Axes>"
      ]
     },
     "metadata": {},
     "output_type": "display_data"
    }
   ],
   "source": [
    "angles = calculate_half_angle(df_bad[\"radius\"]*.1, 76.5)\n",
    "df_bad[\"beta_hat\"] = calculate_beta(angles, 1.05)\n",
    "df_bad[\"betas\"] = calculate_beta_proton(df[\"energyPrimary\"])\n",
    "\n",
    "plt.hist(df_bad[\"beta_hat\"], bins=100)  # Choose the number of bins that suits your data\n",
    "plt.title('Histogram of beta_hat')\n",
    "plt.xlabel('Value')\n",
    "plt.ylabel('Frequency')\n",
    "plt.show()"
   ]
  },
  {
   "cell_type": "code",
   "execution_count": 47,
   "id": "4252e0be-7fe9-4832-a517-43efd353dd27",
   "metadata": {},
   "outputs": [],
   "source": [
    "import pandas as pd\n",
    "import numpy as np\n",
    "\n",
    "df_01 = pd.read_csv(\"bad20.csv\")\n",
    "\n",
    "df_0 = pd.concat([df_01], axis=0)\n",
    "\n",
    "angles = calculate_half_angle(df_0[\"radius\"]*.1, 76.5)\n",
    "df_0[\"beta_hat\"] = calculate_beta(angles, 1.05)\n",
    "df_0[\"betas\"] = calculate_beta_proton(df_0[\"energyPrimary\"])\n",
    "df_0[\"res\"] = df_0[\"beta_hat\"] - df_0[\"betas\"]"
   ]
  },
  {
   "cell_type": "code",
   "execution_count": 23,
   "id": "7a48373f-6af0-49e4-a13e-5d0f6591e69e",
   "metadata": {},
   "outputs": [
    {
     "name": "stderr",
     "output_type": "stream",
     "text": [
      "/tmp/ipykernel_147116/2664146155.py:29: UserWarning: color is redundantly defined by the 'color' keyword argument and the fmt string \"k\" (-> color=(0.0, 0.0, 0.0, 1)). The keyword argument will take precedence.\n",
      "  plt.plot(x, gaussian(x, *popt), 'k', linewidth=2, color='r')\n"
     ]
    },
    {
     "data": {
      "image/png": "[encoded data removed]",
      "text/plain": [
       "<Figure size 640x480 with 1 Axes>"
      ]
     },
     "metadata": {},
     "output_type": "display_data"
    }
   ],
   "source": [
    "import matplotlib.pyplot as plt\n",
    "import numpy as np\n",
    "from scipy.stats import norm\n",
    "\n",
    "# Remove non-finite values such as NaNs\n",
    "df_0 = df_0[np.isfinite(df_0[\"res\"])]\n",
    "\n",
    "from scipy.optimize import curve_fit\n",
    "\n",
    "# Define the form of the function we want to fit (a Gaussian)\n",
    "def gaussian(x, a, mu, sigma):\n",
    "    return a * np.exp(-(x - mu)**2 / (2 * sigma**2))\n",
    "\n",
    "# Create histogram\n",
    "counts, bins, patches = plt.hist(df_0[\"res\"], bins=100, range=(0, 0.022), density=False, alpha=0.6, color='g')\n",
    "\n",
    "# Calculate bin centers\n",
    "bin_centers = (bins[:-1] + bins[1:]) / 2\n",
    "\n",
    "# Calculate weighted mean and standard deviation of the data\n",
    "weighted_mean = sum(bin_centers * counts) / sum(counts)\n",
    "weighted_std = np.sqrt(sum(counts * (bin_centers - weighted_mean)**2) / sum(counts))\n",
    "\n",
    "# Fit a Gaussian to the histogram data\n",
    "popt, pcov = curve_fit(gaussian, bin_centers, counts, p0=[max(counts), 0.01, 0.03])\n",
    "\n",
    "# Plot the fitted Gaussian\n",
    "x = np.linspace(0, 0.022, 1000)\n",
    "plt.plot(x, gaussian(x, *popt), 'k', linewidth=2, color='r')\n",
    "title = \"Fit results: a = %.2f, mu = %.5f, sigma = %.5f\" % tuple(popt)\n",
    "plt.title(title)\n",
    "\n",
    "# Set the x limits\n",
    "plt.xlim(0, 0.022)\n",
    "\n",
    "plt.show()"
   ]
  },
  {
   "cell_type": "code",
   "execution_count": 48,
   "id": "a4b25356-2779-4f0a-ab0f-738e59c9c76d",
   "metadata": {},
   "outputs": [
    {
     "data": {
      "text/plain": [
       "0"
      ]
     },
     "execution_count": 48,
     "metadata": {},
     "output_type": "execute_result"
    }
   ],
   "source": [
    "import gc\n",
    "import tensorflow as tf\n",
    "\n",
    "# Group the DataFrame by 'eventNumber' and save each group as an element in a list\n",
    "groups = [group for _, group in df_0.groupby('eventNumber')]\n",
    "\n",
    "# Get the labels (the 'eventNumber' column)\n",
    "labels = df_0.groupby('eventNumber')['energyPrimary'].first().values\n",
    "#del df\n",
    "#del df_copy\n",
    "gc.collect()\n",
    "\n",
    "def serialize_example(group, label):\n",
    "    # Convert the 'detectorPositionX', 'detectorPositionY', 'duplicates_count' columns to floats\n",
    "    detectorPositionX_floats = group['detectorPositionX'].values.astype(float)\n",
    "    detectorPositionY_floats = group['detectorPositionY'].values.astype(float)\n",
    "    duplicates_count_floats = group['duplicates_count'].values.astype(float)\n",
    "    label_float = float(label)\n",
    "\n",
    "    feature = {\n",
    "        'detectorPositionX': tf.train.Feature(float_list=tf.train.FloatList(value=detectorPositionX_floats)),\n",
    "        'detectorPositionY': tf.train.Feature(float_list=tf.train.FloatList(value=detectorPositionY_floats)),\n",
    "        'duplicates_count': tf.train.Feature(float_list=tf.train.FloatList(value=duplicates_count_floats)),\n",
    "        'label': tf.train.Feature(float_list=tf.train.FloatList(value=[label_float])),\n",
    "    }\n",
    "    example_proto = tf.train.Example(features=tf.train.Features(feature=feature))\n",
    "    return example_proto.SerializeToString()\n",
    "\n",
    "# Write the dataset to a TFRecord file\n",
    "with tf.io.TFRecordWriter('bad6_0.tfrecords') as writer:\n",
    "    for group, label in zip(groups, labels):\n",
    "        example = serialize_example(group, label)\n",
    "        writer.write(example)\n",
    "\n",
    "del groups\n",
    "del labels\n",
    "gc.collect()"
   ]
  },
  {
   "cell_type": "code",
   "execution_count": 5,
   "id": "6bbe0a83-b5aa-486a-9f35-eb93c14965f1",
   "metadata": {},
   "outputs": [],
   "source": [
    "import pandas as pd\n",
    "\n",
    "df_bad = pd.read_csv(\"bad11.csv\")"
   ]
  },
  {
   "cell_type": "code",
   "execution_count": 24,
   "id": "2ad6083f-f56d-436e-b90f-686b7876e1f0",
   "metadata": {},
   "outputs": [
    {
     "ename": "NameError",
     "evalue": "name 'df_05' is not defined",
     "output_type": "error",
     "traceback": [
      "\u001b[0;31m---------------------------------------------------------------------------\u001b[0m",
      "\u001b[0;31mNameError\u001b[0m                                 Traceback (most recent call last)",
      "Cell \u001b[0;32mIn[24], line 9\u001b[0m\n\u001b[1;32m      6\u001b[0m df_03 \u001b[38;5;241m=\u001b[39m pd\u001b[38;5;241m.\u001b[39mread_csv(\u001b[38;5;124m\"\u001b[39m\u001b[38;5;124mgood02.csv\u001b[39m\u001b[38;5;124m\"\u001b[39m)\n\u001b[1;32m      7\u001b[0m df_04 \u001b[38;5;241m=\u001b[39m pd\u001b[38;5;241m.\u001b[39mread_csv(\u001b[38;5;124m\"\u001b[39m\u001b[38;5;124mgood03.csv\u001b[39m\u001b[38;5;124m\"\u001b[39m)\n\u001b[0;32m----> 9\u001b[0m df_0 \u001b[38;5;241m=\u001b[39m pd\u001b[38;5;241m.\u001b[39mconcat([df_01, df_02, df_03, df_04, \u001b[43mdf_05\u001b[49m], axis\u001b[38;5;241m=\u001b[39m\u001b[38;5;241m0\u001b[39m)\n\u001b[1;32m     11\u001b[0m angles \u001b[38;5;241m=\u001b[39m calculate_half_angle(df_1[\u001b[38;5;124m\"\u001b[39m\u001b[38;5;124mradius\u001b[39m\u001b[38;5;124m\"\u001b[39m]\u001b[38;5;241m*\u001b[39m\u001b[38;5;241m.1\u001b[39m, \u001b[38;5;241m76.5\u001b[39m)\n\u001b[1;32m     12\u001b[0m df_1[\u001b[38;5;124m\"\u001b[39m\u001b[38;5;124mbeta_hat\u001b[39m\u001b[38;5;124m\"\u001b[39m] \u001b[38;5;241m=\u001b[39m calculate_beta(angles, \u001b[38;5;241m1.05\u001b[39m)\n",
      "\u001b[0;31mNameError\u001b[0m: name 'df_05' is not defined"
     ]
    }
   ],
   "source": [
    "import pandas as pd\n",
    "import numpy as np\n",
    "\n",
    "df_01 = pd.read_csv(\"good00.csv\")\n",
    "df_02 = pd.read_csv(\"good01.csv\")\n",
    "df_03 = pd.read_csv(\"good02.csv\")\n",
    "df_04 = pd.read_csv(\"good03.csv\")\n",
    "\n",
    "df_0 = pd.concat([df_01, df_02, df_03, df_04, df_05], axis=0)\n",
    "\n",
    "angles = calculate_half_angle(df_1[\"radius\"]*.1, 76.5)\n",
    "df_1[\"beta_hat\"] = calculate_beta(angles, 1.05)\n",
    "df_1[\"betas\"] = calculate_beta_proton(3.0)\n",
    "df_1[\"res\"] = np.abs(df_1[\"beta_hat\"] - df_1[\"betas\"])/df_1[\"betas\"]"
   ]
  },
  {
   "cell_type": "code",
   "execution_count": 16,
   "id": "a791b81e-d4d6-40fd-92ad-36e91eadf96f",
   "metadata": {},
   "outputs": [
    {
     "data": {
      "text/plain": [
       "count    1.678181e+07\n",
       "mean     2.667395e-02\n",
       "std      1.376772e-02\n",
       "min      1.040144e-02\n",
       "25%      2.178981e-02\n",
       "50%      2.194410e-02\n",
       "75%      2.228764e-02\n",
       "max      1.677401e-01\n",
       "Name: res, dtype: float64"
      ]
     },
     "execution_count": 16,
     "metadata": {},
     "output_type": "execute_result"
    }
   ],
   "source": [
    "df_1[\"res\"].describe()"
   ]
  },
  {
   "cell_type": "code",
   "execution_count": 9,
   "id": "b5c4ee15-b28e-4059-986f-19881c5c32a4",
   "metadata": {},
   "outputs": [
    {
     "data": {
      "text/plain": [
       "count    1.249387e+07\n",
       "mean     1.217986e-02\n",
       "std      1.344933e-02\n",
       "min      4.172566e-04\n",
       "25%      7.474117e-03\n",
       "50%      7.625387e-03\n",
       "75%      7.940259e-03\n",
       "max      1.513813e-01\n",
       "Name: res, dtype: float64"
      ]
     },
     "execution_count": 9,
     "metadata": {},
     "output_type": "execute_result"
    }
   ],
   "source": [
    "import pandas as pd\n",
    "\n",
    "df_01 = pd.read_csv(\"good00.csv\")\n",
    "df_02 = pd.read_csv(\"good01.csv\")\n",
    "df_03 = pd.read_csv(\"good02.csv\")\n",
    "\n",
    "df_2 = pd.concat([df_01, df_02, df_03], axis=0)\n",
    "\n",
    "angles = calculate_half_angle(df_2[\"radius\"]*.1, 76.5)\n",
    "df_2[\"beta_hat\"] = calculate_beta(angles, 1.05)\n",
    "df_2[\"betas\"] = calculate_beta_proton(df_2[\"energyPrimary\"])\n",
    "df_2[\"res\"] = np.abs(df_2[\"beta_hat\"] - df_2[\"betas\"])/df_2[\"betas\"]\n",
    "\n",
    "df_2[\"res\"].describe()"
   ]
  },
  {
   "cell_type": "code",
   "execution_count": 9,
   "id": "8d9975e1-b604-478f-8caa-355a413f9cac",
   "metadata": {},
   "outputs": [
    {
     "data": {
      "image/png": "[encoded data removed]",
      "text/plain": [
       "<Figure size 1500x500 with 3 Axes>"
      ]
     },
     "metadata": {},
     "output_type": "display_data"
    }
   ],
   "source": [
    "import matplotlib.pyplot as plt\n",
    "\n",
    "# Create a figure and a set of subplots\n",
    "fig, axes = plt.subplots(nrows=1, ncols=3, figsize=(15, 5))\n",
    "\n",
    "# Create a histogram for 'df_0[\"beta_hat\"]' with 50 bins\n",
    "df_0[\"beta_hat\"].hist(ax=axes[0], bins=100, log=True)\n",
    "axes[0].set_title('df_0')\n",
    "\n",
    "# Create a histogram for 'df_1[\"beta_hat\"]' with 50 bins\n",
    "df_1[\"beta_hat\"].hist(ax=axes[1], bins=100, log=True)\n",
    "axes[1].set_title('df_1')\n",
    "\n",
    "# Create a histogram for 'df_2[\"beta_hat\"]' with 50 bins\n",
    "df_2[\"beta_hat\"].hist(ax=axes[2], bins=50, log=True)\n",
    "axes[2].set_title('df_2')\n",
    "\n",
    "# Display the plots\n",
    "plt.tight_layout()\n",
    "plt.show()"
   ]
  },
  {
   "cell_type": "code",
   "execution_count": 12,
   "id": "3081e4e0-7cc1-4d51-a1e1-edbcb112c640",
   "metadata": {},
   "outputs": [],
   "source": [
    "import pandas as pd\n",
    "import numpy as np\n",
    "\n",
    "df_bad1 = pd.read_csv(\"bad1.csv\")\n",
    "#df_bad2 = pd.read_csv(\"bad01.csv\")\n",
    "#df_bad3 = pd.read_csv(\"bad11.csv\")"
   ]
  },
  {
   "cell_type": "code",
   "execution_count": 13,
   "id": "9e49063d-df9d-4fd8-8a92-ccce40b5478e",
   "metadata": {},
   "outputs": [],
   "source": [
    "angles = calculate_half_angle(df_bad1[\"radius\"]*.1, 76.5)\n",
    "df_bad1[\"beta_hat\"] = calculate_beta(angles, 1.05)\n",
    "df_bad1[\"betas\"] = calculate_beta_proton(3.0)"
   ]
  },
  {
   "cell_type": "code",
   "execution_count": 14,
   "id": "e8b7d49b-2608-4bf5-8667-be04bfdc1646",
   "metadata": {},
   "outputs": [
    {
     "data": {
      "text/plain": [
       "count    1.331541e+07\n",
       "mean     9.493118e-03\n",
       "std      2.041858e-02\n",
       "min      1.103144e-04\n",
       "25%      4.257482e-03\n",
       "50%      4.397729e-03\n",
       "75%      4.579445e-03\n",
       "max      4.717351e-01\n",
       "Name: res, dtype: float64"
      ]
     },
     "execution_count": 14,
     "metadata": {},
     "output_type": "execute_result"
    }
   ],
   "source": [
    "df_bad1[\"res\"] = np.abs(df_bad1[\"beta_hat\"] - df_bad1[\"betas\"])/df_bad1[\"betas\"]\n",
    "df_bad1[\"res\"].describe()"
   ]
  },
  {
   "cell_type": "code",
   "execution_count": null,
   "id": "3a279ddc-f468-4c9a-99a1-4082ebff0fe9",
   "metadata": {},
   "outputs": [],
   "source": [
    "import matplotlib.pyplot as plt\n",
    "\n",
    "# Create a histogram for 'df_0[\"beta_hat\"]' with 50 bins\n",
    "df_bad1[\"beta_hat\"].hist(bins=100, log=True)\n",
    "plt.title('df_bad0')"
   ]
  },
  {
   "cell_type": "code",
   "execution_count": 17,
   "id": "e9aa7c05-799e-458a-bf21-472fc52ec6fd",
   "metadata": {},
   "outputs": [
    {
     "data": {
      "text/plain": [
       "0"
      ]
     },
     "execution_count": 17,
     "metadata": {},
     "output_type": "execute_result"
    }
   ],
   "source": [
    "import gc\n",
    "del df_01\n",
    "del df_02 \n",
    "del df_03\n",
    "del df_bad1\n",
    "gc.collect()\n"
   ]
  },
  {
   "cell_type": "code",
   "execution_count": 18,
   "id": "18ee66ba-ad0c-4bc1-b959-fc291681a0a5",
   "metadata": {},
   "outputs": [],
   "source": [
    "df_bad2 = pd.read_csv(\"bad01.csv\")"
   ]
  },
  {
   "cell_type": "code",
   "execution_count": 20,
   "id": "d4c5be79-abb0-45da-95bc-9d70d96af971",
   "metadata": {},
   "outputs": [],
   "source": [
    "angles = calculate_half_angle(df_bad2[\"radius\"]*.1, 76.5)\n",
    "df_bad2[\"beta_hat\"] = calculate_beta(angles, 1.05)\n",
    "df_bad2[\"betas\"] = calculate_beta_proton(4.5)"
   ]
  },
  {
   "cell_type": "code",
   "execution_count": 21,
   "id": "a2587402-18b3-4b95-9bb0-770adc962288",
   "metadata": {},
   "outputs": [
    {
     "data": {
      "text/plain": [
       "count    1.249387e+07\n",
       "mean     1.217986e-02\n",
       "std      1.344933e-02\n",
       "min      4.172566e-04\n",
       "25%      7.474117e-03\n",
       "50%      7.625387e-03\n",
       "75%      7.940259e-03\n",
       "max      1.513813e-01\n",
       "Name: res, dtype: float64"
      ]
     },
     "execution_count": 21,
     "metadata": {},
     "output_type": "execute_result"
    }
   ],
   "source": [
    "df_bad2[\"res\"] = np.abs(df_bad2[\"beta_hat\"] - df_bad2[\"betas\"])/df_bad2[\"betas\"]\n",
    "df_2[\"res\"].describe()"
   ]
  },
  {
   "cell_type": "code",
   "execution_count": null,
   "id": "10d89e80-654a-4a3d-a4c1-870a7f532850",
   "metadata": {},
   "outputs": [],
   "source": [
    "import matplotlib.pyplot as plt\n",
    "\n",
    "# Create a histogram for 'df_0[\"beta_hat\"]' with 50 bins\n",
    "df_bad2[\"beta_hat\"].hist(bins=100, log=True)\n",
    "plt.title('df_bad1')"
   ]
  },
  {
   "cell_type": "code",
   "execution_count": 4,
   "id": "1f2b1cde-82e0-4d02-8b18-e7144dc82ce9",
   "metadata": {},
   "outputs": [
    {
     "data": {
      "text/plain": [
       "count    2.004022e+07\n",
       "mean     1.178564e-02\n",
       "std      1.466442e-02\n",
       "min      4.404984e-05\n",
       "25%      8.816780e-03\n",
       "50%      9.062317e-03\n",
       "75%      9.280473e-03\n",
       "max      4.129172e-01\n",
       "Name: res, dtype: float64"
      ]
     },
     "execution_count": 4,
     "metadata": {},
     "output_type": "execute_result"
    }
   ],
   "source": [
    "import pandas as pd\n",
    "import numpy as np\n",
    "import matplotlib.pyplot as plt\n",
    "\n",
    "df_bad3 = pd.read_csv(\"bad11.csv\")\n",
    "\n",
    "angles = calculate_half_angle(df_bad3[\"radius\"]*.1, 76.5)\n",
    "df_bad3[\"beta_hat\"] = calculate_beta(angles, 1.05)\n",
    "df_bad3[\"betas\"] = calculate_beta_proton(6.0)\n",
    "\n",
    "df_bad3[\"res\"] = np.abs(df_bad3[\"beta_hat\"] - df_bad3[\"betas\"])/df_bad3[\"betas\"]\n",
    "df_bad3[\"res\"].describe()"
   ]
  },
  {
   "cell_type": "code",
   "execution_count": 14,
   "id": "3845de5a-bd62-4da8-babe-c856371d8505",
   "metadata": {},
   "outputs": [],
   "source": [
    "goodRes = np.array([2.662089e-02, 2.667395e-02, 1.217986e-02])\n",
    "badRes = np.array([9.493118e-03, 1.217986e-02, 1.178564e-02])\n",
    "ene = [3.0, 4.5, 6.0]"
   ]
  },
  {
   "cell_type": "code",
   "execution_count": 16,
   "id": "eba20658-518d-488c-a824-690f5ccca158",
   "metadata": {},
   "outputs": [
    {
     "data": {
      "text/plain": [
       "Text(0, 0.5, '%')"
      ]
     },
     "execution_count": 16,
     "metadata": {},
     "output_type": "execute_result"
    },
    {
     "data": {
      "image/png": "[encoded data removed]",
      "text/plain": [
       "<Figure size 640x480 with 1 Axes>"
      ]
     },
     "metadata": {},
     "output_type": "display_data"
    }
   ],
   "source": [
    "plt.plot(ene, goodRes*100)\n",
    "plt.title(\"Good Res Like\")\n",
    "plt.xlabel(\"Energy\")\n",
    "plt.ylabel(\"%\")"
   ]
  },
  {
   "cell_type": "code",
   "execution_count": 17,
   "id": "126990b5-e725-4bbf-ab14-edfbc31cd9d7",
   "metadata": {},
   "outputs": [
    {
     "data": {
      "text/plain": [
       "Text(0, 0.5, '%')"
      ]
     },
     "execution_count": 17,
     "metadata": {},
     "output_type": "execute_result"
    },
    {
     "data": {
      "image/png": "[encoded data removed]",
      "text/plain": [
       "<Figure size 640x480 with 1 Axes>"
      ]
     },
     "metadata": {},
     "output_type": "display_data"
    }
   ],
   "source": [
    "plt.plot(ene, badRes*100)\n",
    "plt.title(\"Bad Res Like\")\n",
    "plt.xlabel(\"Energy\")\n",
    "plt.ylabel(\"%\")"
   ]
  },
  {
   "cell_type": "code",
   "execution_count": null,
   "id": "e1e23abc-5a82-40f8-90c0-ec8a80e84477",
   "metadata": {},
   "outputs": [],
   "source": []
  }
 ],
 "metadata": {
  "kernelspec": {
   "display_name": "Python 3 (ipykernel)",
   "language": "python",
   "name": "python3"
  },
  "language_info": {
   "codemirror_mode": {
    "name": "ipython",
    "version": 3
   },
   "file_extension": ".py",
   "mimetype": "text/x-python",
   "name": "python",
   "nbconvert_exporter": "python",
   "pygments_lexer": "ipython3",
   "version": "3.11.7"
  }
 },
 "nbformat": 4,
 "nbformat_minor": 5
}
