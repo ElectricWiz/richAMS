{
 "cells": [
  {
   "cell_type": "markdown",
   "metadata": {},
   "source": [
    "# Import Required Libraries\n",
    "Import the necessary libraries, including pandas, NumPy, TensorFlow, and Keras."
   ]
  },
  {
   "cell_type": "code",
   "execution_count": 2,
   "metadata": {},
   "outputs": [],
   "source": [
    "# Importing the required libraries\n",
    "\n",
    "# Pandas is used for data manipulation and analysis\n",
    "\n",
    "# NumPy is used for numerical operations\n",
    "import numpy as np\n",
    "\n",
    "# Keras is a user-friendly neural network library written in Python\n",
    "from tensorflow import keras"
   ]
  },
  {
   "cell_type": "markdown",
   "metadata": {},
   "source": [
    "# Load and Inspect the Data\n",
    "Load the training.csv file into a DataFrame and inspect its structure and contents."
   ]
  },
  {
   "cell_type": "code",
   "execution_count": null,
   "metadata": {},
   "outputs": [],
   "source": [
    "import tensorflow as tf\n",
    "\n",
    "# Define a function to parse the tfrecords file\n",
    "def _parse_function(proto):\n",
    "    # Define your tfrecord columns\n",
    "    columns = {\n",
    "        'detectorPositionX': tf.io.VarLenFeature(tf.float32),\n",
    "        'detectorPositionY': tf.io.VarLenFeature(tf.float32),\n",
    "        'duplicates_count': tf.io.VarLenFeature(tf.float32),\n",
    "        'label': tf.io.FixedLenFeature([], tf.float32)\n",
    "    }\n",
    "    \n",
    "    # Parse the input tf.Example proto using the dictionary above.\n",
    "    parsed_features = tf.io.parse_single_example(proto, columns)\n",
    "\n",
    "    # Convert SparseTensors to dense\n",
    "    x = tf.sparse.to_dense(parsed_features['detectorPositionX'])\n",
    "    y = tf.sparse.to_dense(parsed_features['detectorPositionY'])\n",
    "    duplicates_count = tf.sparse.to_dense(parsed_features['duplicates_count'])\n",
    "\n",
    "    # Flatten x, y and duplicates_count\n",
    "    x = tf.reshape(x, [-1])\n",
    "    y = tf.reshape(y, [-1])\n",
    "    duplicates_count = tf.reshape(duplicates_count, [-1])\n",
    "\n",
    "    # Now you can perform operations on x, y and duplicates_count\n",
    "    indices = tf.stack([tf.cast((x+680)/8.5, tf.int32) - 1, tf.cast((y+680)/8.5, tf.int32) - 1], axis=1)\n",
    "\n",
    "    # Create an empty image\n",
    "    image = tf.zeros((156, 156), dtype=tf.float32)\n",
    "    updates = duplicates_count\n",
    "    image = tf.tensor_scatter_nd_update(image, indices, updates)\n",
    "    image = tf.reshape(image, [156, 156, 1])\n",
    "\n",
    "    # Return the image and the label\n",
    "    return image, parsed_features['label']\n",
    "\n",
    "# Read the tfrecords file\n",
    "dataset = tf.data.TFRecordDataset( [\"groups{}.tfrecords\".format(i) for i in range(0, 50)])\n",
    "\n",
    "# Map the parse function to each record\n",
    "dataset = dataset.map(_parse_function)\n",
    "\n",
    "# Now, dataset is a tf.data.Dataset of (image, label) pairs ready for training."
   ]
  },
  {
   "cell_type": "markdown",
   "metadata": {},
   "source": [
    "# Prepare the Data\n",
    "Separate the original DataFrame into training, validation, and test sets. Combine the detectorPositionX and detectorPositionY columns into a single array of dimension 39*39. Separate the images taking into account the eventNumber column."
   ]
  },
  {
   "cell_type": "code",
   "execution_count": 4,
   "metadata": {},
   "outputs": [
    {
     "data": {
      "text/plain": [
       "'\\nval_dataset = test_dataset.skip(val_size).batch(64)\\ntest_dataset = test_dataset.take(test_size).batch(64)'"
      ]
     },
     "execution_count": 4,
     "metadata": {},
     "output_type": "execute_result"
    }
   ],
   "source": [
    "# Count the total number of examples in the dataset\n",
    "total_size = sum(1 for _ in dataset)\n",
    "\n",
    "# Calculate the size of each subset\n",
    "train_size = int(0.98 * total_size)\n",
    "val_size = int(0.01 * total_size)  # validation size\n",
    "test_size = total_size - train_size - val_size  # test size\n",
    "\n",
    "dataset = dataset.shuffle(32*10)\n",
    "dataset = dataset.prefetch(tf.data.AUTOTUNE)\n",
    "\n",
    "# Split the dataset\n",
    "train_dataset = dataset.take(train_size).batch(32)\n",
    "val_dataset = dataset.skip(val_size).batch(32)\n",
    "\"\"\"\n",
    "val_dataset = test_dataset.skip(val_size).batch(64)\n",
    "test_dataset = test_dataset.take(test_size).batch(64)\"\"\""
   ]
  },
  {
   "cell_type": "code",
   "execution_count": 5,
   "metadata": {},
   "outputs": [
    {
     "name": "stdout",
     "output_type": "stream",
     "text": [
      "Num GPUs Available:  0\n"
     ]
    }
   ],
   "source": [
    "import tensorflow as tf\n",
    "print(\"Num GPUs Available: \", len(tf.config.list_physical_devices('GPU')))"
   ]
  },
  {
   "cell_type": "markdown",
   "metadata": {},
   "source": [
    "# Create the Convolutional Neural Network\n",
    "Create a CNN model with 3 convolutional layers, two dense layers, and a final layer of one neuron to predict the value of the energyPrimary."
   ]
  },
  {
   "cell_type": "code",
   "execution_count": 8,
   "metadata": {},
   "outputs": [
    {
     "name": "stdout",
     "output_type": "stream",
     "text": [
      "Model: \"model_1\"\n",
      "__________________________________________________________________________________________________\n",
      " Layer (type)                Output Shape                 Param #   Connected to                  \n",
      "==================================================================================================\n",
      " input_2 (InputLayer)        [(None, 156, 156, 1)]        0         []                            \n",
      "                                                                                                  \n",
      " conv2d_25 (Conv2D)          (None, 156, 156, 8)          80        ['input_2[0][0]']             \n",
      "                                                                                                  \n",
      " conv2d_26 (Conv2D)          (None, 156, 156, 8)          584       ['conv2d_25[0][0]']           \n",
      "                                                                                                  \n",
      " conv2d_27 (Conv2D)          (None, 156, 156, 8)          584       ['conv2d_26[0][0]']           \n",
      "                                                                                                  \n",
      " add_10 (Add)                (None, 156, 156, 8)          0         ['conv2d_25[0][0]',           \n",
      "                                                                     'conv2d_27[0][0]']           \n",
      "                                                                                                  \n",
      " activation_7 (Activation)   (None, 156, 156, 8)          0         ['add_10[0][0]']              \n",
      "                                                                                                  \n",
      " conv2d_28 (Conv2D)          (None, 156, 156, 8)          584       ['activation_7[0][0]']        \n",
      "                                                                                                  \n",
      " conv2d_29 (Conv2D)          (None, 156, 156, 8)          584       ['conv2d_28[0][0]']           \n",
      "                                                                                                  \n",
      " conv2d_30 (Conv2D)          (None, 156, 156, 8)          584       ['conv2d_29[0][0]']           \n",
      "                                                                                                  \n",
      " add_11 (Add)                (None, 156, 156, 8)          0         ['conv2d_28[0][0]',           \n",
      "                                                                     'conv2d_30[0][0]']           \n",
      "                                                                                                  \n",
      " activation_8 (Activation)   (None, 156, 156, 8)          0         ['add_11[0][0]']              \n",
      "                                                                                                  \n",
      " conv2d_31 (Conv2D)          (None, 52, 52, 8)            584       ['activation_8[0][0]']        \n",
      "                                                                                                  \n",
      " conv2d_32 (Conv2D)          (None, 52, 52, 16)           1168      ['conv2d_31[0][0]']           \n",
      "                                                                                                  \n",
      " conv2d_33 (Conv2D)          (None, 52, 52, 16)           2320      ['conv2d_32[0][0]']           \n",
      "                                                                                                  \n",
      " conv2d_34 (Conv2D)          (None, 52, 52, 16)           2320      ['conv2d_33[0][0]']           \n",
      "                                                                                                  \n",
      " add_12 (Add)                (None, 52, 52, 16)           0         ['conv2d_32[0][0]',           \n",
      "                                                                     'conv2d_34[0][0]']           \n",
      "                                                                                                  \n",
      " activation_9 (Activation)   (None, 52, 52, 16)           0         ['add_12[0][0]']              \n",
      "                                                                                                  \n",
      " conv2d_35 (Conv2D)          (None, 52, 52, 16)           2320      ['activation_9[0][0]']        \n",
      "                                                                                                  \n",
      " conv2d_36 (Conv2D)          (None, 52, 52, 16)           2320      ['conv2d_35[0][0]']           \n",
      "                                                                                                  \n",
      " conv2d_37 (Conv2D)          (None, 52, 52, 16)           2320      ['conv2d_36[0][0]']           \n",
      "                                                                                                  \n",
      " add_13 (Add)                (None, 52, 52, 16)           0         ['conv2d_35[0][0]',           \n",
      "                                                                     'conv2d_37[0][0]']           \n",
      "                                                                                                  \n",
      " activation_10 (Activation)  (None, 52, 52, 16)           0         ['add_13[0][0]']              \n",
      "                                                                                                  \n",
      " conv2d_38 (Conv2D)          (None, 17, 17, 16)           2320      ['activation_10[0][0]']       \n",
      "                                                                                                  \n",
      " conv2d_39 (Conv2D)          (None, 17, 17, 32)           4640      ['conv2d_38[0][0]']           \n",
      "                                                                                                  \n",
      " conv2d_40 (Conv2D)          (None, 17, 17, 32)           9248      ['conv2d_39[0][0]']           \n",
      "                                                                                                  \n",
      " conv2d_41 (Conv2D)          (None, 17, 17, 32)           9248      ['conv2d_40[0][0]']           \n",
      "                                                                                                  \n",
      " add_14 (Add)                (None, 17, 17, 32)           0         ['conv2d_39[0][0]',           \n",
      "                                                                     'conv2d_41[0][0]']           \n",
      "                                                                                                  \n",
      " activation_11 (Activation)  (None, 17, 17, 32)           0         ['add_14[0][0]']              \n",
      "                                                                                                  \n",
      " conv2d_42 (Conv2D)          (None, 17, 17, 32)           9248      ['activation_11[0][0]']       \n",
      "                                                                                                  \n",
      " conv2d_43 (Conv2D)          (None, 17, 17, 32)           9248      ['conv2d_42[0][0]']           \n",
      "                                                                                                  \n",
      " conv2d_44 (Conv2D)          (None, 17, 17, 32)           9248      ['conv2d_43[0][0]']           \n",
      "                                                                                                  \n",
      " add_15 (Add)                (None, 17, 17, 32)           0         ['conv2d_42[0][0]',           \n",
      "                                                                     'conv2d_44[0][0]']           \n",
      "                                                                                                  \n",
      " activation_12 (Activation)  (None, 17, 17, 32)           0         ['add_15[0][0]']              \n",
      "                                                                                                  \n",
      " conv2d_45 (Conv2D)          (None, 8, 8, 32)             9248      ['activation_12[0][0]']       \n",
      "                                                                                                  \n",
      " flatten_1 (Flatten)         (None, 2048)                 0         ['conv2d_45[0][0]']           \n",
      "                                                                                                  \n",
      " dense_10 (Dense)            (None, 2048)                 4196352   ['flatten_1[0][0]']           \n",
      "                                                                                                  \n",
      " dense_11 (Dense)            (None, 2048)                 4196352   ['dense_10[0][0]']            \n",
      "                                                                                                  \n",
      " dense_12 (Dense)            (None, 2048)                 4196352   ['dense_11[0][0]']            \n",
      "                                                                                                  \n",
      " add_17 (Add)                (None, 2048)                 0         ['dense_10[0][0]',            \n",
      "                                                                     'dense_12[0][0]']            \n",
      "                                                                                                  \n",
      " dropout_2 (Dropout)         (None, 2048)                 0         ['add_17[0][0]']              \n",
      "                                                                                                  \n",
      " dense_13 (Dense)            (None, 16)                   32784     ['dropout_2[0][0]']           \n",
      "                                                                                                  \n",
      " dense_14 (Dense)            (None, 16)                   272       ['dense_13[0][0]']            \n",
      "                                                                                                  \n",
      " dense_15 (Dense)            (None, 16)                   272       ['dense_14[0][0]']            \n",
      "                                                                                                  \n",
      " add_18 (Add)                (None, 16)                   0         ['dense_13[0][0]',            \n",
      "                                                                     'dense_15[0][0]']            \n",
      "                                                                                                  \n",
      " dropout_3 (Dropout)         (None, 16)                   0         ['add_18[0][0]']              \n",
      "                                                                                                  \n",
      " dense_16 (Dense)            (None, 8)                    136       ['dropout_3[0][0]']           \n",
      "                                                                                                  \n",
      " dense_17 (Dense)            (None, 8)                    72        ['dense_16[0][0]']            \n",
      "                                                                                                  \n",
      " dense_18 (Dense)            (None, 8)                    72        ['dense_17[0][0]']            \n",
      "                                                                                                  \n",
      " add_19 (Add)                (None, 8)                    0         ['dense_16[0][0]',            \n",
      "                                                                     'dense_18[0][0]']            \n",
      "                                                                                                  \n",
      " dense_19 (Dense)            (None, 1)                    9         ['add_19[0][0]']              \n",
      "                                                                                                  \n",
      "==================================================================================================\n",
      "Total params: 12701473 (48.45 MB)\n",
      "Trainable params: 12701473 (48.45 MB)\n",
      "Non-trainable params: 0 (0.00 Byte)\n",
      "__________________________________________________________________________________________________\n"
     ]
    }
   ],
   "source": [
    "# Importing the required layers for the Convolutional Neural Network\n",
    "from tensorflow.keras.layers import Conv2D, MaxPooling2D, Flatten, Dense, Dropout, add, Activation, Input, concatenate\n",
    "from tensorflow.keras import mixed_precision, Model, regularizers\n",
    "from tensorflow.keras.initializers import HeNormal\n",
    "\n",
    "# Define the L2 regularizer\n",
    "l2_reg = regularizers.l2(0.001)\n",
    "\n",
    "# Set the policy to 'mixed_float16'\n",
    "mixed_precision.set_global_policy('mixed_float16')\n",
    "\n",
    "# Define the He Normal initializer\n",
    "he_normal_initializer = HeNormal()\n",
    "\n",
    "def inception_module(x, filters):\n",
    "    # 1x1 conv\n",
    "    conv1 = Conv2D(filters*.25, (1, 1), padding='same', activation='relu', kernel_initializer=he_normal_initializer)(x)\n",
    "\n",
    "    # 1x1 conv -> 3x3 conv\n",
    "    conv2 = Conv2D(filters, (1, 1), padding='same', activation='relu', kernel_initializer=he_normal_initializer)(x)\n",
    "    conv2 = Conv2D(filters*.5, (3, 3), padding='same', activation='relu', kernel_initializer=he_normal_initializer)(conv2)\n",
    "\n",
    "    # 1x1 conv -> 5x5 conv\n",
    "    conv3 = Conv2D(filters, (1, 1), padding='same', activation='relu', kernel_initializer=he_normal_initializer)(x)\n",
    "    conv3 = Conv2D(filters*.25, (5, 5), padding='same', activation='relu', kernel_initializer=he_normal_initializer)(conv3)\n",
    "\n",
    "    return concatenate([conv1, conv2, conv3], axis=-1)\n",
    "\n",
    "# Define the input shapfilters\n",
    "input_layer = Input(shape=(156, 156, 1))\n",
    "\n",
    "# Add the new Conv2D layers\n",
    "x = Conv2D(16, (3, 3), strides=(2, 2), activation='relu', kernel_initializer=he_normal_initializer)(input_layer)\n",
    "x = Conv2D(16, (3, 3), strides=(2, 2), activation='relu', kernel_initializer=he_normal_initializer)(x)\n",
    "\n",
    "x = inception_module(x, 16)\n",
    "x = inception_module(x, 32)\n",
    "\n",
    "x = Conv2D(32, (3, 3), strides=(2, 2), activation='relu', kernel_initializer=he_normal_initializer)(x)\n",
    "\n",
    "x = inception_module(x, 64)\n",
    "\n",
    "x = Conv2D(64, (3, 3), strides=(2, 2), activation='relu', kernel_initializer=he_normal_initializer)(x)\n",
    "\n",
    "x = Dropout(0.1)(x)\n",
    "\n",
    "x = Flatten()(x)\n",
    "\n",
    "# Add your dense layers here\n",
    "# For example:\n",
    "x = Dense(128, activation='relu', kernel_initializer=he_normal_initializer)(x)\n",
    "x = Dense(1, dtype=tf.float32, kernel_initializer=he_normal_initializer)(x)\n",
    "\n",
    "model = Model(inputs=input_layer, outputs=x)\n",
    "\n",
    "# Print the summary of the model to check the number of parameters and the structure\n",
    "model.summary()\n",
    "# Print the summary of the model to check the number of parameters and the structure"
   ]
  },
  {
   "cell_type": "markdown",
   "metadata": {},
   "source": [
    "# Train the Convolutional Neural Network\n",
    "Train the CNN model using the prepared training data."
   ]
  },
  {
   "cell_type": "code",
   "execution_count": 9,
   "metadata": {},
   "outputs": [
    {
     "name": "stdout",
     "output_type": "stream",
     "text": [
      "Epoch 1/5\n",
      "     12/Unknown - 60s 5s/step - loss: 7.5318 - mean_absolute_percentage_error: 426.4277"
     ]
    },
    {
     "ename": "KeyboardInterrupt",
     "evalue": "",
     "output_type": "error",
     "traceback": [
      "\u001b[0;31m---------------------------------------------------------------------------\u001b[0m",
      "\u001b[0;31mKeyboardInterrupt\u001b[0m                         Traceback (most recent call last)",
      "Cell \u001b[0;32mIn[9], line 14\u001b[0m\n\u001b[1;32m     10\u001b[0m model\u001b[38;5;241m.\u001b[39mcompile(optimizer\u001b[38;5;241m=\u001b[39m\u001b[38;5;124m'\u001b[39m\u001b[38;5;124madam\u001b[39m\u001b[38;5;124m'\u001b[39m, loss\u001b[38;5;241m=\u001b[39m\u001b[38;5;124m'\u001b[39m\u001b[38;5;124mmean_absolute_error\u001b[39m\u001b[38;5;124m'\u001b[39m, metrics\u001b[38;5;241m=\u001b[39m[\u001b[38;5;124m'\u001b[39m\u001b[38;5;124mmean_absolute_percentage_error\u001b[39m\u001b[38;5;124m'\u001b[39m])\n\u001b[1;32m     12\u001b[0m \u001b[38;5;66;03m# Train the model for 10 epochs using the training and validation data\u001b[39;00m\n\u001b[1;32m     13\u001b[0m \u001b[38;5;66;03m# We use a batch size of 32\u001b[39;00m\n\u001b[0;32m---> 14\u001b[0m history \u001b[38;5;241m=\u001b[39m \u001b[43mmodel\u001b[49m\u001b[38;5;241;43m.\u001b[39;49m\u001b[43mfit\u001b[49m\u001b[43m(\u001b[49m\u001b[43mtrain_dataset\u001b[49m\u001b[43m,\u001b[49m\u001b[43m \u001b[49m\u001b[43mepochs\u001b[49m\u001b[38;5;241;43m=\u001b[39;49m\u001b[38;5;241;43m5\u001b[39;49m\u001b[43m,\u001b[49m\u001b[43m \u001b[49m\u001b[43mvalidation_data\u001b[49m\u001b[38;5;241;43m=\u001b[39;49m\u001b[43mval_dataset\u001b[49m\u001b[43m,\u001b[49m\u001b[43m \u001b[49m\u001b[43mverbose\u001b[49m\u001b[38;5;241;43m=\u001b[39;49m\u001b[38;5;241;43m1\u001b[39;49m\u001b[43m)\u001b[49m\n\u001b[1;32m     16\u001b[0m \u001b[38;5;66;03m# Save the trained model for future use\u001b[39;00m\n\u001b[1;32m     17\u001b[0m model\u001b[38;5;241m.\u001b[39msave(\u001b[38;5;124m'\u001b[39m\u001b[38;5;124mcnn_model.h5\u001b[39m\u001b[38;5;124m'\u001b[39m)\n",
      "File \u001b[0;32m~/miniconda3/envs/dataAnalysis/lib/python3.11/site-packages/keras/src/utils/traceback_utils.py:65\u001b[0m, in \u001b[0;36mfilter_traceback.<locals>.error_handler\u001b[0;34m(*args, **kwargs)\u001b[0m\n\u001b[1;32m     63\u001b[0m filtered_tb \u001b[38;5;241m=\u001b[39m \u001b[38;5;28;01mNone\u001b[39;00m\n\u001b[1;32m     64\u001b[0m \u001b[38;5;28;01mtry\u001b[39;00m:\n\u001b[0;32m---> 65\u001b[0m     \u001b[38;5;28;01mreturn\u001b[39;00m \u001b[43mfn\u001b[49m\u001b[43m(\u001b[49m\u001b[38;5;241;43m*\u001b[39;49m\u001b[43margs\u001b[49m\u001b[43m,\u001b[49m\u001b[43m \u001b[49m\u001b[38;5;241;43m*\u001b[39;49m\u001b[38;5;241;43m*\u001b[39;49m\u001b[43mkwargs\u001b[49m\u001b[43m)\u001b[49m\n\u001b[1;32m     66\u001b[0m \u001b[38;5;28;01mexcept\u001b[39;00m \u001b[38;5;167;01mException\u001b[39;00m \u001b[38;5;28;01mas\u001b[39;00m e:\n\u001b[1;32m     67\u001b[0m     filtered_tb \u001b[38;5;241m=\u001b[39m _process_traceback_frames(e\u001b[38;5;241m.\u001b[39m__traceback__)\n",
      "File \u001b[0;32m~/miniconda3/envs/dataAnalysis/lib/python3.11/site-packages/keras/src/engine/training.py:1807\u001b[0m, in \u001b[0;36mModel.fit\u001b[0;34m(self, x, y, batch_size, epochs, verbose, callbacks, validation_split, validation_data, shuffle, class_weight, sample_weight, initial_epoch, steps_per_epoch, validation_steps, validation_batch_size, validation_freq, max_queue_size, workers, use_multiprocessing)\u001b[0m\n\u001b[1;32m   1799\u001b[0m \u001b[38;5;28;01mwith\u001b[39;00m tf\u001b[38;5;241m.\u001b[39mprofiler\u001b[38;5;241m.\u001b[39mexperimental\u001b[38;5;241m.\u001b[39mTrace(\n\u001b[1;32m   1800\u001b[0m     \u001b[38;5;124m\"\u001b[39m\u001b[38;5;124mtrain\u001b[39m\u001b[38;5;124m\"\u001b[39m,\n\u001b[1;32m   1801\u001b[0m     epoch_num\u001b[38;5;241m=\u001b[39mepoch,\n\u001b[0;32m   (...)\u001b[0m\n\u001b[1;32m   1804\u001b[0m     _r\u001b[38;5;241m=\u001b[39m\u001b[38;5;241m1\u001b[39m,\n\u001b[1;32m   1805\u001b[0m ):\n\u001b[1;32m   1806\u001b[0m     callbacks\u001b[38;5;241m.\u001b[39mon_train_batch_begin(step)\n\u001b[0;32m-> 1807\u001b[0m     tmp_logs \u001b[38;5;241m=\u001b[39m \u001b[38;5;28;43mself\u001b[39;49m\u001b[38;5;241;43m.\u001b[39;49m\u001b[43mtrain_function\u001b[49m\u001b[43m(\u001b[49m\u001b[43miterator\u001b[49m\u001b[43m)\u001b[49m\n\u001b[1;32m   1808\u001b[0m     \u001b[38;5;28;01mif\u001b[39;00m data_handler\u001b[38;5;241m.\u001b[39mshould_sync:\n\u001b[1;32m   1809\u001b[0m         context\u001b[38;5;241m.\u001b[39masync_wait()\n",
      "File \u001b[0;32m~/miniconda3/envs/dataAnalysis/lib/python3.11/site-packages/tensorflow/python/util/traceback_utils.py:150\u001b[0m, in \u001b[0;36mfilter_traceback.<locals>.error_handler\u001b[0;34m(*args, **kwargs)\u001b[0m\n\u001b[1;32m    148\u001b[0m filtered_tb \u001b[38;5;241m=\u001b[39m \u001b[38;5;28;01mNone\u001b[39;00m\n\u001b[1;32m    149\u001b[0m \u001b[38;5;28;01mtry\u001b[39;00m:\n\u001b[0;32m--> 150\u001b[0m   \u001b[38;5;28;01mreturn\u001b[39;00m \u001b[43mfn\u001b[49m\u001b[43m(\u001b[49m\u001b[38;5;241;43m*\u001b[39;49m\u001b[43margs\u001b[49m\u001b[43m,\u001b[49m\u001b[43m \u001b[49m\u001b[38;5;241;43m*\u001b[39;49m\u001b[38;5;241;43m*\u001b[39;49m\u001b[43mkwargs\u001b[49m\u001b[43m)\u001b[49m\n\u001b[1;32m    151\u001b[0m \u001b[38;5;28;01mexcept\u001b[39;00m \u001b[38;5;167;01mException\u001b[39;00m \u001b[38;5;28;01mas\u001b[39;00m e:\n\u001b[1;32m    152\u001b[0m   filtered_tb \u001b[38;5;241m=\u001b[39m _process_traceback_frames(e\u001b[38;5;241m.\u001b[39m__traceback__)\n",
      "File \u001b[0;32m~/miniconda3/envs/dataAnalysis/lib/python3.11/site-packages/tensorflow/python/eager/polymorphic_function/polymorphic_function.py:832\u001b[0m, in \u001b[0;36mFunction.__call__\u001b[0;34m(self, *args, **kwds)\u001b[0m\n\u001b[1;32m    829\u001b[0m compiler \u001b[38;5;241m=\u001b[39m \u001b[38;5;124m\"\u001b[39m\u001b[38;5;124mxla\u001b[39m\u001b[38;5;124m\"\u001b[39m \u001b[38;5;28;01mif\u001b[39;00m \u001b[38;5;28mself\u001b[39m\u001b[38;5;241m.\u001b[39m_jit_compile \u001b[38;5;28;01melse\u001b[39;00m \u001b[38;5;124m\"\u001b[39m\u001b[38;5;124mnonXla\u001b[39m\u001b[38;5;124m\"\u001b[39m\n\u001b[1;32m    831\u001b[0m \u001b[38;5;28;01mwith\u001b[39;00m OptionalXlaContext(\u001b[38;5;28mself\u001b[39m\u001b[38;5;241m.\u001b[39m_jit_compile):\n\u001b[0;32m--> 832\u001b[0m   result \u001b[38;5;241m=\u001b[39m \u001b[38;5;28;43mself\u001b[39;49m\u001b[38;5;241;43m.\u001b[39;49m\u001b[43m_call\u001b[49m\u001b[43m(\u001b[49m\u001b[38;5;241;43m*\u001b[39;49m\u001b[43margs\u001b[49m\u001b[43m,\u001b[49m\u001b[43m \u001b[49m\u001b[38;5;241;43m*\u001b[39;49m\u001b[38;5;241;43m*\u001b[39;49m\u001b[43mkwds\u001b[49m\u001b[43m)\u001b[49m\n\u001b[1;32m    834\u001b[0m new_tracing_count \u001b[38;5;241m=\u001b[39m \u001b[38;5;28mself\u001b[39m\u001b[38;5;241m.\u001b[39mexperimental_get_tracing_count()\n\u001b[1;32m    835\u001b[0m without_tracing \u001b[38;5;241m=\u001b[39m (tracing_count \u001b[38;5;241m==\u001b[39m new_tracing_count)\n",
      "File \u001b[0;32m~/miniconda3/envs/dataAnalysis/lib/python3.11/site-packages/tensorflow/python/eager/polymorphic_function/polymorphic_function.py:868\u001b[0m, in \u001b[0;36mFunction._call\u001b[0;34m(self, *args, **kwds)\u001b[0m\n\u001b[1;32m    865\u001b[0m   \u001b[38;5;28mself\u001b[39m\u001b[38;5;241m.\u001b[39m_lock\u001b[38;5;241m.\u001b[39mrelease()\n\u001b[1;32m    866\u001b[0m   \u001b[38;5;66;03m# In this case we have created variables on the first call, so we run the\u001b[39;00m\n\u001b[1;32m    867\u001b[0m   \u001b[38;5;66;03m# defunned version which is guaranteed to never create variables.\u001b[39;00m\n\u001b[0;32m--> 868\u001b[0m   \u001b[38;5;28;01mreturn\u001b[39;00m \u001b[43mtracing_compilation\u001b[49m\u001b[38;5;241;43m.\u001b[39;49m\u001b[43mcall_function\u001b[49m\u001b[43m(\u001b[49m\n\u001b[1;32m    869\u001b[0m \u001b[43m      \u001b[49m\u001b[43margs\u001b[49m\u001b[43m,\u001b[49m\u001b[43m \u001b[49m\u001b[43mkwds\u001b[49m\u001b[43m,\u001b[49m\u001b[43m \u001b[49m\u001b[38;5;28;43mself\u001b[39;49m\u001b[38;5;241;43m.\u001b[39;49m\u001b[43m_no_variable_creation_config\u001b[49m\n\u001b[1;32m    870\u001b[0m \u001b[43m  \u001b[49m\u001b[43m)\u001b[49m\n\u001b[1;32m    871\u001b[0m \u001b[38;5;28;01melif\u001b[39;00m \u001b[38;5;28mself\u001b[39m\u001b[38;5;241m.\u001b[39m_variable_creation_config \u001b[38;5;129;01mis\u001b[39;00m \u001b[38;5;129;01mnot\u001b[39;00m \u001b[38;5;28;01mNone\u001b[39;00m:\n\u001b[1;32m    872\u001b[0m   \u001b[38;5;66;03m# Release the lock early so that multiple threads can perform the call\u001b[39;00m\n\u001b[1;32m    873\u001b[0m   \u001b[38;5;66;03m# in parallel.\u001b[39;00m\n\u001b[1;32m    874\u001b[0m   \u001b[38;5;28mself\u001b[39m\u001b[38;5;241m.\u001b[39m_lock\u001b[38;5;241m.\u001b[39mrelease()\n",
      "File \u001b[0;32m~/miniconda3/envs/dataAnalysis/lib/python3.11/site-packages/tensorflow/python/eager/polymorphic_function/tracing_compilation.py:139\u001b[0m, in \u001b[0;36mcall_function\u001b[0;34m(args, kwargs, tracing_options)\u001b[0m\n\u001b[1;32m    137\u001b[0m bound_args \u001b[38;5;241m=\u001b[39m function\u001b[38;5;241m.\u001b[39mfunction_type\u001b[38;5;241m.\u001b[39mbind(\u001b[38;5;241m*\u001b[39margs, \u001b[38;5;241m*\u001b[39m\u001b[38;5;241m*\u001b[39mkwargs)\n\u001b[1;32m    138\u001b[0m flat_inputs \u001b[38;5;241m=\u001b[39m function\u001b[38;5;241m.\u001b[39mfunction_type\u001b[38;5;241m.\u001b[39munpack_inputs(bound_args)\n\u001b[0;32m--> 139\u001b[0m \u001b[38;5;28;01mreturn\u001b[39;00m \u001b[43mfunction\u001b[49m\u001b[38;5;241;43m.\u001b[39;49m\u001b[43m_call_flat\u001b[49m\u001b[43m(\u001b[49m\u001b[43m  \u001b[49m\u001b[38;5;66;43;03m# pylint: disable=protected-access\u001b[39;49;00m\n\u001b[1;32m    140\u001b[0m \u001b[43m    \u001b[49m\u001b[43mflat_inputs\u001b[49m\u001b[43m,\u001b[49m\u001b[43m \u001b[49m\u001b[43mcaptured_inputs\u001b[49m\u001b[38;5;241;43m=\u001b[39;49m\u001b[43mfunction\u001b[49m\u001b[38;5;241;43m.\u001b[39;49m\u001b[43mcaptured_inputs\u001b[49m\n\u001b[1;32m    141\u001b[0m \u001b[43m\u001b[49m\u001b[43m)\u001b[49m\n",
      "File \u001b[0;32m~/miniconda3/envs/dataAnalysis/lib/python3.11/site-packages/tensorflow/python/eager/polymorphic_function/concrete_function.py:1323\u001b[0m, in \u001b[0;36mConcreteFunction._call_flat\u001b[0;34m(self, tensor_inputs, captured_inputs)\u001b[0m\n\u001b[1;32m   1319\u001b[0m possible_gradient_type \u001b[38;5;241m=\u001b[39m gradients_util\u001b[38;5;241m.\u001b[39mPossibleTapeGradientTypes(args)\n\u001b[1;32m   1320\u001b[0m \u001b[38;5;28;01mif\u001b[39;00m (possible_gradient_type \u001b[38;5;241m==\u001b[39m gradients_util\u001b[38;5;241m.\u001b[39mPOSSIBLE_GRADIENT_TYPES_NONE\n\u001b[1;32m   1321\u001b[0m     \u001b[38;5;129;01mand\u001b[39;00m executing_eagerly):\n\u001b[1;32m   1322\u001b[0m   \u001b[38;5;66;03m# No tape is watching; skip to running the function.\u001b[39;00m\n\u001b[0;32m-> 1323\u001b[0m   \u001b[38;5;28;01mreturn\u001b[39;00m \u001b[38;5;28;43mself\u001b[39;49m\u001b[38;5;241;43m.\u001b[39;49m\u001b[43m_inference_function\u001b[49m\u001b[38;5;241;43m.\u001b[39;49m\u001b[43mcall_preflattened\u001b[49m\u001b[43m(\u001b[49m\u001b[43margs\u001b[49m\u001b[43m)\u001b[49m\n\u001b[1;32m   1324\u001b[0m forward_backward \u001b[38;5;241m=\u001b[39m \u001b[38;5;28mself\u001b[39m\u001b[38;5;241m.\u001b[39m_select_forward_and_backward_functions(\n\u001b[1;32m   1325\u001b[0m     args,\n\u001b[1;32m   1326\u001b[0m     possible_gradient_type,\n\u001b[1;32m   1327\u001b[0m     executing_eagerly)\n\u001b[1;32m   1328\u001b[0m forward_function, args_with_tangents \u001b[38;5;241m=\u001b[39m forward_backward\u001b[38;5;241m.\u001b[39mforward()\n",
      "File \u001b[0;32m~/miniconda3/envs/dataAnalysis/lib/python3.11/site-packages/tensorflow/python/eager/polymorphic_function/atomic_function.py:216\u001b[0m, in \u001b[0;36mAtomicFunction.call_preflattened\u001b[0;34m(self, args)\u001b[0m\n\u001b[1;32m    214\u001b[0m \u001b[38;5;28;01mdef\u001b[39;00m \u001b[38;5;21mcall_preflattened\u001b[39m(\u001b[38;5;28mself\u001b[39m, args: Sequence[core\u001b[38;5;241m.\u001b[39mTensor]) \u001b[38;5;241m-\u001b[39m\u001b[38;5;241m>\u001b[39m Any:\n\u001b[1;32m    215\u001b[0m \u001b[38;5;250m  \u001b[39m\u001b[38;5;124;03m\"\"\"Calls with flattened tensor inputs and returns the structured output.\"\"\"\u001b[39;00m\n\u001b[0;32m--> 216\u001b[0m   flat_outputs \u001b[38;5;241m=\u001b[39m \u001b[38;5;28;43mself\u001b[39;49m\u001b[38;5;241;43m.\u001b[39;49m\u001b[43mcall_flat\u001b[49m\u001b[43m(\u001b[49m\u001b[38;5;241;43m*\u001b[39;49m\u001b[43margs\u001b[49m\u001b[43m)\u001b[49m\n\u001b[1;32m    217\u001b[0m   \u001b[38;5;28;01mreturn\u001b[39;00m \u001b[38;5;28mself\u001b[39m\u001b[38;5;241m.\u001b[39mfunction_type\u001b[38;5;241m.\u001b[39mpack_output(flat_outputs)\n",
      "File \u001b[0;32m~/miniconda3/envs/dataAnalysis/lib/python3.11/site-packages/tensorflow/python/eager/polymorphic_function/atomic_function.py:251\u001b[0m, in \u001b[0;36mAtomicFunction.call_flat\u001b[0;34m(self, *args)\u001b[0m\n\u001b[1;32m    249\u001b[0m \u001b[38;5;28;01mwith\u001b[39;00m record\u001b[38;5;241m.\u001b[39mstop_recording():\n\u001b[1;32m    250\u001b[0m   \u001b[38;5;28;01mif\u001b[39;00m \u001b[38;5;28mself\u001b[39m\u001b[38;5;241m.\u001b[39m_bound_context\u001b[38;5;241m.\u001b[39mexecuting_eagerly():\n\u001b[0;32m--> 251\u001b[0m     outputs \u001b[38;5;241m=\u001b[39m \u001b[38;5;28;43mself\u001b[39;49m\u001b[38;5;241;43m.\u001b[39;49m\u001b[43m_bound_context\u001b[49m\u001b[38;5;241;43m.\u001b[39;49m\u001b[43mcall_function\u001b[49m\u001b[43m(\u001b[49m\n\u001b[1;32m    252\u001b[0m \u001b[43m        \u001b[49m\u001b[38;5;28;43mself\u001b[39;49m\u001b[38;5;241;43m.\u001b[39;49m\u001b[43mname\u001b[49m\u001b[43m,\u001b[49m\n\u001b[1;32m    253\u001b[0m \u001b[43m        \u001b[49m\u001b[38;5;28;43mlist\u001b[39;49m\u001b[43m(\u001b[49m\u001b[43margs\u001b[49m\u001b[43m)\u001b[49m\u001b[43m,\u001b[49m\n\u001b[1;32m    254\u001b[0m \u001b[43m        \u001b[49m\u001b[38;5;28;43mlen\u001b[39;49m\u001b[43m(\u001b[49m\u001b[38;5;28;43mself\u001b[39;49m\u001b[38;5;241;43m.\u001b[39;49m\u001b[43mfunction_type\u001b[49m\u001b[38;5;241;43m.\u001b[39;49m\u001b[43mflat_outputs\u001b[49m\u001b[43m)\u001b[49m\u001b[43m,\u001b[49m\n\u001b[1;32m    255\u001b[0m \u001b[43m    \u001b[49m\u001b[43m)\u001b[49m\n\u001b[1;32m    256\u001b[0m   \u001b[38;5;28;01melse\u001b[39;00m:\n\u001b[1;32m    257\u001b[0m     outputs \u001b[38;5;241m=\u001b[39m make_call_op_in_graph(\n\u001b[1;32m    258\u001b[0m         \u001b[38;5;28mself\u001b[39m,\n\u001b[1;32m    259\u001b[0m         \u001b[38;5;28mlist\u001b[39m(args),\n\u001b[1;32m    260\u001b[0m         \u001b[38;5;28mself\u001b[39m\u001b[38;5;241m.\u001b[39m_bound_context\u001b[38;5;241m.\u001b[39mfunction_call_options\u001b[38;5;241m.\u001b[39mas_attrs(),\n\u001b[1;32m    261\u001b[0m     )\n",
      "File \u001b[0;32m~/miniconda3/envs/dataAnalysis/lib/python3.11/site-packages/tensorflow/python/eager/context.py:1486\u001b[0m, in \u001b[0;36mContext.call_function\u001b[0;34m(self, name, tensor_inputs, num_outputs)\u001b[0m\n\u001b[1;32m   1484\u001b[0m cancellation_context \u001b[38;5;241m=\u001b[39m cancellation\u001b[38;5;241m.\u001b[39mcontext()\n\u001b[1;32m   1485\u001b[0m \u001b[38;5;28;01mif\u001b[39;00m cancellation_context \u001b[38;5;129;01mis\u001b[39;00m \u001b[38;5;28;01mNone\u001b[39;00m:\n\u001b[0;32m-> 1486\u001b[0m   outputs \u001b[38;5;241m=\u001b[39m \u001b[43mexecute\u001b[49m\u001b[38;5;241;43m.\u001b[39;49m\u001b[43mexecute\u001b[49m\u001b[43m(\u001b[49m\n\u001b[1;32m   1487\u001b[0m \u001b[43m      \u001b[49m\u001b[43mname\u001b[49m\u001b[38;5;241;43m.\u001b[39;49m\u001b[43mdecode\u001b[49m\u001b[43m(\u001b[49m\u001b[38;5;124;43m\"\u001b[39;49m\u001b[38;5;124;43mutf-8\u001b[39;49m\u001b[38;5;124;43m\"\u001b[39;49m\u001b[43m)\u001b[49m\u001b[43m,\u001b[49m\n\u001b[1;32m   1488\u001b[0m \u001b[43m      \u001b[49m\u001b[43mnum_outputs\u001b[49m\u001b[38;5;241;43m=\u001b[39;49m\u001b[43mnum_outputs\u001b[49m\u001b[43m,\u001b[49m\n\u001b[1;32m   1489\u001b[0m \u001b[43m      \u001b[49m\u001b[43minputs\u001b[49m\u001b[38;5;241;43m=\u001b[39;49m\u001b[43mtensor_inputs\u001b[49m\u001b[43m,\u001b[49m\n\u001b[1;32m   1490\u001b[0m \u001b[43m      \u001b[49m\u001b[43mattrs\u001b[49m\u001b[38;5;241;43m=\u001b[39;49m\u001b[43mattrs\u001b[49m\u001b[43m,\u001b[49m\n\u001b[1;32m   1491\u001b[0m \u001b[43m      \u001b[49m\u001b[43mctx\u001b[49m\u001b[38;5;241;43m=\u001b[39;49m\u001b[38;5;28;43mself\u001b[39;49m\u001b[43m,\u001b[49m\n\u001b[1;32m   1492\u001b[0m \u001b[43m  \u001b[49m\u001b[43m)\u001b[49m\n\u001b[1;32m   1493\u001b[0m \u001b[38;5;28;01melse\u001b[39;00m:\n\u001b[1;32m   1494\u001b[0m   outputs \u001b[38;5;241m=\u001b[39m execute\u001b[38;5;241m.\u001b[39mexecute_with_cancellation(\n\u001b[1;32m   1495\u001b[0m       name\u001b[38;5;241m.\u001b[39mdecode(\u001b[38;5;124m\"\u001b[39m\u001b[38;5;124mutf-8\u001b[39m\u001b[38;5;124m\"\u001b[39m),\n\u001b[1;32m   1496\u001b[0m       num_outputs\u001b[38;5;241m=\u001b[39mnum_outputs,\n\u001b[0;32m   (...)\u001b[0m\n\u001b[1;32m   1500\u001b[0m       cancellation_manager\u001b[38;5;241m=\u001b[39mcancellation_context,\n\u001b[1;32m   1501\u001b[0m   )\n",
      "File \u001b[0;32m~/miniconda3/envs/dataAnalysis/lib/python3.11/site-packages/tensorflow/python/eager/execute.py:53\u001b[0m, in \u001b[0;36mquick_execute\u001b[0;34m(op_name, num_outputs, inputs, attrs, ctx, name)\u001b[0m\n\u001b[1;32m     51\u001b[0m \u001b[38;5;28;01mtry\u001b[39;00m:\n\u001b[1;32m     52\u001b[0m   ctx\u001b[38;5;241m.\u001b[39mensure_initialized()\n\u001b[0;32m---> 53\u001b[0m   tensors \u001b[38;5;241m=\u001b[39m \u001b[43mpywrap_tfe\u001b[49m\u001b[38;5;241;43m.\u001b[39;49m\u001b[43mTFE_Py_Execute\u001b[49m\u001b[43m(\u001b[49m\u001b[43mctx\u001b[49m\u001b[38;5;241;43m.\u001b[39;49m\u001b[43m_handle\u001b[49m\u001b[43m,\u001b[49m\u001b[43m \u001b[49m\u001b[43mdevice_name\u001b[49m\u001b[43m,\u001b[49m\u001b[43m \u001b[49m\u001b[43mop_name\u001b[49m\u001b[43m,\u001b[49m\n\u001b[1;32m     54\u001b[0m \u001b[43m                                      \u001b[49m\u001b[43minputs\u001b[49m\u001b[43m,\u001b[49m\u001b[43m \u001b[49m\u001b[43mattrs\u001b[49m\u001b[43m,\u001b[49m\u001b[43m \u001b[49m\u001b[43mnum_outputs\u001b[49m\u001b[43m)\u001b[49m\n\u001b[1;32m     55\u001b[0m \u001b[38;5;28;01mexcept\u001b[39;00m core\u001b[38;5;241m.\u001b[39m_NotOkStatusException \u001b[38;5;28;01mas\u001b[39;00m e:\n\u001b[1;32m     56\u001b[0m   \u001b[38;5;28;01mif\u001b[39;00m name \u001b[38;5;129;01mis\u001b[39;00m \u001b[38;5;129;01mnot\u001b[39;00m \u001b[38;5;28;01mNone\u001b[39;00m:\n",
      "\u001b[0;31mKeyboardInterrupt\u001b[0m: "
     ]
    }
   ],
   "source": [
    "# Importing the required library for the model compilation and training\n",
    "from tensorflow.keras.optimizers import Adam\n",
    "\n",
    "def mean_absolute_log_error(y_true, y_pred):\n",
    "    return tf.reduce_mean(tf.math.abs(tf.math.log1p(y_true) - tf.math.log1p(y_pred)))\n",
    "\n",
    "# Compile the model\n",
    "# We use the Adam optimizer, Mean Squared Logarithmic Error (MSLE) as loss function, and Mean Absolute Percentage Error (MAPE) as metric\n",
    "\n",
    "model.compile(optimizer='adam', loss='mean_absolute_error', metrics=['mean_absolute_percentage_error'])\n",
    "\n",
    "# Train the model for 10 epochs using the training and validation data\n",
    "# We use a batch size of 32\n",
    "history = model.fit(train_dataset, epochs=5, validation_data=val_dataset, verbose=1)\n",
    "\n",
    "# Save the trained model for future use\n",
    "model.save('cnn_model.h5')"
   ]
  },
  {
   "cell_type": "markdown",
   "metadata": {},
   "source": [
    "# Evaluate the Model\n",
    "Evaluate the performance of the trained model using the test data."
   ]
  },
  {
   "cell_type": "code",
   "execution_count": null,
   "metadata": {},
   "outputs": [],
   "source": [
    "# Importing the required library for visualizing the model's performance\n",
    "import matplotlib.pyplot as plt\n",
    "\n",
    "# Evaluate the model using the test data\n",
    "test_loss, test_mae = model.evaluate(test_images, test_labels)\n",
    "\n",
    "# Print the test loss and test mean absolute error\n",
    "print('Test loss:', test_loss)\n",
    "print('Test MAE:', test_mae)\n",
    "\n",
    "# Plot the training and validation loss over each epoch\n",
    "plt.figure(figsize=(12, 6))\n",
    "plt.plot(history.history['loss'], label='Training Loss')\n",
    "plt.plot(history.history['val_loss'], label='Validation Loss')\n",
    "plt.title('Training and Validation Loss Over Time')\n",
    "plt.xlabel('Epoch')\n",
    "plt.ylabel('Loss')\n",
    "plt.legend()\n",
    "plt.show()\n",
    "\n",
    "# Plot the training and validation mean absolute error over each epoch\n",
    "plt.figure(figsize=(12, 6))\n",
    "plt.plot(history.history['mae'], label='Training MAE')\n",
    "plt.plot(history.history['val_mae'], label='Validation MAE')\n",
    "plt.title('Training and Validation MAE Over Time')\n",
    "plt.xlabel('Epoch')\n",
    "plt.ylabel('MAE')\n",
    "plt.legend()\n",
    "plt.show()"
   ]
  },
  {
   "cell_type": "code",
   "execution_count": null,
   "metadata": {},
   "outputs": [],
   "source": []
  }
 ],
 "metadata": {
  "kernelspec": {
   "display_name": "Python 3 (ipykernel)",
   "language": "python",
   "name": "python3"
  },
  "language_info": {
   "codemirror_mode": {
    "name": "ipython",
    "version": 3
   },
   "file_extension": ".py",
   "mimetype": "text/x-python",
   "name": "python",
   "nbconvert_exporter": "python",
   "pygments_lexer": "ipython3",
   "version": "3.11.9"
  }
 },
 "nbformat": 4,
 "nbformat_minor": 4
}
