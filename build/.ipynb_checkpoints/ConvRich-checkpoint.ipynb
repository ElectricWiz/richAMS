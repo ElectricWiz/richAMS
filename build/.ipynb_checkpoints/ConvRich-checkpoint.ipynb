{
 "cells": [
  {
   "cell_type": "markdown",
   "metadata": {},
   "source": [
    "# Import Required Libraries\n",
    "Import the necessary libraries, including pandas, NumPy, TensorFlow, and Keras."
   ]
  },
  {
   "cell_type": "code",
   "execution_count": 1,
   "metadata": {},
   "outputs": [],
   "source": [
    "# Importing the required libraries\n",
    "\n",
    "# Pandas is used for data manipulation and analysis\n",
    "import pandas as pd\n",
    "\n",
    "# NumPy is used for numerical operations\n",
    "import numpy as np\n",
    "\n",
    "# Keras is a user-friendly neural network library written in Python\n",
    "from tensorflow import keras"
   ]
  },
  {
   "cell_type": "markdown",
   "metadata": {},
   "source": [
    "# Load and Inspect the Data\n",
    "Load the training.csv file into a DataFrame and inspect its structure and contents."
   ]
  },
  {
   "cell_type": "code",
   "execution_count": 2,
   "metadata": {},
   "outputs": [
    {
     "name": "stdout",
     "output_type": "stream",
     "text": [
      "   detectorPositionX  detectorPositionY  eventNumber  energyPrimary\n",
      "0            -445.75            -265.75            3       5.214844\n",
      "1            -576.00            -195.75            3       5.214844\n",
      "2            -606.00             -45.75            3       5.214844\n",
      "3            -566.00              54.25            3       5.214844\n",
      "4            -485.75            -255.75            3       5.214844\n"
     ]
    },
    {
     "name": "stderr",
     "output_type": "stream",
     "text": [
      "c:\\Users\\jdani\\miniconda3\\lib\\site-packages\\pandas\\core\\nanops.py:1479: RuntimeWarning: overflow encountered in cast\n",
      "  return dtype.type(n)\n",
      "c:\\Users\\jdani\\miniconda3\\lib\\site-packages\\numpy\\core\\_methods.py:49: RuntimeWarning: overflow encountered in reduce\n",
      "  return umr_sum(a, axis, dtype, out, keepdims, initial, where)\n",
      "c:\\Users\\jdani\\miniconda3\\lib\\site-packages\\pandas\\core\\nanops.py:731: RuntimeWarning: invalid value encountered in scalar divide\n",
      "  the_mean = the_sum / count if count > 0 else np.nan\n",
      "c:\\Users\\jdani\\miniconda3\\lib\\site-packages\\pandas\\core\\nanops.py:1010: RuntimeWarning: overflow encountered in square\n",
      "  sqr = _ensure_numeric((avg - values) ** 2)\n",
      "c:\\Users\\jdani\\miniconda3\\lib\\site-packages\\pandas\\core\\nanops.py:1013: RuntimeWarning: invalid value encountered in scalar divide\n",
      "  result = sqr.sum(axis=axis, dtype=np.float64) / d\n",
      "c:\\Users\\jdani\\miniconda3\\lib\\site-packages\\pandas\\core\\nanops.py:1479: RuntimeWarning: overflow encountered in cast\n",
      "  return dtype.type(n)\n",
      "c:\\Users\\jdani\\miniconda3\\lib\\site-packages\\numpy\\core\\_methods.py:49: RuntimeWarning: overflow encountered in reduce\n",
      "  return umr_sum(a, axis, dtype, out, keepdims, initial, where)\n",
      "c:\\Users\\jdani\\miniconda3\\lib\\site-packages\\pandas\\core\\nanops.py:731: RuntimeWarning: invalid value encountered in scalar divide\n",
      "  the_mean = the_sum / count if count > 0 else np.nan\n",
      "c:\\Users\\jdani\\miniconda3\\lib\\site-packages\\pandas\\core\\nanops.py:1010: RuntimeWarning: overflow encountered in square\n",
      "  sqr = _ensure_numeric((avg - values) ** 2)\n",
      "c:\\Users\\jdani\\miniconda3\\lib\\site-packages\\pandas\\core\\nanops.py:1013: RuntimeWarning: invalid value encountered in scalar divide\n",
      "  result = sqr.sum(axis=axis, dtype=np.float64) / d\n",
      "c:\\Users\\jdani\\miniconda3\\lib\\site-packages\\pandas\\core\\nanops.py:1479: RuntimeWarning: overflow encountered in cast\n",
      "  return dtype.type(n)\n",
      "c:\\Users\\jdani\\miniconda3\\lib\\site-packages\\numpy\\core\\_methods.py:49: RuntimeWarning: overflow encountered in reduce\n",
      "  return umr_sum(a, axis, dtype, out, keepdims, initial, where)\n",
      "c:\\Users\\jdani\\miniconda3\\lib\\site-packages\\pandas\\core\\nanops.py:731: RuntimeWarning: invalid value encountered in scalar divide\n",
      "  the_mean = the_sum / count if count > 0 else np.nan\n"
     ]
    },
    {
     "name": "stdout",
     "output_type": "stream",
     "text": [
      "       detectorPositionX  detectorPositionY   eventNumber  energyPrimary\n",
      "count        58493133.00        58493133.00  5.849313e+07   5.849313e+07\n",
      "mean                 NaN                NaN  2.501645e+05            NaN\n",
      "std                  NaN                NaN  1.444039e+05   0.000000e+00\n",
      "min              -646.00            -646.00  3.000000e+00   4.000000e+00\n",
      "25%              -355.75            -345.75  1.252390e+05   4.582031e+00\n",
      "50%                 4.25               4.25  2.504050e+05   5.449219e+00\n",
      "75%               354.25             354.25  3.752320e+05   6.882812e+00\n",
      "max               644.00             644.00  4.999980e+05   1.000000e+01\n",
      "Shape of the DataFrame: (58493133, 4)\n",
      "Data types of the columns: detectorPositionX    float16\n",
      "detectorPositionY    float16\n",
      "eventNumber            int32\n",
      "energyPrimary        float16\n",
      "dtype: object\n"
     ]
    }
   ],
   "source": [
    "import tensorflow as tf\n",
    "import numpy as np\n",
    "\n",
    "# Define a function to parse the tfrecords file\n",
    "def _parse_function(proto):\n",
    "    # Define your tfrecord columns\n",
    "    columns = {\n",
    "        'detectorPositionX': tf.io.FixedLenFeature([], tf.float32),\n",
    "        'detectorPositionY': tf.io.FixedLenFeature([], tf.float32),\n",
    "        'label': tf.io.FixedLenFeature([], tf.int64)\n",
    "    }\n",
    "    \n",
    "    # Parse the input tf.Example proto using the dictionary above.\n",
    "    parsed_features = tf.io.parse_single_example(proto, columns)\n",
    "    \n",
    "    # Create an empty image\n",
    "    image = np.zeros((156, 156), dtype=bool)\n",
    "    \n",
    "    # Change the entries at the positions specified by 'detectorPositionX' and 'detectorPositionY' to one\n",
    "    x = parsed_features['detectorPositionX']\n",
    "    y = parsed_features['detectorPositionY']\n",
    "    image[int((x+680)/8.5) - 1, int((y+680)/8.5) - 1] = True\n",
    "    \n",
    "    # Return the image and the label\n",
    "    return image, parsed_features['label']\n",
    "\n",
    "# Read the tfrecords file\n",
    "dataset = tf.data.TFRecordDataset(\"groups.tfrecords\", compression_type='GZIP')\n",
    "\n",
    "# Map the parse function to each record\n",
    "dataset = dataset.map(_parse_function)\n",
    "\n",
    "# Now, dataset is a tf.data.Dataset of (image, label) pairs ready for training."
   ]
  },
  {
   "cell_type": "markdown",
   "metadata": {},
   "source": [
    "# Prepare the Data\n",
    "Separate the original DataFrame into training, validation, and test sets. Combine the detectorPositionX and detectorPositionY columns into a single array of dimension 39*39. Separate the images taking into account the eventNumber column."
   ]
  },
  {
   "cell_type": "code",
   "execution_count": 3,
   "metadata": {},
   "outputs": [
    {
     "name": "stdout",
     "output_type": "stream",
     "text": [
      "Training set: (125124, 156, 156) (125124,)\n",
      "Validation set: (1277, 156, 156) (1277,)\n",
      "Test set: (1277, 156, 156) (1277,)\n"
     ]
    }
   ],
   "source": [
    "# Count the total number of examples in the dataset\n",
    "total_size = sum(1 for _ in dataset)\n",
    "\n",
    "# Calculate the size of each subset\n",
    "train_size = int(0.98 * total_size)\n",
    "val_size = int(0.01 * total_size)  # validation size\n",
    "test_size = total_size - train_size - val_size  # test size\n",
    "\n",
    "# Shuffle the dataset\n",
    "dataset = dataset.shuffle(total_size)\n",
    "\n",
    "# Split the dataset\n",
    "train_dataset = dataset.take(train_size).batch(64)\n",
    "test_dataset = dataset.skip(train_size).batch(64)\n",
    "val_dataset = test_dataset.skip(val_size).batch(64)\n",
    "test_dataset = test_dataset.take(test_size).batch(64)"
   ]
  },
  {
   "cell_type": "code",
   "execution_count": 4,
   "metadata": {},
   "outputs": [
    {
     "name": "stdout",
     "output_type": "stream",
     "text": [
      "Num GPUs Available:  1\n"
     ]
    }
   ],
   "source": [
    "import tensorflow as tf\n",
    "print(\"Num GPUs Available: \", len(tf.config.list_physical_devices('GPU')))"
   ]
  },
  {
   "cell_type": "markdown",
   "metadata": {},
   "source": [
    "# Create the Convolutional Neural Network\n",
    "Create a CNN model with 3 convolutional layers, two dense layers, and a final layer of one neuron to predict the value of the energyPrimary."
   ]
  },
  {
   "cell_type": "code",
   "execution_count": 5,
   "metadata": {},
   "outputs": [
    {
     "name": "stdout",
     "output_type": "stream",
     "text": [
      "INFO:tensorflow:Mixed precision compatibility check (mixed_float16): OK\n",
      "Your GPU will likely run quickly with dtype policy mixed_float16 as it has compute capability of at least 7.0. Your GPU: NVIDIA GeForce RTX 4060, compute capability 8.9\n",
      "Model: \"sequential\"\n",
      "_________________________________________________________________\n",
      " Layer (type)                Output Shape              Param #   \n",
      "=================================================================\n",
      " conv2d (Conv2D)             (None, 18, 18, 8)         80        \n",
      "                                                                 \n",
      " flatten (Flatten)           (None, 2592)              0         \n",
      "                                                                 \n",
      " dense (Dense)               (None, 16)                41488     \n",
      "                                                                 \n",
      " dropout (Dropout)           (None, 16)                0         \n",
      "                                                                 \n",
      " dense_1 (Dense)             (None, 32)                544       \n",
      "                                                                 \n",
      " dropout_1 (Dropout)         (None, 32)                0         \n",
      "                                                                 \n",
      " dense_2 (Dense)             (None, 8)                 264       \n",
      "                                                                 \n",
      " dense_3 (Dense)             (None, 1)                 9         \n",
      "                                                                 \n",
      "=================================================================\n",
      "Total params: 42,385\n",
      "Trainable params: 42,385\n",
      "Non-trainable params: 0\n",
      "_________________________________________________________________\n"
     ]
    }
   ],
   "source": [
    "# Importing the required layers for the Convolutional Neural Network\n",
    "from tensorflow.keras.layers import Conv2D, MaxPooling2D, Flatten, Dense, Dropout\n",
    "from tensorflow.keras import mixed_precision\n",
    "from tensorflow.keras import regularizers\n",
    "\n",
    "# Define the L2 regularizer\n",
    "l2_reg = regularizers.l2(0.01)\n",
    "\n",
    "# Set the policy to 'mixed_float16'\n",
    "mixed_precision.set_global_policy('mixed_float16')\n",
    "\n",
    "# Define the Convolutional Neural Network model\n",
    "model = keras.models.Sequential()\n",
    "\n",
    "# Add the first convolutional layer with 32 filters, a kernel size of 3x3, 'relu' activation function, and input shape of 39x39x1\n",
    "model.add(Conv2D(8, (3, 3), strides=(9,9), activation='relu', input_shape=(156, 156, 1), kernel_regularizer=l2_reg))\n",
    "\n",
    "# Flatten the tensor output from the convolutional layers to create a single long feature vector\n",
    "model.add(Flatten())\n",
    "\n",
    "# Add a dense layer with 64 units and 'relu' activation function\n",
    "model.add(Dense(16, activation='relu'))\n",
    "model.add(Dropout(0.2))\n",
    "\n",
    "# Add another dense layer with 32 units and 'relu' activation function\n",
    "model.add(Dense(32, activation='relu'))\n",
    "model.add(Dropout(0.35))\n",
    "\n",
    "model.add(Dense(8, activation='relu'))\n",
    "\n",
    "# Add the final layer with one neuron to predict the value of the energyPrimary\n",
    "model.add(Dense(1))\n",
    "\n",
    "# Print the summary of the model to check the number of parameters and the structure\n",
    "model.summary()"
   ]
  },
  {
   "cell_type": "code",
   "execution_count": 6,
   "metadata": {},
   "outputs": [
    {
     "name": "stdout",
     "output_type": "stream",
     "text": [
      "Physical devices cannot be modified after being initialized\n"
     ]
    }
   ],
   "source": [
    "import tensorflow as tf\n",
    "\n",
    "gpus = tf.config.experimental.list_physical_devices('GPU')\n",
    "if gpus:\n",
    "  try:\n",
    "    # Currently, memory growth needs to be the same across GPUs\n",
    "    for gpu in gpus:\n",
    "      tf.config.experimental.set_memory_growth(gpu, True)\n",
    "    logical_gpus = tf.config.experimental.list_logical_devices('GPU')\n",
    "    print(len(gpus), \"Physical GPUs,\", len(logical_gpus), \"Logical GPUs\")\n",
    "  except RuntimeError as e:\n",
    "    # Memory growth must be set before GPUs have been initialized\n",
    "    print(e)"
   ]
  },
  {
   "cell_type": "markdown",
   "metadata": {},
   "source": [
    "# Train the Convolutional Neural Network\n",
    "Train the CNN model using the prepared training data."
   ]
  },
  {
   "cell_type": "code",
   "execution_count": 7,
   "metadata": {},
   "outputs": [
    {
     "name": "stdout",
     "output_type": "stream",
     "text": [
      "Epoch 1/100\n",
      "3911/3911 [==============================] - 26s 5ms/step - loss: 1.3813 - mae: 1.3791 - val_loss: 1.2449 - val_mae: 1.2440\n",
      "Epoch 2/100\n",
      "3911/3911 [==============================] - 19s 5ms/step - loss: 1.2356 - mae: 1.2346 - val_loss: 1.2406 - val_mae: 1.2395\n",
      "Epoch 3/100\n",
      "3911/3911 [==============================] - 20s 5ms/step - loss: 1.2249 - mae: 1.2237 - val_loss: 1.2354 - val_mae: 1.2343\n",
      "Epoch 4/100\n",
      "3911/3911 [==============================] - 21s 5ms/step - loss: 1.2212 - mae: 1.2197 - val_loss: 1.2310 - val_mae: 1.2297\n",
      "Epoch 5/100\n",
      "3911/3911 [==============================] - 21s 5ms/step - loss: 1.2170 - mae: 1.2153 - val_loss: 1.2297 - val_mae: 1.2279\n",
      "Epoch 6/100\n",
      "3911/3911 [==============================] - 21s 5ms/step - loss: 1.2128 - mae: 1.2106 - val_loss: 1.2276 - val_mae: 1.2252\n",
      "Epoch 7/100\n",
      "3911/3911 [==============================] - 21s 5ms/step - loss: 1.2068 - mae: 1.2042 - val_loss: 1.2248 - val_mae: 1.2223\n",
      "Epoch 8/100\n",
      "3911/3911 [==============================] - 22s 6ms/step - loss: 1.2012 - mae: 1.1983 - val_loss: 1.2281 - val_mae: 1.2251\n",
      "Epoch 9/100\n",
      "3911/3911 [==============================] - 21s 5ms/step - loss: 1.1961 - mae: 1.1930 - val_loss: 1.2321 - val_mae: 1.2291\n",
      "Epoch 10/100\n",
      "3911/3911 [==============================] - 21s 5ms/step - loss: 1.1921 - mae: 1.1889 - val_loss: 1.2292 - val_mae: 1.2260\n",
      "Epoch 11/100\n",
      "3911/3911 [==============================] - 21s 5ms/step - loss: 1.1884 - mae: 1.1851 - val_loss: 1.2326 - val_mae: 1.2293\n",
      "Epoch 12/100\n",
      "3911/3911 [==============================] - 21s 5ms/step - loss: 1.1867 - mae: 1.1833 - val_loss: 1.2276 - val_mae: 1.2241\n",
      "Epoch 13/100\n",
      "3911/3911 [==============================] - 21s 5ms/step - loss: 1.1816 - mae: 1.1782 - val_loss: 1.2234 - val_mae: 1.2200\n",
      "Epoch 14/100\n",
      "3911/3911 [==============================] - 21s 5ms/step - loss: 1.1803 - mae: 1.1768 - val_loss: 1.2176 - val_mae: 1.2142\n",
      "Epoch 15/100\n",
      "3911/3911 [==============================] - 21s 5ms/step - loss: 1.1778 - mae: 1.1740 - val_loss: 1.2223 - val_mae: 1.2189\n",
      "Epoch 16/100\n",
      "3911/3911 [==============================] - 21s 5ms/step - loss: 1.1764 - mae: 1.1728 - val_loss: 1.2271 - val_mae: 1.2235\n",
      "Epoch 17/100\n",
      "3911/3911 [==============================] - 21s 5ms/step - loss: 1.1744 - mae: 1.1707 - val_loss: 1.2253 - val_mae: 1.2215\n",
      "Epoch 18/100\n",
      "3911/3911 [==============================] - 21s 5ms/step - loss: 1.1737 - mae: 1.1699 - val_loss: 1.2321 - val_mae: 1.2284\n",
      "Epoch 19/100\n",
      "3911/3911 [==============================] - 21s 5ms/step - loss: 1.1720 - mae: 1.1682 - val_loss: 1.2225 - val_mae: 1.2189\n",
      "Epoch 20/100\n",
      "3911/3911 [==============================] - 22s 6ms/step - loss: 1.1705 - mae: 1.1668 - val_loss: 1.2306 - val_mae: 1.2270\n",
      "Epoch 21/100\n",
      "3911/3911 [==============================] - 22s 6ms/step - loss: 1.1689 - mae: 1.1650 - val_loss: 1.2392 - val_mae: 1.2355\n",
      "Epoch 22/100\n",
      "3911/3911 [==============================] - 22s 6ms/step - loss: 1.1696 - mae: 1.1659 - val_loss: 1.2296 - val_mae: 1.2258\n",
      "Epoch 23/100\n",
      "3911/3911 [==============================] - 22s 6ms/step - loss: 1.1669 - mae: 1.1630 - val_loss: 1.2292 - val_mae: 1.2255\n",
      "Epoch 24/100\n",
      "3911/3911 [==============================] - 22s 6ms/step - loss: 1.1644 - mae: 1.1606 - val_loss: 1.2307 - val_mae: 1.2271\n",
      "Epoch 25/100\n",
      "3911/3911 [==============================] - 22s 6ms/step - loss: 1.1646 - mae: 1.1608 - val_loss: 1.2285 - val_mae: 1.2248\n",
      "Epoch 26/100\n",
      "3911/3911 [==============================] - 22s 6ms/step - loss: 1.1627 - mae: 1.1589 - val_loss: 1.2295 - val_mae: 1.2257\n",
      "Epoch 27/100\n",
      "3911/3911 [==============================] - 22s 6ms/step - loss: 1.1634 - mae: 1.1596 - val_loss: 1.2308 - val_mae: 1.2268\n",
      "Epoch 28/100\n",
      "3911/3911 [==============================] - 22s 6ms/step - loss: 1.1612 - mae: 1.1573 - val_loss: 1.2261 - val_mae: 1.2223\n",
      "Epoch 29/100\n",
      "3911/3911 [==============================] - 21s 5ms/step - loss: 1.1616 - mae: 1.1576 - val_loss: 1.2292 - val_mae: 1.2252\n",
      "Epoch 30/100\n",
      "3911/3911 [==============================] - 22s 6ms/step - loss: 1.1594 - mae: 1.1555 - val_loss: 1.2318 - val_mae: 1.2277\n",
      "Epoch 31/100\n",
      "3911/3911 [==============================] - 22s 6ms/step - loss: 1.1589 - mae: 1.1550 - val_loss: 1.2337 - val_mae: 1.2299\n",
      "Epoch 32/100\n",
      "3911/3911 [==============================] - 22s 6ms/step - loss: 1.1590 - mae: 1.1551 - val_loss: 1.2301 - val_mae: 1.2265\n",
      "Epoch 33/100\n",
      "3911/3911 [==============================] - 22s 6ms/step - loss: 1.1581 - mae: 1.1542 - val_loss: 1.2336 - val_mae: 1.2298\n",
      "Epoch 34/100\n",
      "3911/3911 [==============================] - 21s 5ms/step - loss: 1.1573 - mae: 1.1535 - val_loss: 1.2296 - val_mae: 1.2257\n",
      "Epoch 35/100\n",
      "3911/3911 [==============================] - 22s 6ms/step - loss: 1.1563 - mae: 1.1525 - val_loss: 1.2347 - val_mae: 1.2310\n",
      "Epoch 36/100\n",
      "3911/3911 [==============================] - 22s 6ms/step - loss: 1.1547 - mae: 1.1508 - val_loss: 1.2374 - val_mae: 1.2334\n",
      "Epoch 37/100\n",
      "3911/3911 [==============================] - 21s 5ms/step - loss: 1.1547 - mae: 1.1508 - val_loss: 1.2290 - val_mae: 1.2251\n",
      "Epoch 38/100\n",
      "3911/3911 [==============================] - 22s 6ms/step - loss: 1.1557 - mae: 1.1518 - val_loss: 1.2335 - val_mae: 1.2294\n",
      "Epoch 39/100\n",
      "3911/3911 [==============================] - 22s 6ms/step - loss: 1.1536 - mae: 1.1496 - val_loss: 1.2328 - val_mae: 1.2289\n",
      "Epoch 40/100\n",
      "3911/3911 [==============================] - 22s 6ms/step - loss: 1.1535 - mae: 1.1495 - val_loss: 1.2324 - val_mae: 1.2286\n",
      "Epoch 41/100\n",
      "3911/3911 [==============================] - 22s 6ms/step - loss: 1.1529 - mae: 1.1489 - val_loss: 1.2330 - val_mae: 1.2288\n",
      "Epoch 42/100\n",
      "3911/3911 [==============================] - 22s 6ms/step - loss: 1.1519 - mae: 1.1479 - val_loss: 1.2318 - val_mae: 1.2276\n",
      "Epoch 43/100\n",
      "3911/3911 [==============================] - 22s 6ms/step - loss: 1.1508 - mae: 1.1468 - val_loss: 1.2301 - val_mae: 1.2262\n",
      "Epoch 44/100\n",
      "3911/3911 [==============================] - 21s 5ms/step - loss: 1.1521 - mae: 1.1481 - val_loss: 1.2456 - val_mae: 1.2413\n",
      "Epoch 45/100\n",
      "3911/3911 [==============================] - 21s 5ms/step - loss: 1.1501 - mae: 1.1460 - val_loss: 1.2387 - val_mae: 1.2348\n",
      "Epoch 46/100\n",
      "3911/3911 [==============================] - 21s 5ms/step - loss: 1.1503 - mae: 1.1463 - val_loss: 1.2423 - val_mae: 1.2383\n",
      "Epoch 47/100\n",
      "3911/3911 [==============================] - 21s 5ms/step - loss: 1.1503 - mae: 1.1463 - val_loss: 1.2351 - val_mae: 1.2311\n",
      "Epoch 48/100\n",
      "3911/3911 [==============================] - 21s 5ms/step - loss: 1.1498 - mae: 1.1457 - val_loss: 1.2372 - val_mae: 1.2332\n",
      "Epoch 49/100\n",
      "3911/3911 [==============================] - 21s 5ms/step - loss: 1.1492 - mae: 1.1451 - val_loss: 1.2451 - val_mae: 1.2410\n",
      "Epoch 50/100\n",
      "3911/3911 [==============================] - 21s 5ms/step - loss: 1.1490 - mae: 1.1450 - val_loss: 1.2369 - val_mae: 1.2330\n",
      "Epoch 51/100\n",
      "3911/3911 [==============================] - 22s 6ms/step - loss: 1.1492 - mae: 1.1452 - val_loss: 1.2346 - val_mae: 1.2307\n",
      "Epoch 52/100\n",
      "3911/3911 [==============================] - 22s 6ms/step - loss: 1.1482 - mae: 1.1441 - val_loss: 1.2369 - val_mae: 1.2329\n",
      "Epoch 53/100\n",
      "3911/3911 [==============================] - 21s 5ms/step - loss: 1.1483 - mae: 1.1443 - val_loss: 1.2452 - val_mae: 1.2412\n",
      "Epoch 54/100\n",
      "3911/3911 [==============================] - 21s 5ms/step - loss: 1.1481 - mae: 1.1440 - val_loss: 1.2388 - val_mae: 1.2345\n",
      "Epoch 55/100\n",
      "3911/3911 [==============================] - 21s 5ms/step - loss: 1.1473 - mae: 1.1434 - val_loss: 1.2438 - val_mae: 1.2398\n",
      "Epoch 56/100\n",
      "3911/3911 [==============================] - 22s 6ms/step - loss: 1.1472 - mae: 1.1433 - val_loss: 1.2416 - val_mae: 1.2378\n",
      "Epoch 57/100\n",
      "3911/3911 [==============================] - 21s 5ms/step - loss: 1.1461 - mae: 1.1421 - val_loss: 1.2364 - val_mae: 1.2321\n",
      "Epoch 58/100\n",
      "3911/3911 [==============================] - 22s 6ms/step - loss: 1.1461 - mae: 1.1420 - val_loss: 1.2411 - val_mae: 1.2372\n",
      "Epoch 59/100\n",
      "3911/3911 [==============================] - 21s 5ms/step - loss: 1.1453 - mae: 1.1412 - val_loss: 1.2454 - val_mae: 1.2413\n",
      "Epoch 60/100\n",
      "3911/3911 [==============================] - 22s 5ms/step - loss: 1.1458 - mae: 1.1417 - val_loss: 1.2394 - val_mae: 1.2355\n",
      "Epoch 61/100\n",
      "3911/3911 [==============================] - 21s 5ms/step - loss: 1.1453 - mae: 1.1412 - val_loss: 1.2442 - val_mae: 1.2401\n",
      "Epoch 62/100\n",
      "3884/3911 [============================>.] - ETA: 0s - loss: 1.1452 - mae: 1.1410"
     ]
    },
    {
     "ename": "KeyboardInterrupt",
     "evalue": "",
     "output_type": "error",
     "traceback": [
      "\u001b[1;31m---------------------------------------------------------------------------\u001b[0m",
      "\u001b[1;31mKeyboardInterrupt\u001b[0m                         Traceback (most recent call last)",
      "Cell \u001b[1;32mIn[7], line 12\u001b[0m\n\u001b[0;32m      8\u001b[0m     model\u001b[38;5;241m.\u001b[39mcompile(optimizer\u001b[38;5;241m=\u001b[39m\u001b[38;5;124m'\u001b[39m\u001b[38;5;124madam\u001b[39m\u001b[38;5;124m'\u001b[39m, loss\u001b[38;5;241m=\u001b[39m\u001b[38;5;124m'\u001b[39m\u001b[38;5;124mmean_absolute_error\u001b[39m\u001b[38;5;124m'\u001b[39m, metrics\u001b[38;5;241m=\u001b[39m[\u001b[38;5;124m\"\u001b[39m\u001b[38;5;124mmae\u001b[39m\u001b[38;5;124m\"\u001b[39m])\n\u001b[0;32m     10\u001b[0m \u001b[38;5;66;03m# Train the model for 10 epochs using the training and validation data\u001b[39;00m\n\u001b[0;32m     11\u001b[0m \u001b[38;5;66;03m# We use a batch size of 32\u001b[39;00m\n\u001b[1;32m---> 12\u001b[0m history \u001b[38;5;241m=\u001b[39m \u001b[43mmodel\u001b[49m\u001b[38;5;241;43m.\u001b[39;49m\u001b[43mfit\u001b[49m\u001b[43m(\u001b[49m\u001b[43mtrain_images\u001b[49m\u001b[43m,\u001b[49m\u001b[43m \u001b[49m\u001b[43mtrain_labels\u001b[49m\u001b[43m,\u001b[49m\u001b[43m \u001b[49m\u001b[43mepochs\u001b[49m\u001b[38;5;241;43m=\u001b[39;49m\u001b[38;5;241;43m100\u001b[39;49m\u001b[43m,\u001b[49m\u001b[43m \u001b[49m\u001b[43mbatch_size\u001b[49m\u001b[38;5;241;43m=\u001b[39;49m\u001b[38;5;241;43m32\u001b[39;49m\u001b[43m,\u001b[49m\u001b[43m \u001b[49m\u001b[43mvalidation_data\u001b[49m\u001b[38;5;241;43m=\u001b[39;49m\u001b[43m(\u001b[49m\u001b[43mval_images\u001b[49m\u001b[43m,\u001b[49m\u001b[43m \u001b[49m\u001b[43mval_labels\u001b[49m\u001b[43m)\u001b[49m\u001b[43m)\u001b[49m\n\u001b[0;32m     14\u001b[0m \u001b[38;5;66;03m# Save the trained model for future use\u001b[39;00m\n\u001b[0;32m     15\u001b[0m model\u001b[38;5;241m.\u001b[39msave(\u001b[38;5;124m'\u001b[39m\u001b[38;5;124mcnn_model.h5\u001b[39m\u001b[38;5;124m'\u001b[39m)\n",
      "File \u001b[1;32mc:\\Users\\jdani\\miniconda3\\lib\\site-packages\\keras\\utils\\traceback_utils.py:65\u001b[0m, in \u001b[0;36mfilter_traceback.<locals>.error_handler\u001b[1;34m(*args, **kwargs)\u001b[0m\n\u001b[0;32m     63\u001b[0m filtered_tb \u001b[38;5;241m=\u001b[39m \u001b[38;5;28;01mNone\u001b[39;00m\n\u001b[0;32m     64\u001b[0m \u001b[38;5;28;01mtry\u001b[39;00m:\n\u001b[1;32m---> 65\u001b[0m     \u001b[38;5;28;01mreturn\u001b[39;00m fn(\u001b[38;5;241m*\u001b[39margs, \u001b[38;5;241m*\u001b[39m\u001b[38;5;241m*\u001b[39mkwargs)\n\u001b[0;32m     66\u001b[0m \u001b[38;5;28;01mexcept\u001b[39;00m \u001b[38;5;167;01mException\u001b[39;00m \u001b[38;5;28;01mas\u001b[39;00m e:\n\u001b[0;32m     67\u001b[0m     filtered_tb \u001b[38;5;241m=\u001b[39m _process_traceback_frames(e\u001b[38;5;241m.\u001b[39m__traceback__)\n",
      "File \u001b[1;32mc:\\Users\\jdani\\miniconda3\\lib\\site-packages\\keras\\engine\\training.py:1564\u001b[0m, in \u001b[0;36mModel.fit\u001b[1;34m(self, x, y, batch_size, epochs, verbose, callbacks, validation_split, validation_data, shuffle, class_weight, sample_weight, initial_epoch, steps_per_epoch, validation_steps, validation_batch_size, validation_freq, max_queue_size, workers, use_multiprocessing)\u001b[0m\n\u001b[0;32m   1556\u001b[0m \u001b[38;5;28;01mwith\u001b[39;00m tf\u001b[38;5;241m.\u001b[39mprofiler\u001b[38;5;241m.\u001b[39mexperimental\u001b[38;5;241m.\u001b[39mTrace(\n\u001b[0;32m   1557\u001b[0m     \u001b[38;5;124m\"\u001b[39m\u001b[38;5;124mtrain\u001b[39m\u001b[38;5;124m\"\u001b[39m,\n\u001b[0;32m   1558\u001b[0m     epoch_num\u001b[38;5;241m=\u001b[39mepoch,\n\u001b[1;32m   (...)\u001b[0m\n\u001b[0;32m   1561\u001b[0m     _r\u001b[38;5;241m=\u001b[39m\u001b[38;5;241m1\u001b[39m,\n\u001b[0;32m   1562\u001b[0m ):\n\u001b[0;32m   1563\u001b[0m     callbacks\u001b[38;5;241m.\u001b[39mon_train_batch_begin(step)\n\u001b[1;32m-> 1564\u001b[0m     tmp_logs \u001b[38;5;241m=\u001b[39m \u001b[38;5;28;43mself\u001b[39;49m\u001b[38;5;241;43m.\u001b[39;49m\u001b[43mtrain_function\u001b[49m\u001b[43m(\u001b[49m\u001b[43miterator\u001b[49m\u001b[43m)\u001b[49m\n\u001b[0;32m   1565\u001b[0m     \u001b[38;5;28;01mif\u001b[39;00m data_handler\u001b[38;5;241m.\u001b[39mshould_sync:\n\u001b[0;32m   1566\u001b[0m         context\u001b[38;5;241m.\u001b[39masync_wait()\n",
      "File \u001b[1;32mc:\\Users\\jdani\\miniconda3\\lib\\site-packages\\tensorflow\\python\\util\\traceback_utils.py:150\u001b[0m, in \u001b[0;36mfilter_traceback.<locals>.error_handler\u001b[1;34m(*args, **kwargs)\u001b[0m\n\u001b[0;32m    148\u001b[0m filtered_tb \u001b[38;5;241m=\u001b[39m \u001b[38;5;28;01mNone\u001b[39;00m\n\u001b[0;32m    149\u001b[0m \u001b[38;5;28;01mtry\u001b[39;00m:\n\u001b[1;32m--> 150\u001b[0m   \u001b[38;5;28;01mreturn\u001b[39;00m fn(\u001b[38;5;241m*\u001b[39margs, \u001b[38;5;241m*\u001b[39m\u001b[38;5;241m*\u001b[39mkwargs)\n\u001b[0;32m    151\u001b[0m \u001b[38;5;28;01mexcept\u001b[39;00m \u001b[38;5;167;01mException\u001b[39;00m \u001b[38;5;28;01mas\u001b[39;00m e:\n\u001b[0;32m    152\u001b[0m   filtered_tb \u001b[38;5;241m=\u001b[39m _process_traceback_frames(e\u001b[38;5;241m.\u001b[39m__traceback__)\n",
      "File \u001b[1;32mc:\\Users\\jdani\\miniconda3\\lib\\site-packages\\tensorflow\\python\\eager\\def_function.py:915\u001b[0m, in \u001b[0;36mFunction.__call__\u001b[1;34m(self, *args, **kwds)\u001b[0m\n\u001b[0;32m    912\u001b[0m compiler \u001b[38;5;241m=\u001b[39m \u001b[38;5;124m\"\u001b[39m\u001b[38;5;124mxla\u001b[39m\u001b[38;5;124m\"\u001b[39m \u001b[38;5;28;01mif\u001b[39;00m \u001b[38;5;28mself\u001b[39m\u001b[38;5;241m.\u001b[39m_jit_compile \u001b[38;5;28;01melse\u001b[39;00m \u001b[38;5;124m\"\u001b[39m\u001b[38;5;124mnonXla\u001b[39m\u001b[38;5;124m\"\u001b[39m\n\u001b[0;32m    914\u001b[0m \u001b[38;5;28;01mwith\u001b[39;00m OptionalXlaContext(\u001b[38;5;28mself\u001b[39m\u001b[38;5;241m.\u001b[39m_jit_compile):\n\u001b[1;32m--> 915\u001b[0m   result \u001b[38;5;241m=\u001b[39m \u001b[38;5;28mself\u001b[39m\u001b[38;5;241m.\u001b[39m_call(\u001b[38;5;241m*\u001b[39margs, \u001b[38;5;241m*\u001b[39m\u001b[38;5;241m*\u001b[39mkwds)\n\u001b[0;32m    917\u001b[0m new_tracing_count \u001b[38;5;241m=\u001b[39m \u001b[38;5;28mself\u001b[39m\u001b[38;5;241m.\u001b[39mexperimental_get_tracing_count()\n\u001b[0;32m    918\u001b[0m without_tracing \u001b[38;5;241m=\u001b[39m (tracing_count \u001b[38;5;241m==\u001b[39m new_tracing_count)\n",
      "File \u001b[1;32mc:\\Users\\jdani\\miniconda3\\lib\\site-packages\\tensorflow\\python\\eager\\def_function.py:947\u001b[0m, in \u001b[0;36mFunction._call\u001b[1;34m(self, *args, **kwds)\u001b[0m\n\u001b[0;32m    944\u001b[0m   \u001b[38;5;28mself\u001b[39m\u001b[38;5;241m.\u001b[39m_lock\u001b[38;5;241m.\u001b[39mrelease()\n\u001b[0;32m    945\u001b[0m   \u001b[38;5;66;03m# In this case we have created variables on the first call, so we run the\u001b[39;00m\n\u001b[0;32m    946\u001b[0m   \u001b[38;5;66;03m# defunned version which is guaranteed to never create variables.\u001b[39;00m\n\u001b[1;32m--> 947\u001b[0m   \u001b[38;5;28;01mreturn\u001b[39;00m \u001b[38;5;28mself\u001b[39m\u001b[38;5;241m.\u001b[39m_stateless_fn(\u001b[38;5;241m*\u001b[39margs, \u001b[38;5;241m*\u001b[39m\u001b[38;5;241m*\u001b[39mkwds)  \u001b[38;5;66;03m# pylint: disable=not-callable\u001b[39;00m\n\u001b[0;32m    948\u001b[0m \u001b[38;5;28;01melif\u001b[39;00m \u001b[38;5;28mself\u001b[39m\u001b[38;5;241m.\u001b[39m_stateful_fn \u001b[38;5;129;01mis\u001b[39;00m \u001b[38;5;129;01mnot\u001b[39;00m \u001b[38;5;28;01mNone\u001b[39;00m:\n\u001b[0;32m    949\u001b[0m   \u001b[38;5;66;03m# Release the lock early so that multiple threads can perform the call\u001b[39;00m\n\u001b[0;32m    950\u001b[0m   \u001b[38;5;66;03m# in parallel.\u001b[39;00m\n\u001b[0;32m    951\u001b[0m   \u001b[38;5;28mself\u001b[39m\u001b[38;5;241m.\u001b[39m_lock\u001b[38;5;241m.\u001b[39mrelease()\n",
      "File \u001b[1;32mc:\\Users\\jdani\\miniconda3\\lib\\site-packages\\tensorflow\\python\\eager\\function.py:2496\u001b[0m, in \u001b[0;36mFunction.__call__\u001b[1;34m(self, *args, **kwargs)\u001b[0m\n\u001b[0;32m   2493\u001b[0m \u001b[38;5;28;01mwith\u001b[39;00m \u001b[38;5;28mself\u001b[39m\u001b[38;5;241m.\u001b[39m_lock:\n\u001b[0;32m   2494\u001b[0m   (graph_function,\n\u001b[0;32m   2495\u001b[0m    filtered_flat_args) \u001b[38;5;241m=\u001b[39m \u001b[38;5;28mself\u001b[39m\u001b[38;5;241m.\u001b[39m_maybe_define_function(args, kwargs)\n\u001b[1;32m-> 2496\u001b[0m \u001b[38;5;28;01mreturn\u001b[39;00m \u001b[43mgraph_function\u001b[49m\u001b[38;5;241;43m.\u001b[39;49m\u001b[43m_call_flat\u001b[49m\u001b[43m(\u001b[49m\n\u001b[0;32m   2497\u001b[0m \u001b[43m    \u001b[49m\u001b[43mfiltered_flat_args\u001b[49m\u001b[43m,\u001b[49m\u001b[43m \u001b[49m\u001b[43mcaptured_inputs\u001b[49m\u001b[38;5;241;43m=\u001b[39;49m\u001b[43mgraph_function\u001b[49m\u001b[38;5;241;43m.\u001b[39;49m\u001b[43mcaptured_inputs\u001b[49m\u001b[43m)\u001b[49m\n",
      "File \u001b[1;32mc:\\Users\\jdani\\miniconda3\\lib\\site-packages\\tensorflow\\python\\eager\\function.py:1862\u001b[0m, in \u001b[0;36mConcreteFunction._call_flat\u001b[1;34m(self, args, captured_inputs, cancellation_manager)\u001b[0m\n\u001b[0;32m   1858\u001b[0m possible_gradient_type \u001b[38;5;241m=\u001b[39m gradients_util\u001b[38;5;241m.\u001b[39mPossibleTapeGradientTypes(args)\n\u001b[0;32m   1859\u001b[0m \u001b[38;5;28;01mif\u001b[39;00m (possible_gradient_type \u001b[38;5;241m==\u001b[39m gradients_util\u001b[38;5;241m.\u001b[39mPOSSIBLE_GRADIENT_TYPES_NONE\n\u001b[0;32m   1860\u001b[0m     \u001b[38;5;129;01mand\u001b[39;00m executing_eagerly):\n\u001b[0;32m   1861\u001b[0m   \u001b[38;5;66;03m# No tape is watching; skip to running the function.\u001b[39;00m\n\u001b[1;32m-> 1862\u001b[0m   \u001b[38;5;28;01mreturn\u001b[39;00m \u001b[38;5;28mself\u001b[39m\u001b[38;5;241m.\u001b[39m_build_call_outputs(\u001b[38;5;28;43mself\u001b[39;49m\u001b[38;5;241;43m.\u001b[39;49m\u001b[43m_inference_function\u001b[49m\u001b[38;5;241;43m.\u001b[39;49m\u001b[43mcall\u001b[49m\u001b[43m(\u001b[49m\n\u001b[0;32m   1863\u001b[0m \u001b[43m      \u001b[49m\u001b[43mctx\u001b[49m\u001b[43m,\u001b[49m\u001b[43m \u001b[49m\u001b[43margs\u001b[49m\u001b[43m,\u001b[49m\u001b[43m \u001b[49m\u001b[43mcancellation_manager\u001b[49m\u001b[38;5;241;43m=\u001b[39;49m\u001b[43mcancellation_manager\u001b[49m\u001b[43m)\u001b[49m)\n\u001b[0;32m   1864\u001b[0m forward_backward \u001b[38;5;241m=\u001b[39m \u001b[38;5;28mself\u001b[39m\u001b[38;5;241m.\u001b[39m_select_forward_and_backward_functions(\n\u001b[0;32m   1865\u001b[0m     args,\n\u001b[0;32m   1866\u001b[0m     possible_gradient_type,\n\u001b[0;32m   1867\u001b[0m     executing_eagerly)\n\u001b[0;32m   1868\u001b[0m forward_function, args_with_tangents \u001b[38;5;241m=\u001b[39m forward_backward\u001b[38;5;241m.\u001b[39mforward()\n",
      "File \u001b[1;32mc:\\Users\\jdani\\miniconda3\\lib\\site-packages\\tensorflow\\python\\eager\\function.py:499\u001b[0m, in \u001b[0;36m_EagerDefinedFunction.call\u001b[1;34m(self, ctx, args, cancellation_manager)\u001b[0m\n\u001b[0;32m    497\u001b[0m \u001b[38;5;28;01mwith\u001b[39;00m _InterpolateFunctionError(\u001b[38;5;28mself\u001b[39m):\n\u001b[0;32m    498\u001b[0m   \u001b[38;5;28;01mif\u001b[39;00m cancellation_manager \u001b[38;5;129;01mis\u001b[39;00m \u001b[38;5;28;01mNone\u001b[39;00m:\n\u001b[1;32m--> 499\u001b[0m     outputs \u001b[38;5;241m=\u001b[39m \u001b[43mexecute\u001b[49m\u001b[38;5;241;43m.\u001b[39;49m\u001b[43mexecute\u001b[49m\u001b[43m(\u001b[49m\n\u001b[0;32m    500\u001b[0m \u001b[43m        \u001b[49m\u001b[38;5;28;43mstr\u001b[39;49m\u001b[43m(\u001b[49m\u001b[38;5;28;43mself\u001b[39;49m\u001b[38;5;241;43m.\u001b[39;49m\u001b[43msignature\u001b[49m\u001b[38;5;241;43m.\u001b[39;49m\u001b[43mname\u001b[49m\u001b[43m)\u001b[49m\u001b[43m,\u001b[49m\n\u001b[0;32m    501\u001b[0m \u001b[43m        \u001b[49m\u001b[43mnum_outputs\u001b[49m\u001b[38;5;241;43m=\u001b[39;49m\u001b[38;5;28;43mself\u001b[39;49m\u001b[38;5;241;43m.\u001b[39;49m\u001b[43m_num_outputs\u001b[49m\u001b[43m,\u001b[49m\n\u001b[0;32m    502\u001b[0m \u001b[43m        \u001b[49m\u001b[43minputs\u001b[49m\u001b[38;5;241;43m=\u001b[39;49m\u001b[43margs\u001b[49m\u001b[43m,\u001b[49m\n\u001b[0;32m    503\u001b[0m \u001b[43m        \u001b[49m\u001b[43mattrs\u001b[49m\u001b[38;5;241;43m=\u001b[39;49m\u001b[43mattrs\u001b[49m\u001b[43m,\u001b[49m\n\u001b[0;32m    504\u001b[0m \u001b[43m        \u001b[49m\u001b[43mctx\u001b[49m\u001b[38;5;241;43m=\u001b[39;49m\u001b[43mctx\u001b[49m\u001b[43m)\u001b[49m\n\u001b[0;32m    505\u001b[0m   \u001b[38;5;28;01melse\u001b[39;00m:\n\u001b[0;32m    506\u001b[0m     outputs \u001b[38;5;241m=\u001b[39m execute\u001b[38;5;241m.\u001b[39mexecute_with_cancellation(\n\u001b[0;32m    507\u001b[0m         \u001b[38;5;28mstr\u001b[39m(\u001b[38;5;28mself\u001b[39m\u001b[38;5;241m.\u001b[39msignature\u001b[38;5;241m.\u001b[39mname),\n\u001b[0;32m    508\u001b[0m         num_outputs\u001b[38;5;241m=\u001b[39m\u001b[38;5;28mself\u001b[39m\u001b[38;5;241m.\u001b[39m_num_outputs,\n\u001b[1;32m   (...)\u001b[0m\n\u001b[0;32m    511\u001b[0m         ctx\u001b[38;5;241m=\u001b[39mctx,\n\u001b[0;32m    512\u001b[0m         cancellation_manager\u001b[38;5;241m=\u001b[39mcancellation_manager)\n",
      "File \u001b[1;32mc:\\Users\\jdani\\miniconda3\\lib\\site-packages\\tensorflow\\python\\eager\\execute.py:54\u001b[0m, in \u001b[0;36mquick_execute\u001b[1;34m(op_name, num_outputs, inputs, attrs, ctx, name)\u001b[0m\n\u001b[0;32m     52\u001b[0m \u001b[38;5;28;01mtry\u001b[39;00m:\n\u001b[0;32m     53\u001b[0m   ctx\u001b[38;5;241m.\u001b[39mensure_initialized()\n\u001b[1;32m---> 54\u001b[0m   tensors \u001b[38;5;241m=\u001b[39m \u001b[43mpywrap_tfe\u001b[49m\u001b[38;5;241;43m.\u001b[39;49m\u001b[43mTFE_Py_Execute\u001b[49m\u001b[43m(\u001b[49m\u001b[43mctx\u001b[49m\u001b[38;5;241;43m.\u001b[39;49m\u001b[43m_handle\u001b[49m\u001b[43m,\u001b[49m\u001b[43m \u001b[49m\u001b[43mdevice_name\u001b[49m\u001b[43m,\u001b[49m\u001b[43m \u001b[49m\u001b[43mop_name\u001b[49m\u001b[43m,\u001b[49m\n\u001b[0;32m     55\u001b[0m \u001b[43m                                      \u001b[49m\u001b[43minputs\u001b[49m\u001b[43m,\u001b[49m\u001b[43m \u001b[49m\u001b[43mattrs\u001b[49m\u001b[43m,\u001b[49m\u001b[43m \u001b[49m\u001b[43mnum_outputs\u001b[49m\u001b[43m)\u001b[49m\n\u001b[0;32m     56\u001b[0m \u001b[38;5;28;01mexcept\u001b[39;00m core\u001b[38;5;241m.\u001b[39m_NotOkStatusException \u001b[38;5;28;01mas\u001b[39;00m e:\n\u001b[0;32m     57\u001b[0m   \u001b[38;5;28;01mif\u001b[39;00m name \u001b[38;5;129;01mis\u001b[39;00m \u001b[38;5;129;01mnot\u001b[39;00m \u001b[38;5;28;01mNone\u001b[39;00m:\n",
      "\u001b[1;31mKeyboardInterrupt\u001b[0m: "
     ]
    }
   ],
   "source": [
    "# Importing the required library for the model compilation and training\n",
    "from tensorflow.keras.optimizers import Adam\n",
    "\n",
    "# Compile the model\n",
    "# We use the Adam optimizer, Mean Squared Error (MSE) as loss function, and Mean Absolute Error (MAE) as metric\n",
    "with tf.device('/GPU:0'):\n",
    "    # Define and compile your model here\n",
    "    model.compile(optimizer='adam', loss='mean_absolute_error', metrics=[\"mae\"])\n",
    "\n",
    "# Train the model for 10 epochs using the training and validation data\n",
    "# We use a batch size of 32\n",
    "history = model.fit(train_dataset, epochs=10)\n",
    "\n",
    "# Save the trained model for future use\n",
    "model.save('cnn_model.h5')"
   ]
  },
  {
   "cell_type": "markdown",
   "metadata": {},
   "source": [
    "# Evaluate the Model\n",
    "Evaluate the performance of the trained model using the test data."
   ]
  },
  {
   "cell_type": "code",
   "execution_count": 8,
   "metadata": {},
   "outputs": [
    {
     "name": "stdout",
     "output_type": "stream",
     "text": [
      "40/40 [==============================] - 0s 4ms/step - loss: 1.2549 - mae: 1.2508\n",
      "Test loss: 1.2548646926879883\n",
      "Test MAE: 1.2507708072662354\n"
     ]
    },
    {
     "ename": "NameError",
     "evalue": "name 'history' is not defined",
     "output_type": "error",
     "traceback": [
      "\u001b[1;31m---------------------------------------------------------------------------\u001b[0m",
      "\u001b[1;31mNameError\u001b[0m                                 Traceback (most recent call last)",
      "Cell \u001b[1;32mIn[8], line 13\u001b[0m\n\u001b[0;32m     11\u001b[0m \u001b[38;5;66;03m# Plot the training and validation loss over each epoch\u001b[39;00m\n\u001b[0;32m     12\u001b[0m plt\u001b[38;5;241m.\u001b[39mfigure(figsize\u001b[38;5;241m=\u001b[39m(\u001b[38;5;241m12\u001b[39m, \u001b[38;5;241m6\u001b[39m))\n\u001b[1;32m---> 13\u001b[0m plt\u001b[38;5;241m.\u001b[39mplot(\u001b[43mhistory\u001b[49m\u001b[38;5;241m.\u001b[39mhistory[\u001b[38;5;124m'\u001b[39m\u001b[38;5;124mloss\u001b[39m\u001b[38;5;124m'\u001b[39m], label\u001b[38;5;241m=\u001b[39m\u001b[38;5;124m'\u001b[39m\u001b[38;5;124mTraining Loss\u001b[39m\u001b[38;5;124m'\u001b[39m)\n\u001b[0;32m     14\u001b[0m plt\u001b[38;5;241m.\u001b[39mplot(history\u001b[38;5;241m.\u001b[39mhistory[\u001b[38;5;124m'\u001b[39m\u001b[38;5;124mval_loss\u001b[39m\u001b[38;5;124m'\u001b[39m], label\u001b[38;5;241m=\u001b[39m\u001b[38;5;124m'\u001b[39m\u001b[38;5;124mValidation Loss\u001b[39m\u001b[38;5;124m'\u001b[39m)\n\u001b[0;32m     15\u001b[0m plt\u001b[38;5;241m.\u001b[39mtitle(\u001b[38;5;124m'\u001b[39m\u001b[38;5;124mTraining and Validation Loss Over Time\u001b[39m\u001b[38;5;124m'\u001b[39m)\n",
      "\u001b[1;31mNameError\u001b[0m: name 'history' is not defined"
     ]
    },
    {
     "data": {
      "text/plain": [
       "<Figure size 1200x600 with 0 Axes>"
      ]
     },
     "metadata": {},
     "output_type": "display_data"
    }
   ],
   "source": [
    "# Importing the required library for visualizing the model's performance\n",
    "import matplotlib.pyplot as plt\n",
    "\n",
    "# Evaluate the model using the test data\n",
    "test_loss, test_mae = model.evaluate(test_images, test_labels)\n",
    "\n",
    "# Print the test loss and test mean absolute error\n",
    "print('Test loss:', test_loss)\n",
    "print('Test MAE:', test_mae)\n",
    "\n",
    "# Plot the training and validation loss over each epoch\n",
    "plt.figure(figsize=(12, 6))\n",
    "plt.plot(history.history['loss'], label='Training Loss')\n",
    "plt.plot(history.history['val_loss'], label='Validation Loss')\n",
    "plt.title('Training and Validation Loss Over Time')\n",
    "plt.xlabel('Epoch')\n",
    "plt.ylabel('Loss')\n",
    "plt.legend()\n",
    "plt.show()\n",
    "\n",
    "# Plot the training and validation mean absolute error over each epoch\n",
    "plt.figure(figsize=(12, 6))\n",
    "plt.plot(history.history['mae'], label='Training MAE')\n",
    "plt.plot(history.history['val_mae'], label='Validation MAE')\n",
    "plt.title('Training and Validation MAE Over Time')\n",
    "plt.xlabel('Epoch')\n",
    "plt.ylabel('MAE')\n",
    "plt.legend()\n",
    "plt.show()"
   ]
  },
  {
   "cell_type": "code",
   "execution_count": null,
   "metadata": {},
   "outputs": [],
   "source": []
  }
 ],
 "metadata": {
  "kernelspec": {
   "display_name": "Python 3",
   "language": "python",
   "name": "python3"
  },
  "language_info": {
   "codemirror_mode": {
    "name": "ipython",
    "version": 3
   },
   "file_extension": ".py",
   "mimetype": "text/x-python",
   "name": "python",
   "nbconvert_exporter": "python",
   "pygments_lexer": "ipython3",
   "version": "3.9.5"
  },
  "orig_nbformat": 4
 },
 "nbformat": 4,
 "nbformat_minor": 2
}
