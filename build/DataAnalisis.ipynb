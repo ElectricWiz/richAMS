{
 "cells": [
  {
   "cell_type": "code",
   "execution_count": 1,
   "id": "d5111f05-61ed-4d85-9210-5ad927fc6f17",
   "metadata": {
    "scrolled": true
   },
   "outputs": [],
   "source": [
    "import pandas as pd\n",
    "import numpy as np\n",
    "import matplotlib.pyplot as plt\n",
    "import gc\n",
    "import math\n",
    "import seaborn as sns\n",
    "\n",
    "sns.set_theme()"
   ]
  },
  {
   "cell_type": "code",
   "execution_count": 2,
   "id": "4503003e",
   "metadata": {},
   "outputs": [],
   "source": [
    "ene = 3.0\n",
    "ene_str = str(ene).replace('.', '_')\n",
    "\n",
    "h = 12.5\n",
    "L = 750"
   ]
  },
  {
   "cell_type": "code",
   "execution_count": 3,
   "id": "63348115-839e-4dca-ae47-b9425128dc6c",
   "metadata": {},
   "outputs": [
    {
     "name": "stderr",
     "output_type": "stream",
     "text": [
      "Error in <TFile::TFile>: file /home/DerWissenschaftlerAusMexiko/richAMS/build/test_3.root does not exist\n"
     ]
    },
    {
     "ename": "OSError",
     "evalue": "Failed to open file test_3.root",
     "output_type": "error",
     "traceback": [
      "\u001b[0;31m---------------------------------------------------------------------------\u001b[0m",
      "\u001b[0;31mOSError\u001b[0m                                   Traceback (most recent call last)",
      "Cell \u001b[0;32mIn[3], line 4\u001b[0m\n\u001b[1;32m      1\u001b[0m \u001b[38;5;28;01mimport\u001b[39;00m \u001b[38;5;21;01mROOT\u001b[39;00m\n\u001b[1;32m      3\u001b[0m \u001b[38;5;66;03m# Open the .root file\u001b[39;00m\n\u001b[0;32m----> 4\u001b[0m file \u001b[38;5;241m=\u001b[39m \u001b[43mROOT\u001b[49m\u001b[38;5;241;43m.\u001b[39;49m\u001b[43mTFile\u001b[49m\u001b[43m(\u001b[49m\u001b[38;5;124;43m\"\u001b[39;49m\u001b[38;5;124;43mtest_3.root\u001b[39;49m\u001b[38;5;124;43m\"\u001b[39;49m\u001b[43m)\u001b[49m\n\u001b[1;32m      6\u001b[0m \u001b[38;5;66;03m# Iterate over all items in the file\u001b[39;00m\n\u001b[1;32m      7\u001b[0m \u001b[38;5;28;01mfor\u001b[39;00m key \u001b[38;5;129;01min\u001b[39;00m file\u001b[38;5;241m.\u001b[39mGetListOfKeys():\n",
      "File \u001b[0;32m~/anaconda3/envs/DataAnalisis/lib/python3.11/site-packages/ROOT/_pythonization/_tfile.py:88\u001b[0m, in \u001b[0;36m_TFileConstructor\u001b[0;34m(self, *args)\u001b[0m\n\u001b[1;32m     86\u001b[0m \u001b[38;5;28;01mif\u001b[39;00m \u001b[38;5;28mlen\u001b[39m(args) \u001b[38;5;241m>\u001b[39m\u001b[38;5;241m=\u001b[39m \u001b[38;5;241m1\u001b[39m:\n\u001b[1;32m     87\u001b[0m     \u001b[38;5;28;01mif\u001b[39;00m \u001b[38;5;28mself\u001b[39m\u001b[38;5;241m.\u001b[39mIsZombie():\n\u001b[0;32m---> 88\u001b[0m         \u001b[38;5;28;01mraise\u001b[39;00m \u001b[38;5;167;01mOSError\u001b[39;00m(\u001b[38;5;124m'\u001b[39m\u001b[38;5;124mFailed to open file \u001b[39m\u001b[38;5;132;01m{}\u001b[39;00m\u001b[38;5;124m'\u001b[39m\u001b[38;5;241m.\u001b[39mformat(args[\u001b[38;5;241m0\u001b[39m]))\n",
      "\u001b[0;31mOSError\u001b[0m: Failed to open file test_3.root"
     ]
    }
   ],
   "source": [
    "import ROOT\n",
    "\n",
    "# Open the .root file\n",
    "file = ROOT.TFile(\"test_3.root\")\n",
    "\n",
    "# Iterate over all items in the file\n",
    "for key in file.GetListOfKeys():\n",
    "    obj = key.ReadObj()\n",
    "    # Check if the object is a tree\n",
    "    if isinstance(obj, ROOT.TTree):\n",
    "        tree_name = obj.GetName()\n",
    "        print(f\"Tree: {tree_name}\")\n",
    "        \n",
    "        # List all branches in the tree\n",
    "        branches = obj.GetListOfBranches()\n",
    "        for branch in branches:\n",
    "            print(f\"  Branch: {branch.GetName()}\")\n"
   ]
  },
  {
   "cell_type": "code",
   "execution_count": null,
   "id": "680d6d50-493f-4c8a-b429-ce1870627557",
   "metadata": {},
   "outputs": [],
   "source": [
    "# Access the 'Detectors' tree\n",
    "tree = file.Get(\"Detectors\")\n",
    "\n",
    "# Define the branches you want to extract\n",
    "branches = ['detectorPositionX', 'detectorPositionY', 'eventNumber']\n",
    "\n",
    "# Determine the total number of entries\n",
    "total_entries = tree.GetEntries()\n",
    "\n",
    "# Define the chunk size\n",
    "chunk_size = 1500000000 # Adjust based on your system's RAM\n",
    "\n",
    "# Initialize a list for the chunk DataFrames\n",
    "dfs = []\n",
    "\n",
    "# Process the tree in chunks\n",
    "for start in range(0, total_entries, chunk_size):\n",
    "    end = min(start + chunk_size, total_entries)\n",
    "    data_list = []\n",
    "\n",
    "    # Loop over the entries in the current chunk\n",
    "    for i in range(start, end):\n",
    "        tree.GetEntry(i)\n",
    "        # Access branch data directly\n",
    "        data = {branch: getattr(tree, branch) for branch in branches}\n",
    "        data_list.append(data)\n",
    "\n",
    "    # Convert the chunk to a DataFrame\n",
    "    chunk_df = pd.DataFrame(data_list)\n",
    "\n",
    "    # Convert the 'eventNumber' column to int32\n",
    "    chunk_df['eventNumber'] = chunk_df['eventNumber'].astype('int32')\n",
    "\n",
    "    # Add the chunk DataFrame to the list\n",
    "    dfs.append(chunk_df)\n",
    "\n",
    "    # Delete the data list to free up memory\n",
    "    del data_list\n",
    "\n",
    "    # Force the garbage collector to release unreferenced memory\n",
    "    gc.collect()\n",
    "\n",
    "# Concatenate all chunk DataFrames\n",
    "df = pd.concat(dfs, ignore_index=True)\n"
   ]
  },
  {
   "cell_type": "code",
   "execution_count": null,
   "id": "a44d9770-acc7-41f6-93d4-5d925e267ef9",
   "metadata": {},
   "outputs": [
    {
     "data": {
      "text/html": [
       "<div>\n",
       "<style scoped>\n",
       "    .dataframe tbody tr th:only-of-type {\n",
       "        vertical-align: middle;\n",
       "    }\n",
       "\n",
       "    .dataframe tbody tr th {\n",
       "        vertical-align: top;\n",
       "    }\n",
       "\n",
       "    .dataframe thead th {\n",
       "        text-align: right;\n",
       "    }\n",
       "</style>\n",
       "<table border=\"1\" class=\"dataframe\">\n",
       "  <thead>\n",
       "    <tr style=\"text-align: right;\">\n",
       "      <th></th>\n",
       "      <th>detectorPositionX</th>\n",
       "      <th>detectorPositionY</th>\n",
       "      <th>eventNumber</th>\n",
       "    </tr>\n",
       "  </thead>\n",
       "  <tbody>\n",
       "    <tr>\n",
       "      <th>0</th>\n",
       "      <td>-25.75</td>\n",
       "      <td>484.25</td>\n",
       "      <td>1037</td>\n",
       "    </tr>\n",
       "    <tr>\n",
       "      <th>1</th>\n",
       "      <td>94.25</td>\n",
       "      <td>-265.75</td>\n",
       "      <td>1069</td>\n",
       "    </tr>\n",
       "    <tr>\n",
       "      <th>2</th>\n",
       "      <td>104.25</td>\n",
       "      <td>334.25</td>\n",
       "      <td>1172</td>\n",
       "    </tr>\n",
       "    <tr>\n",
       "      <th>3</th>\n",
       "      <td>-135.75</td>\n",
       "      <td>-35.75</td>\n",
       "      <td>1175</td>\n",
       "    </tr>\n",
       "    <tr>\n",
       "      <th>4</th>\n",
       "      <td>-135.75</td>\n",
       "      <td>-35.75</td>\n",
       "      <td>1175</td>\n",
       "    </tr>\n",
       "    <tr>\n",
       "      <th>...</th>\n",
       "      <td>...</td>\n",
       "      <td>...</td>\n",
       "      <td>...</td>\n",
       "    </tr>\n",
       "    <tr>\n",
       "      <th>25667</th>\n",
       "      <td>-25.75</td>\n",
       "      <td>274.25</td>\n",
       "      <td>498692</td>\n",
       "    </tr>\n",
       "    <tr>\n",
       "      <th>25668</th>\n",
       "      <td>-25.75</td>\n",
       "      <td>274.25</td>\n",
       "      <td>498692</td>\n",
       "    </tr>\n",
       "    <tr>\n",
       "      <th>25669</th>\n",
       "      <td>34.25</td>\n",
       "      <td>74.25</td>\n",
       "      <td>498695</td>\n",
       "    </tr>\n",
       "    <tr>\n",
       "      <th>25670</th>\n",
       "      <td>364.25</td>\n",
       "      <td>-135.75</td>\n",
       "      <td>498711</td>\n",
       "    </tr>\n",
       "    <tr>\n",
       "      <th>25671</th>\n",
       "      <td>364.25</td>\n",
       "      <td>-135.75</td>\n",
       "      <td>498711</td>\n",
       "    </tr>\n",
       "  </tbody>\n",
       "</table>\n",
       "<p>25672 rows × 3 columns</p>\n",
       "</div>"
      ],
      "text/plain": [
       "       detectorPositionX  detectorPositionY  eventNumber\n",
       "0                 -25.75             484.25         1037\n",
       "1                  94.25            -265.75         1069\n",
       "2                 104.25             334.25         1172\n",
       "3                -135.75             -35.75         1175\n",
       "4                -135.75             -35.75         1175\n",
       "...                  ...                ...          ...\n",
       "25667             -25.75             274.25       498692\n",
       "25668             -25.75             274.25       498692\n",
       "25669              34.25              74.25       498695\n",
       "25670             364.25            -135.75       498711\n",
       "25671             364.25            -135.75       498711\n",
       "\n",
       "[25672 rows x 3 columns]"
      ]
     },
     "execution_count": 460,
     "metadata": {},
     "output_type": "execute_result"
    }
   ],
   "source": [
    "df"
   ]
  },
  {
   "cell_type": "code",
   "execution_count": null,
   "id": "bac4a3b3-90a7-40b3-a037-dc04be832b05",
   "metadata": {},
   "outputs": [
    {
     "data": {
      "text/plain": [
       "0"
      ]
     },
     "execution_count": 461,
     "metadata": {},
     "output_type": "execute_result"
    }
   ],
   "source": [
    "# Now, drop the duplicates\n",
    "df = df.drop_duplicates(subset=['eventNumber', 'detectorPositionX', 'detectorPositionY'])\n",
    "\n",
    "gc.collect()"
   ]
  },
  {
   "cell_type": "code",
   "execution_count": null,
   "id": "53c21013",
   "metadata": {},
   "outputs": [],
   "source": [
    "# Group by 'eventNumber' and filter out groups with less than 3 elements\n",
    "df = df.groupby('eventNumber').filter(lambda x: len(x) >= 4)# Calculate group sizes\n",
    "group_sizes = df.groupby('eventNumber').size()\n",
    "\n",
    "# Filter out groups with less than 3 elements\n",
    "df = df[df['eventNumber'].isin(group_sizes[group_sizes >= 3].index)]"
   ]
  },
  {
   "cell_type": "code",
   "execution_count": null,
   "id": "faea0694-d0f0-4a51-93d0-d3d88509ad6a",
   "metadata": {},
   "outputs": [],
   "source": [
    "# Access the 'PrimaryParticle' tree\n",
    "tree1 = file.Get(\"PrimaryParticle\")\n",
    "\n",
    "# Define the branches you want to extract from the 'PrimaryParticle' tree\n",
    "branches1 = ['energyPrimary', 'eventNumber']\n",
    "\n",
    "# Determine the total number of entries in the 'PrimaryParticle' tree\n",
    "total_entries1 = tree1.GetEntries()\n",
    "\n",
    "# Initialize an empty DataFrame for the final result\n",
    "df1 = pd.DataFrame()\n",
    "\n",
    "for start in range(0, total_entries1, chunk_size):\n",
    "    end = min(start + chunk_size, total_entries1)\n",
    "    data_list1 = []\n",
    "\n",
    "    # Loop over the entries in the current chunk\n",
    "    for i in range(start, end):\n",
    "        tree1.GetEntry(i)\n",
    "        # Access branch data directly\n",
    "        data1 = {branch: getattr(tree1, branch) for branch in branches1}\n",
    "        data_list1.append(data1)\n",
    "\n",
    "    # Convert the chunk to a DataFrame\n",
    "    chunk_df1 = pd.DataFrame(data_list1)\n",
    "\n",
    "    # Divide the 'energyPrimary' column by 1000 and convert to float16\n",
    "    chunk_df1['energyPrimary'] = (chunk_df1['energyPrimary'] / 1000)\n",
    "    chunk_df1['eventNumber'] = chunk_df1['eventNumber'].astype('int32')\n",
    "\n",
    "    # Append the chunk DataFrame to the main DataFrame\n",
    "    df1 = pd.concat([df1, chunk_df1], ignore_index=True)\n",
    "\n",
    "    # Delete the chunk DataFrame and the data list to free up memory\n",
    "    del chunk_df1\n",
    "    del data_list1\n",
    "\n",
    "    # Force the garbage collector to release unreferenced memory\n",
    "    gc.collect()"
   ]
  },
  {
   "cell_type": "code",
   "execution_count": null,
   "id": "8a3b8fa3-25dd-4668-9d32-97e954d5e18f",
   "metadata": {},
   "outputs": [],
   "source": [
    "# Access the 'CircleCenter' tree\n",
    "tree = file.Get(\"CircleCenter\")\n",
    "\n",
    "# Define the branches you want to extract\n",
    "branches = ['centerX', 'centerY', 'eventNumber']\n",
    "\n",
    "# Determine the total number of entries\n",
    "total_entries = tree.GetEntries()\n",
    "\n",
    "# Define the chunk size\n",
    "chunk_size = 15000000 # Adjust based on your system's RAM\n",
    "\n",
    "# Initialize an empty DataFrame for the final result\n",
    "df2 = pd.DataFrame()\n",
    "\n",
    "# Process the tree in chunks\n",
    "for start in range(0, total_entries, chunk_size):\n",
    "    end = min(start + chunk_size, total_entries)\n",
    "    data_list = []\n",
    "\n",
    "    # Loop over the entries in the current chunk\n",
    "    for i in range(start, end):\n",
    "        tree.GetEntry(i)\n",
    "        # Access branch data directly\n",
    "        data = {branch: getattr(tree, branch) for branch in branches}\n",
    "        data_list.append(data)\n",
    "\n",
    "    # Convert the chunk to a DataFrame\n",
    "    chunk_df2 = pd.DataFrame(data_list)\n",
    "\n",
    "    chunk_df2['centerX'] = chunk_df2['centerX']\n",
    "    chunk_df2['centerY'] = chunk_df2['centerY']\n",
    "\n",
    "    # Append the chunk DataFrame to the main DataFrame\n",
    "    df2 = pd.concat([df2, chunk_df2], ignore_index=True)\n",
    "\n",
    "    # Delete the chunk DataFrame and the data list to free up memory\n",
    "    del chunk_df2\n",
    "    del data_list\n",
    "\n",
    "    # Force the garbage collector to release unreferenced memory\n",
    "    gc.collect()"
   ]
  },
  {
   "cell_type": "code",
   "execution_count": null,
   "id": "8597521e-ec5e-4969-a0e6-bc115041640c",
   "metadata": {},
   "outputs": [
    {
     "data": {
      "text/plain": [
       "0"
      ]
     },
     "execution_count": 465,
     "metadata": {},
     "output_type": "execute_result"
    }
   ],
   "source": [
    "df1 = df1[df1['eventNumber'].isin(df['eventNumber'])]\n",
    "df = df[df['eventNumber'].isin(df2['eventNumber'])]\n",
    "gc.collect()"
   ]
  },
  {
   "cell_type": "code",
   "execution_count": null,
   "id": "b8a57e11",
   "metadata": {},
   "outputs": [
    {
     "data": {
      "text/plain": [
       "0"
      ]
     },
     "execution_count": 466,
     "metadata": {},
     "output_type": "execute_result"
    }
   ],
   "source": [
    "# Merge df with df1 on 'eventNumber', keeping only 'energyprimary' from df1\n",
    "df = df.merge(df1[['eventNumber', 'energyPrimary']], on='eventNumber', how='left')\n",
    "\n",
    "del df1\n",
    "gc.collect()"
   ]
  },
  {
   "cell_type": "code",
   "execution_count": null,
   "id": "cc36689e-25d6-4597-9da5-09bd0890ae10",
   "metadata": {},
   "outputs": [
    {
     "data": {
      "image/png": "[encoded data removed]",
      "text/plain": [
       "<Figure size 640x480 with 1 Axes>"
      ]
     },
     "metadata": {},
     "output_type": "display_data"
    }
   ],
   "source": [
    "# Filter the DataFrame for a specific eventNumber\n",
    "event_number = df[\"eventNumber\"].max() \t \t  # replace with your desired event number\n",
    "df_event = df[df['eventNumber'] == event_number]\n",
    "\n",
    "# Create a scatter plot of detectorPositionX and detectorPositionY\n",
    "plt.scatter(df_event['detectorPositionX'], df_event['detectorPositionY'])\n",
    "\n",
    "# Set the labels for the x and y axes\n",
    "plt.xlabel('detectorPositionX')\n",
    "plt.ylabel('detectorPositionY')\n",
    "\n",
    "# Show the plot\n",
    "plt.show()"
   ]
  },
  {
   "cell_type": "code",
   "execution_count": null,
   "id": "61f10b84-2d98-40d3-b985-678f29bcb5c4",
   "metadata": {},
   "outputs": [],
   "source": [
    "import numpy as np\n",
    "from scipy.stats import norm\n",
    "from scipy.optimize import curve_fit\n",
    "\n",
    "def gaussian(x, A, mu, sigma, x0):\n",
    "    return A * np.where(x < x0, norm.pdf(x, mu, sigma) / norm.pdf(mu, mu, sigma), 0)\n",
    "\n",
    "def constant_function(x, c):\n",
    "    return c\n",
    "\n",
    "def combined_function(x, A=5.28305091e-02, mu=7.37067159e+01, sigma= 4.96723817e+00, x0=8.50000000e+01, c=5.95884953e-04):\n",
    "    return np.where(x < x0, gaussian(x, A, mu, sigma, x0), constant_function(x, c))"
   ]
  },
  {
   "cell_type": "code",
   "execution_count": null,
   "id": "e89046ee-ebeb-44ed-9700-c0bfe1a2a146",
   "metadata": {},
   "outputs": [
    {
     "data": {
      "text/plain": [
       "3215"
      ]
     },
     "execution_count": 469,
     "metadata": {},
     "output_type": "execute_result"
    }
   ],
   "source": [
    "from scipy.optimize import minimize\n",
    "import sys\n",
    "import multiprocessing as mp\n",
    "\n",
    "def negative_log_likelihood(params, x, y):\n",
    "    a, b, r = params\n",
    "    ri = np.sqrt((x - a)**2 + (y - b)**2) - r\n",
    "    with np.errstate(invalid='ignore'):\n",
    "        probabilities = combined_function(ri)\n",
    "    # Avoid taking the log of zero by adding a small number epsilon\n",
    "    epsilon = sys.float_info.epsilon\n",
    "    nll = -np.sum(np.log(probabilities + epsilon))\n",
    "    return nll\n",
    "\n",
    "def process_event(event):\n",
    "    # Filter the DataFrame for the current event\n",
    "    event_data = df[df['eventNumber'] == event]\n",
    "    \n",
    "    ene_value = event_data[\"energyPrimary\"].unique()[0]  # Replace with your actual energy value\n",
    "    #negative_log_likelihood = create_wrapper_function(ene_value)\n",
    "\n",
    "    # Check if the event exists in df2\n",
    "    if event in df2['eventNumber'].values:\n",
    "        # Get the \"real center\" for the current event from df2\n",
    "        real_center = df2[df2['eventNumber'] == event][['centerX', 'centerY']].values[0]\n",
    "        \n",
    "        # Initial guess for the circle's radius (r)\n",
    "        initial_guess_r = np.sqrt(np.mean((event_data['detectorPositionX'] - real_center[0])**2 +\n",
    "                                          (event_data['detectorPositionY'] - real_center[1])**2))\n",
    "        initial_guess = [real_center[0], real_center[1], initial_guess_r]\n",
    "\n",
    "        # Minimize the negative log-likelihood\n",
    "        result = minimize(\n",
    "            negative_log_likelihood,\n",
    "            initial_guess,\n",
    "            args=(event_data['detectorPositionX'].values,\n",
    "                  event_data['detectorPositionY'].values),\n",
    "            method='L-BFGS-B',\n",
    "            bounds=[(-650, 650), (-650, 650), (15, 1840)],\n",
    "            options={'ftol':1e-1, 'gtol':1e-1, 'maxiter':1000000}\n",
    "        )\n",
    "\n",
    "        # Check if the optimization was successful\n",
    "        if result.success:\n",
    "            # Return the optimized parameters along with the event number\n",
    "            return {\n",
    "                'eventNumber': event,\n",
    "                'centerX': result.x[0],\n",
    "                'centerY': result.x[1],\n",
    "                'radius': result.x[2]\n",
    "            }\n",
    "\n",
    "# Get unique event numbers\n",
    "unique_events = df['eventNumber'].unique()\n",
    "\n",
    "# Create a pool of workers\n",
    "with mp.Pool(mp.cpu_count()) as pool:\n",
    "    # Process each event in parallel\n",
    "    optimized_params_list = pool.map(process_event, unique_events)\n",
    "\n",
    "# Filter out None results\n",
    "optimized_params_list = [x for x in optimized_params_list if x is not None]\n",
    "\n",
    "# Create a DataFrame from the list of optimized parameters\n",
    "optimized_params_df = pd.DataFrame(optimized_params_list)\n",
    "\n",
    "del df2\n",
    "gc.collect()"
   ]
  },
  {
   "cell_type": "code",
   "execution_count": null,
   "id": "82c3acb4-1973-484f-9fe0-44e798812f1e",
   "metadata": {},
   "outputs": [
    {
     "data": {
      "text/plain": [
       "0"
      ]
     },
     "execution_count": 470,
     "metadata": {},
     "output_type": "execute_result"
    }
   ],
   "source": [
    "df = pd.merge(df, optimized_params_df, on='eventNumber', how='left', suffixes=('', '_new'))\n",
    "\n",
    "df.rename(columns={'centerX_new': 'centerX', 'centerY_new': 'centerY'}, inplace=True)\n",
    "\n",
    "del optimized_params_df\n",
    "gc.collect()"
   ]
  },
  {
   "cell_type": "code",
   "execution_count": null,
   "id": "4cb5e72f-02f7-4057-a85b-5f0a12f522e8",
   "metadata": {},
   "outputs": [
    {
     "data": {
      "text/plain": [
       "0"
      ]
     },
     "execution_count": 471,
     "metadata": {},
     "output_type": "execute_result"
    }
   ],
   "source": [
    "# Convert columns back to float16\n",
    "df['eventNumber'] = df['eventNumber'].astype('int32')\n",
    "df['detectorPositionX'] = df['detectorPositionX']\n",
    "df['detectorPositionY'] = df['detectorPositionY']\n",
    "\n",
    "gc.collect()"
   ]
  },
  {
   "cell_type": "code",
   "execution_count": null,
   "id": "629bc60a-7bc3-44d8-8c6c-758c2aa517f9",
   "metadata": {},
   "outputs": [],
   "source": [
    "from scipy.optimize import fsolve\n",
    "\n",
    "# Define the function\n",
    "def calculate_half_angle(R, theta0=0.7):    \n",
    "    def func(theta, R1=R, n=1.0297, h=h, L=L):\n",
    "        return L * np.tan(np.arcsin(n * np.sin(theta))) + (h / 2) * np.tan(theta) - R1\n",
    "\n",
    "    theta_sol = fsolve(func, theta0, xtol=1e-2)\n",
    "\n",
    "    return theta_sol[0]\n",
    "\n",
    "def calculate_beta(cherenkov_angle, refractive_index):\n",
    "    # Check if refractive index is non-zero to avoid division by zero\n",
    "    if np.any(refractive_index == 0):\n",
    "        raise ValueError(\"Refractive index cannot be zero.\")\n",
    "\n",
    "    # Calculate beta using the Cherenkov angle and refractive index\n",
    "    beta = 1 / np.cos(cherenkov_angle) / refractive_index\n",
    "\n",
    "    return beta\n",
    "\n",
    "def calculate_beta_proton(energy_gev):\n",
    "    # Rest mass energy of a proton in MeV\n",
    "    rest_mass_energy_mev = 938.272\n",
    "\n",
    "    # Convert energy from GeV to MeV\n",
    "    energy_mev = energy_gev * 1000\n",
    "\n",
    "    # Calculate the Lorentz factor\n",
    "    gamma = 1 + (energy_mev / rest_mass_energy_mev)\n",
    "\n",
    "    # Calculate beta using the Lorentz factor\n",
    "    beta = np.sqrt(1 - 1 / gamma**2)\n",
    "\n",
    "    return beta\n",
    "\n",
    "def calculate_radius(ene, n=1.0297, h=h, L=L):\n",
    "    beta = calculate_beta_proton(ene)\n",
    "    theta = np.arccos(1/(beta*n))\n",
    "\n",
    "    return L * np.tan(np.arcsin(n * np.sin(theta))) + (h / 2) * np.tan(theta)"
   ]
  },
  {
   "cell_type": "code",
   "execution_count": null,
   "id": "71f85132-7aff-4c09-bc2e-8c880cdbee5b",
   "metadata": {},
   "outputs": [
    {
     "data": {
      "text/plain": [
       "0"
      ]
     },
     "execution_count": 473,
     "metadata": {},
     "output_type": "execute_result"
    }
   ],
   "source": [
    "df[\"radius_gev\"] = calculate_radius(df[\"energyPrimary\"])\n",
    "\n",
    "gc.collect()"
   ]
  },
  {
   "cell_type": "code",
   "execution_count": null,
   "id": "ed1a1849",
   "metadata": {},
   "outputs": [
    {
     "data": {
      "text/plain": [
       "7.783888440875894"
      ]
     },
     "execution_count": 474,
     "metadata": {},
     "output_type": "execute_result"
    }
   ],
   "source": [
    "calculate_radius(3)"
   ]
  },
  {
   "cell_type": "code",
   "execution_count": null,
   "id": "17019f09-1e09-42f2-8cb8-7e2527e53000",
   "metadata": {},
   "outputs": [],
   "source": [
    "df[\"residual\"] = np.abs(df[\"radius\"] - df[\"radius_gev\"])"
   ]
  },
  {
   "cell_type": "code",
   "execution_count": null,
   "id": "3d258efd",
   "metadata": {},
   "outputs": [
    {
     "data": {
      "text/html": [
       "<div>\n",
       "<style scoped>\n",
       "    .dataframe tbody tr th:only-of-type {\n",
       "        vertical-align: middle;\n",
       "    }\n",
       "\n",
       "    .dataframe tbody tr th {\n",
       "        vertical-align: top;\n",
       "    }\n",
       "\n",
       "    .dataframe thead th {\n",
       "        text-align: right;\n",
       "    }\n",
       "</style>\n",
       "<table border=\"1\" class=\"dataframe\">\n",
       "  <thead>\n",
       "    <tr style=\"text-align: right;\">\n",
       "      <th></th>\n",
       "      <th>detectorPositionX</th>\n",
       "      <th>detectorPositionY</th>\n",
       "      <th>eventNumber</th>\n",
       "      <th>energyPrimary</th>\n",
       "      <th>centerX</th>\n",
       "      <th>centerY</th>\n",
       "      <th>radius</th>\n",
       "      <th>radius_gev</th>\n",
       "      <th>residual</th>\n",
       "    </tr>\n",
       "  </thead>\n",
       "  <tbody>\n",
       "    <tr>\n",
       "      <th>0</th>\n",
       "      <td>94.25</td>\n",
       "      <td>-475.75</td>\n",
       "      <td>15500</td>\n",
       "      <td>6.0</td>\n",
       "      <td>94.25</td>\n",
       "      <td>-475.75</td>\n",
       "      <td>183.544905</td>\n",
       "      <td>157.62468</td>\n",
       "      <td>25.920225</td>\n",
       "    </tr>\n",
       "    <tr>\n",
       "      <th>1</th>\n",
       "      <td>94.25</td>\n",
       "      <td>-465.75</td>\n",
       "      <td>15500</td>\n",
       "      <td>6.0</td>\n",
       "      <td>94.25</td>\n",
       "      <td>-475.75</td>\n",
       "      <td>183.544905</td>\n",
       "      <td>157.62468</td>\n",
       "      <td>25.920225</td>\n",
       "    </tr>\n",
       "    <tr>\n",
       "      <th>2</th>\n",
       "      <td>0.00</td>\n",
       "      <td>0.00</td>\n",
       "      <td>15500</td>\n",
       "      <td>6.0</td>\n",
       "      <td>94.25</td>\n",
       "      <td>-475.75</td>\n",
       "      <td>183.544905</td>\n",
       "      <td>157.62468</td>\n",
       "      <td>25.920225</td>\n",
       "    </tr>\n",
       "    <tr>\n",
       "      <th>3</th>\n",
       "      <td>94.25</td>\n",
       "      <td>-485.75</td>\n",
       "      <td>15500</td>\n",
       "      <td>6.0</td>\n",
       "      <td>94.25</td>\n",
       "      <td>-475.75</td>\n",
       "      <td>183.544905</td>\n",
       "      <td>157.62468</td>\n",
       "      <td>25.920225</td>\n",
       "    </tr>\n",
       "    <tr>\n",
       "      <th>4</th>\n",
       "      <td>104.25</td>\n",
       "      <td>-475.75</td>\n",
       "      <td>15500</td>\n",
       "      <td>6.0</td>\n",
       "      <td>94.25</td>\n",
       "      <td>-475.75</td>\n",
       "      <td>183.544905</td>\n",
       "      <td>157.62468</td>\n",
       "      <td>25.920225</td>\n",
       "    </tr>\n",
       "    <tr>\n",
       "      <th>...</th>\n",
       "      <td>...</td>\n",
       "      <td>...</td>\n",
       "      <td>...</td>\n",
       "      <td>...</td>\n",
       "      <td>...</td>\n",
       "      <td>...</td>\n",
       "      <td>...</td>\n",
       "      <td>...</td>\n",
       "      <td>...</td>\n",
       "    </tr>\n",
       "    <tr>\n",
       "      <th>868</th>\n",
       "      <td>154.25</td>\n",
       "      <td>-315.75</td>\n",
       "      <td>467327</td>\n",
       "      <td>6.0</td>\n",
       "      <td>154.25</td>\n",
       "      <td>-315.75</td>\n",
       "      <td>157.347466</td>\n",
       "      <td>157.62468</td>\n",
       "      <td>0.277215</td>\n",
       "    </tr>\n",
       "    <tr>\n",
       "      <th>869</th>\n",
       "      <td>0.00</td>\n",
       "      <td>0.00</td>\n",
       "      <td>467327</td>\n",
       "      <td>6.0</td>\n",
       "      <td>154.25</td>\n",
       "      <td>-315.75</td>\n",
       "      <td>157.347466</td>\n",
       "      <td>157.62468</td>\n",
       "      <td>0.277215</td>\n",
       "    </tr>\n",
       "    <tr>\n",
       "      <th>870</th>\n",
       "      <td>154.25</td>\n",
       "      <td>-325.75</td>\n",
       "      <td>467327</td>\n",
       "      <td>6.0</td>\n",
       "      <td>154.25</td>\n",
       "      <td>-315.75</td>\n",
       "      <td>157.347466</td>\n",
       "      <td>157.62468</td>\n",
       "      <td>0.277215</td>\n",
       "    </tr>\n",
       "    <tr>\n",
       "      <th>871</th>\n",
       "      <td>164.25</td>\n",
       "      <td>-315.75</td>\n",
       "      <td>467327</td>\n",
       "      <td>6.0</td>\n",
       "      <td>154.25</td>\n",
       "      <td>-315.75</td>\n",
       "      <td>157.347466</td>\n",
       "      <td>157.62468</td>\n",
       "      <td>0.277215</td>\n",
       "    </tr>\n",
       "    <tr>\n",
       "      <th>872</th>\n",
       "      <td>144.25</td>\n",
       "      <td>-315.75</td>\n",
       "      <td>467327</td>\n",
       "      <td>6.0</td>\n",
       "      <td>154.25</td>\n",
       "      <td>-315.75</td>\n",
       "      <td>157.347466</td>\n",
       "      <td>157.62468</td>\n",
       "      <td>0.277215</td>\n",
       "    </tr>\n",
       "  </tbody>\n",
       "</table>\n",
       "<p>873 rows × 9 columns</p>\n",
       "</div>"
      ],
      "text/plain": [
       "     detectorPositionX  detectorPositionY  eventNumber  energyPrimary  \\\n",
       "0                94.25            -475.75        15500            6.0   \n",
       "1                94.25            -465.75        15500            6.0   \n",
       "2                 0.00               0.00        15500            6.0   \n",
       "3                94.25            -485.75        15500            6.0   \n",
       "4               104.25            -475.75        15500            6.0   \n",
       "..                 ...                ...          ...            ...   \n",
       "868             154.25            -315.75       467327            6.0   \n",
       "869               0.00               0.00       467327            6.0   \n",
       "870             154.25            -325.75       467327            6.0   \n",
       "871             164.25            -315.75       467327            6.0   \n",
       "872             144.25            -315.75       467327            6.0   \n",
       "\n",
       "     centerX  centerY      radius  radius_gev   residual  \n",
       "0      94.25  -475.75  183.544905   157.62468  25.920225  \n",
       "1      94.25  -475.75  183.544905   157.62468  25.920225  \n",
       "2      94.25  -475.75  183.544905   157.62468  25.920225  \n",
       "3      94.25  -475.75  183.544905   157.62468  25.920225  \n",
       "4      94.25  -475.75  183.544905   157.62468  25.920225  \n",
       "..       ...      ...         ...         ...        ...  \n",
       "868   154.25  -315.75  157.347466   157.62468   0.277215  \n",
       "869   154.25  -315.75  157.347466   157.62468   0.277215  \n",
       "870   154.25  -315.75  157.347466   157.62468   0.277215  \n",
       "871   154.25  -315.75  157.347466   157.62468   0.277215  \n",
       "872   154.25  -315.75  157.347466   157.62468   0.277215  \n",
       "\n",
       "[873 rows x 9 columns]"
      ]
     },
     "execution_count": 476,
     "metadata": {},
     "output_type": "execute_result"
    }
   ],
   "source": [
    "df"
   ]
  },
  {
   "cell_type": "code",
   "execution_count": null,
   "id": "7b876bda-716b-4cde-95a8-78701f7c6a5a",
   "metadata": {},
   "outputs": [
    {
     "name": "stderr",
     "output_type": "stream",
     "text": [
      "Font 'default' does not have a glyph for '\\u2212' [U+2212], substituting with a dummy symbol.\n",
      "Font 'default' does not have a glyph for '\\u2212' [U+2212], substituting with a dummy symbol.\n",
      "Font 'default' does not have a glyph for '\\u2212' [U+2212], substituting with a dummy symbol.\n",
      "Font 'default' does not have a glyph for '\\u2212' [U+2212], substituting with a dummy symbol.\n",
      "Font 'default' does not have a glyph for '\\u2212' [U+2212], substituting with a dummy symbol.\n",
      "Font 'default' does not have a glyph for '\\u2212' [U+2212], substituting with a dummy symbol.\n",
      "Font 'default' does not have a glyph for '\\u2212' [U+2212], substituting with a dummy symbol.\n",
      "Font 'default' does not have a glyph for '\\u2212' [U+2212], substituting with a dummy symbol.\n",
      "Font 'default' does not have a glyph for '\\u2212' [U+2212], substituting with a dummy symbol.\n",
      "Font 'default' does not have a glyph for '\\u2212' [U+2212], substituting with a dummy symbol.\n",
      "Font 'default' does not have a glyph for '\\u2212' [U+2212], substituting with a dummy symbol.\n",
      "Font 'default' does not have a glyph for '\\u2212' [U+2212], substituting with a dummy symbol.\n",
      "Font 'default' does not have a glyph for '\\u2212' [U+2212], substituting with a dummy symbol.\n",
      "Font 'default' does not have a glyph for '\\u2212' [U+2212], substituting with a dummy symbol.\n",
      "Font 'default' does not have a glyph for '\\u2212' [U+2212], substituting with a dummy symbol.\n",
      "Font 'default' does not have a glyph for '\\u2212' [U+2212], substituting with a dummy symbol.\n",
      "Font 'default' does not have a glyph for '\\u2212' [U+2212], substituting with a dummy symbol.\n",
      "Font 'default' does not have a glyph for '\\u2212' [U+2212], substituting with a dummy symbol.\n",
      "Font 'default' does not have a glyph for '\\u2212' [U+2212], substituting with a dummy symbol.\n",
      "Font 'default' does not have a glyph for '\\u2212' [U+2212], substituting with a dummy symbol.\n",
      "Font 'default' does not have a glyph for '\\u2212' [U+2212], substituting with a dummy symbol.\n",
      "Font 'default' does not have a glyph for '\\u2212' [U+2212], substituting with a dummy symbol.\n",
      "Font 'default' does not have a glyph for '\\u2212' [U+2212], substituting with a dummy symbol.\n",
      "Font 'default' does not have a glyph for '\\u2212' [U+2212], substituting with a dummy symbol.\n",
      "Font 'default' does not have a glyph for '\\u2212' [U+2212], substituting with a dummy symbol.\n",
      "Font 'default' does not have a glyph for '\\u2212' [U+2212], substituting with a dummy symbol.\n",
      "Font 'default' does not have a glyph for '\\u2212' [U+2212], substituting with a dummy symbol.\n",
      "Font 'default' does not have a glyph for '\\u2212' [U+2212], substituting with a dummy symbol.\n"
     ]
    },
    {
     "data": {
      "image/png": "[encoded data removed]",
      "text/plain": [
       "<Figure size 640x480 with 1 Axes>"
      ]
     },
     "metadata": {},
     "output_type": "display_data"
    }
   ],
   "source": [
    "plt.hist(df[\"residual\"], bins=100, density=True, log=True, color='gray', alpha=0.5)\n",
    "plt.ylim([2e-8, 1e-1])\n",
    "\n",
    "plt.xlabel('Residual [mm]')\n",
    "plt.ylabel('% Eventos')\n",
    "\n",
    "plt.title(\"Residuales Entre el Anillo Cerenkov Calculado y el Real\" + f\" ({ene} GeV)\")\n",
    "\n",
    "plt.show()"
   ]
  },
  {
   "cell_type": "code",
   "execution_count": null,
   "id": "f0ab056c",
   "metadata": {},
   "outputs": [
    {
     "name": "stdout",
     "output_type": "stream",
     "text": [
      "The bin with the highest count between 170 and 220 is: 232.59403684000247\n"
     ]
    }
   ],
   "source": [
    "filtered_df = df[(df['residual'] >= 160) & (df['residual'] <= 240)]\n",
    "value_counts = filtered_df['residual'].value_counts()\n",
    "highest_count_bin = value_counts.idxmax()\n",
    "\n",
    "print(f\"The bin with the highest count between 170 and 220 is: {highest_count_bin}\")"
   ]
  },
  {
   "cell_type": "code",
   "execution_count": null,
   "id": "0559e22e",
   "metadata": {},
   "outputs": [
    {
     "name": "stdout",
     "output_type": "stream",
     "text": [
      "The bin with the second highest count between 170 and 220 is: 212.72067440396577\n"
     ]
    }
   ],
   "source": [
    "sorted_value_counts = value_counts.sort_values(ascending=False)\n",
    "second_highest_count_bin = sorted_value_counts.index[1]\n",
    "\n",
    "print(f\"The bin with the second highest count between 170 and 220 is: {second_highest_count_bin}\")"
   ]
  },
  {
   "cell_type": "code",
   "execution_count": null,
   "id": "f4e72a1f",
   "metadata": {},
   "outputs": [
    {
     "name": "stderr",
     "output_type": "stream",
     "text": [
      "/tmp/ipykernel_1646/1613871623.py:19: UserWarning: Glyph 8722 (\\N{MINUS SIGN}) missing from font(s) Arial.\n",
      "  plt.tight_layout()\n",
      "/home/DerWissenschaftlerAusMexiko/anaconda3/envs/DataAnalisis/lib/python3.11/site-packages/IPython/core/pylabtools.py:170: UserWarning: Glyph 8722 (\\N{MINUS SIGN}) missing from font(s) Arial.\n",
      "  fig.canvas.print_figure(bytes_io, **kw)\n"
     ]
    },
    {
     "data": {
      "image/png": "[encoded data removed]",
      "text/plain": [
       "<Figure size 1200x1200 with 6 Axes>"
      ]
     },
     "metadata": {},
     "output_type": "display_data"
    }
   ],
   "source": [
    "# Select 10 random 'eventNumber's\n",
    "random_event_numbers = filtered_df['eventNumber'].sample(10).values\n",
    "\n",
    "fig, axs = plt.subplots(2, 3, figsize=(12, 12))\n",
    "\n",
    "for i, ax in enumerate(axs.flatten()):\n",
    "    # Select all rows for the current 'eventNumber'\n",
    "    event = df[df['eventNumber'] == random_event_numbers[i]]\n",
    "    ax.scatter(event['detectorPositionX'], event['detectorPositionY'], label='Positions')\n",
    "    \n",
    "    # Calculate and plot the center position\n",
    "    center_x = event[\"centerX\"]\n",
    "    center_y = event['centerY']\n",
    "    ax.scatter(center_x, center_y, color='red', label='Center')\n",
    "    \n",
    "    ax.set_xlabel('X [mm]')\n",
    "    ax.set_ylabel('Y [mm]')  \n",
    "\n",
    "plt.tight_layout()\n",
    "plt.suptitle(\"Eventos Que Forman Parte del Pico a 4.2 GeV\")\n",
    "\n",
    "plt.show()"
   ]
  },
  {
   "cell_type": "code",
   "execution_count": null,
   "id": "0921cb4c",
   "metadata": {},
   "outputs": [
    {
     "data": {
      "text/plain": [
       "'import numpy as np\\nfrom scipy.stats import norm\\nfrom scipy.optimize import curve_fit\\n\\ndef gaussian(x, A, mu, sigma, x0):\\n    return A * np.where(x < x0, norm.pdf(x, mu, sigma) / norm.pdf(mu, mu, sigma), 0)\\n\\ndef constant_function(x, c):\\n    return c\\n\\ndef combined_function(x, A, mu, sigma, x0, c):\\n    return np.where(x < x0, gaussian(x, A, mu, sigma, x0), constant_function(x, c))\\n\\n# Get the histogram data\\n# Filter the \\'residual\\' column\\nfiltered_residual = df[\\'residual\\'][df[\\'residual\\'] <= 600]\\n\\n# Get the histogram data\\nhist, bin_edges = np.histogram(filtered_residual, bins=100, density=True)\\nbin_centers = (bin_edges[:-1] + bin_edges[1:]) / 2\\n\\n# Fit the function to the histogram data\\npopt, pcov = curve_fit(combined_function, bin_centers, hist, p0=[0.2, 50, 35, 85, 0.0001],\\n                       method=\\'dogbox\\',\\n                       ftol=1e-5, \\n                       gtol=1e-5, \\n                       max_nfev=100000)\\n\\n# Print the optimized parameters\\nprint(\"Optimized parameters:\", popt)\\n# Print the optimal parameters\\nprint(popt)\\n\\n# Plot the histogram\\nplt.hist(df[\"residual\"], bins=100, density=True, log=True, color=\\'gray\\', alpha=0.5)\\n\\n# Plot the fitted function\\nx = np.linspace(bin_edges[0], bin_edges[-1], 1000)\\nplt.plot(x, combined_function(x, *popt), \\'r-\\')\\n\\nplt.xlabel(\\'Residual [mm]\\')\\nplt.ylabel(\\'% Eventos\\')\\nplt.title(\"Ajuste de la Distribución de los Residuales a 4.2 GeV\")\\n\\nplt.ylim([2e-8, 1e-1])\\n\\n\\nplt.show()'"
      ]
     },
     "execution_count": 481,
     "metadata": {},
     "output_type": "execute_result"
    }
   ],
   "source": [
    "\"\"\"import numpy as np\n",
    "from scipy.stats import norm\n",
    "from scipy.optimize import curve_fit\n",
    "\n",
    "def gaussian(x, A, mu, sigma, x0):\n",
    "    return A * np.where(x < x0, norm.pdf(x, mu, sigma) / norm.pdf(mu, mu, sigma), 0)\n",
    "\n",
    "def constant_function(x, c):\n",
    "    return c\n",
    "\n",
    "def combined_function(x, A, mu, sigma, x0, c):\n",
    "    return np.where(x < x0, gaussian(x, A, mu, sigma, x0), constant_function(x, c))\n",
    "\n",
    "# Get the histogram data\n",
    "# Filter the 'residual' column\n",
    "filtered_residual = df['residual'][df['residual'] <= 600]\n",
    "\n",
    "# Get the histogram data\n",
    "hist, bin_edges = np.histogram(filtered_residual, bins=100, density=True)\n",
    "bin_centers = (bin_edges[:-1] + bin_edges[1:]) / 2\n",
    "\n",
    "# Fit the function to the histogram data\n",
    "popt, pcov = curve_fit(combined_function, bin_centers, hist, p0=[0.2, 50, 35, 85, 0.0001],\n",
    "                       method='dogbox',\n",
    "                       ftol=1e-5, \n",
    "                       gtol=1e-5, \n",
    "                       max_nfev=100000)\n",
    "\n",
    "# Print the optimized parameters\n",
    "print(\"Optimized parameters:\", popt)\n",
    "# Print the optimal parameters\n",
    "print(popt)\n",
    "\n",
    "# Plot the histogram\n",
    "plt.hist(df[\"residual\"], bins=100, density=True, log=True, color='gray', alpha=0.5)\n",
    "\n",
    "# Plot the fitted function\n",
    "x = np.linspace(bin_edges[0], bin_edges[-1], 1000)\n",
    "plt.plot(x, combined_function(x, *popt), 'r-')\n",
    "\n",
    "plt.xlabel('Residual [mm]')\n",
    "plt.ylabel('% Eventos')\n",
    "plt.title(\"Ajuste de la Distribución de los Residuales a 4.2 GeV\")\n",
    "\n",
    "plt.ylim([2e-8, 1e-1])\n",
    "\n",
    "\n",
    "plt.show()\"\"\""
   ]
  },
  {
   "cell_type": "code",
   "execution_count": null,
   "id": "80695840-5511-4172-8bac-39d80b3d2934",
   "metadata": {},
   "outputs": [
    {
     "data": {
      "text/plain": [
       "34265"
      ]
     },
     "execution_count": 482,
     "metadata": {},
     "output_type": "execute_result"
    }
   ],
   "source": [
    "# Get eventNumbers with variance > 0 and < 100\n",
    "good_eventNumbers = df.loc[(df['residual'] > 0) & (df['residual'] < 50), 'eventNumber']\n",
    "\n",
    "# Get eventNumbers with variance > 100\n",
    "bad_eventNumbers = df.loc[df['residual'] > 100, 'eventNumber']\n",
    "\n",
    "# Create df_good DataFrame\n",
    "df_good = df.loc[df['eventNumber'].isin(good_eventNumbers)].copy()\n",
    "\n",
    "# Create df_bad DataFrame\n",
    "df_bad = df.loc[df['eventNumber'].isin(bad_eventNumbers)].copy()\n",
    "\n",
    "# Delete unused variables and original df\n",
    "del df, good_eventNumbers, bad_eventNumbers\n",
    "gc.collect()"
   ]
  },
  {
   "cell_type": "code",
   "execution_count": null,
   "id": "a1bbf282-c8c9-472b-9fe0-12622b5b15e9",
   "metadata": {},
   "outputs": [
    {
     "ename": "KeyError",
     "evalue": "'residual'",
     "output_type": "error",
     "traceback": [
      "\u001b[0;31m---------------------------------------------------------------------------\u001b[0m",
      "\u001b[0;31mKeyError\u001b[0m                                  Traceback (most recent call last)",
      "File \u001b[0;32m~/anaconda3/envs/DataAnalisis/lib/python3.11/site-packages/pandas/core/indexes/base.py:3805\u001b[0m, in \u001b[0;36mIndex.get_loc\u001b[0;34m(self, key)\u001b[0m\n\u001b[1;32m   3804\u001b[0m \u001b[38;5;28;01mtry\u001b[39;00m:\n\u001b[0;32m-> 3805\u001b[0m     \u001b[38;5;28;01mreturn\u001b[39;00m \u001b[38;5;28;43mself\u001b[39;49m\u001b[38;5;241;43m.\u001b[39;49m\u001b[43m_engine\u001b[49m\u001b[38;5;241;43m.\u001b[39;49m\u001b[43mget_loc\u001b[49m\u001b[43m(\u001b[49m\u001b[43mcasted_key\u001b[49m\u001b[43m)\u001b[49m\n\u001b[1;32m   3806\u001b[0m \u001b[38;5;28;01mexcept\u001b[39;00m \u001b[38;5;167;01mKeyError\u001b[39;00m \u001b[38;5;28;01mas\u001b[39;00m err:\n",
      "File \u001b[0;32mindex.pyx:167\u001b[0m, in \u001b[0;36mpandas._libs.index.IndexEngine.get_loc\u001b[0;34m()\u001b[0m\n",
      "File \u001b[0;32mindex.pyx:196\u001b[0m, in \u001b[0;36mpandas._libs.index.IndexEngine.get_loc\u001b[0;34m()\u001b[0m\n",
      "File \u001b[0;32mpandas/_libs/hashtable_class_helper.pxi:7081\u001b[0m, in \u001b[0;36mpandas._libs.hashtable.PyObjectHashTable.get_item\u001b[0;34m()\u001b[0m\n",
      "File \u001b[0;32mpandas/_libs/hashtable_class_helper.pxi:7089\u001b[0m, in \u001b[0;36mpandas._libs.hashtable.PyObjectHashTable.get_item\u001b[0;34m()\u001b[0m\n",
      "\u001b[0;31mKeyError\u001b[0m: 'residual'",
      "\nThe above exception was the direct cause of the following exception:\n",
      "\u001b[0;31mKeyError\u001b[0m                                  Traceback (most recent call last)",
      "Cell \u001b[0;32mIn[483], line 2\u001b[0m\n\u001b[1;32m      1\u001b[0m \u001b[38;5;28;01mimport\u001b[39;00m \u001b[38;5;21;01mmatplotlib\u001b[39;00m\u001b[38;5;21;01m.\u001b[39;00m\u001b[38;5;21;01mpyplot\u001b[39;00m \u001b[38;5;28;01mas\u001b[39;00m \u001b[38;5;21;01mplt\u001b[39;00m\n\u001b[0;32m----> 2\u001b[0m plt\u001b[38;5;241m.\u001b[39mhist(\u001b[43mvariance_df\u001b[49m\u001b[43m[\u001b[49m\u001b[38;5;124;43m\"\u001b[39;49m\u001b[38;5;124;43mresidual\u001b[39;49m\u001b[38;5;124;43m\"\u001b[39;49m\u001b[43m]\u001b[49m, bins\u001b[38;5;241m=\u001b[39m\u001b[38;5;241m100\u001b[39m, \u001b[38;5;28mrange\u001b[39m\u001b[38;5;241m=\u001b[39m(\u001b[38;5;241m0\u001b[39m, \u001b[38;5;241m500\u001b[39m), log \u001b[38;5;241m=\u001b[39m \u001b[38;5;28;01mTrue\u001b[39;00m, density\u001b[38;5;241m=\u001b[39m\u001b[38;5;28;01mTrue\u001b[39;00m)\n\u001b[1;32m      4\u001b[0m plt\u001b[38;5;241m.\u001b[39mtitle(\u001b[38;5;124m'\u001b[39m\u001b[38;5;124mHistograma del Residual Normalizado por El Número de Fotones Cherenkov\u001b[39m\u001b[38;5;124m'\u001b[39m)\n\u001b[1;32m      5\u001b[0m plt\u001b[38;5;241m.\u001b[39mxlabel(\u001b[38;5;124m'\u001b[39m\u001b[38;5;124mResidual Normalizado\u001b[39m\u001b[38;5;124m'\u001b[39m)\n",
      "File \u001b[0;32m~/anaconda3/envs/DataAnalisis/lib/python3.11/site-packages/pandas/core/frame.py:4102\u001b[0m, in \u001b[0;36mDataFrame.__getitem__\u001b[0;34m(self, key)\u001b[0m\n\u001b[1;32m   4100\u001b[0m \u001b[38;5;28;01mif\u001b[39;00m \u001b[38;5;28mself\u001b[39m\u001b[38;5;241m.\u001b[39mcolumns\u001b[38;5;241m.\u001b[39mnlevels \u001b[38;5;241m>\u001b[39m \u001b[38;5;241m1\u001b[39m:\n\u001b[1;32m   4101\u001b[0m     \u001b[38;5;28;01mreturn\u001b[39;00m \u001b[38;5;28mself\u001b[39m\u001b[38;5;241m.\u001b[39m_getitem_multilevel(key)\n\u001b[0;32m-> 4102\u001b[0m indexer \u001b[38;5;241m=\u001b[39m \u001b[38;5;28;43mself\u001b[39;49m\u001b[38;5;241;43m.\u001b[39;49m\u001b[43mcolumns\u001b[49m\u001b[38;5;241;43m.\u001b[39;49m\u001b[43mget_loc\u001b[49m\u001b[43m(\u001b[49m\u001b[43mkey\u001b[49m\u001b[43m)\u001b[49m\n\u001b[1;32m   4103\u001b[0m \u001b[38;5;28;01mif\u001b[39;00m is_integer(indexer):\n\u001b[1;32m   4104\u001b[0m     indexer \u001b[38;5;241m=\u001b[39m [indexer]\n",
      "File \u001b[0;32m~/anaconda3/envs/DataAnalisis/lib/python3.11/site-packages/pandas/core/indexes/base.py:3812\u001b[0m, in \u001b[0;36mIndex.get_loc\u001b[0;34m(self, key)\u001b[0m\n\u001b[1;32m   3807\u001b[0m     \u001b[38;5;28;01mif\u001b[39;00m \u001b[38;5;28misinstance\u001b[39m(casted_key, \u001b[38;5;28mslice\u001b[39m) \u001b[38;5;129;01mor\u001b[39;00m (\n\u001b[1;32m   3808\u001b[0m         \u001b[38;5;28misinstance\u001b[39m(casted_key, abc\u001b[38;5;241m.\u001b[39mIterable)\n\u001b[1;32m   3809\u001b[0m         \u001b[38;5;129;01mand\u001b[39;00m \u001b[38;5;28many\u001b[39m(\u001b[38;5;28misinstance\u001b[39m(x, \u001b[38;5;28mslice\u001b[39m) \u001b[38;5;28;01mfor\u001b[39;00m x \u001b[38;5;129;01min\u001b[39;00m casted_key)\n\u001b[1;32m   3810\u001b[0m     ):\n\u001b[1;32m   3811\u001b[0m         \u001b[38;5;28;01mraise\u001b[39;00m InvalidIndexError(key)\n\u001b[0;32m-> 3812\u001b[0m     \u001b[38;5;28;01mraise\u001b[39;00m \u001b[38;5;167;01mKeyError\u001b[39;00m(key) \u001b[38;5;28;01mfrom\u001b[39;00m \u001b[38;5;21;01merr\u001b[39;00m\n\u001b[1;32m   3813\u001b[0m \u001b[38;5;28;01mexcept\u001b[39;00m \u001b[38;5;167;01mTypeError\u001b[39;00m:\n\u001b[1;32m   3814\u001b[0m     \u001b[38;5;66;03m# If we have a listlike key, _check_indexing_error will raise\u001b[39;00m\n\u001b[1;32m   3815\u001b[0m     \u001b[38;5;66;03m#  InvalidIndexError. Otherwise we fall through and re-raise\u001b[39;00m\n\u001b[1;32m   3816\u001b[0m     \u001b[38;5;66;03m#  the TypeError.\u001b[39;00m\n\u001b[1;32m   3817\u001b[0m     \u001b[38;5;28mself\u001b[39m\u001b[38;5;241m.\u001b[39m_check_indexing_error(key)\n",
      "\u001b[0;31mKeyError\u001b[0m: 'residual'"
     ]
    }
   ],
   "source": [
    "import matplotlib.pyplot as plt\n",
    "plt.hist(variance_df[\"residual\"], bins=100, range=(0, 500), log = True, density=True)\n",
    "\n",
    "plt.title('Histograma del Residual Normalizado por El Número de Fotones Cherenkov')\n",
    "plt.xlabel('Residual Normalizado')\n",
    "plt.ylabel('% Eventos')\n",
    "\n",
    "plt.savefig(\"normalizado2cm.png\")\n",
    "\n",
    "plt.show()"
   ]
  },
  {
   "cell_type": "code",
   "execution_count": null,
   "id": "91a04c8f-88f9-442e-b2e3-96b6f10e2ded",
   "metadata": {},
   "outputs": [
    {
     "data": {
      "text/plain": [
       "'import math\\n\\ndef inc(n, R, h = 76.5):\\n    return 1.202/(math.sin(math.atan(R/h))*(math.cos(math.atan(R/h))**2)*n*h*(1 + (R/h)**2))'"
      ]
     },
     "execution_count": 343,
     "metadata": {},
     "output_type": "execute_result"
    }
   ],
   "source": [
    "\"\"\"import math\n",
    "\n",
    "def inc(n, R, h = 76.5):\n",
    "    return 1.202/(math.sin(math.atan(R/h))*(math.cos(math.atan(R/h))**2)*n*h*(1 + (R/h)**2))\"\"\""
   ]
  },
  {
   "cell_type": "code",
   "execution_count": null,
   "id": "3c3c046f-9b3e-4816-bd6c-34b1b42b1bce",
   "metadata": {},
   "outputs": [],
   "source": [
    "import tensorflow as tf\n",
    "\n",
    "# Group the DataFrame by 'eventNumber' and save each group as an element in a list\n",
    "groups1 = [group for _, group in df_good.groupby('eventNumber')]\n",
    "groups2 = [group for _, group in df_bad.groupby('eventNumber')]\n",
    "\n",
    "# Get the labels (the 'eventNumber' column)\n",
    "labels1 = df_good.groupby('eventNumber')['energyPrimary'].first().values\n",
    "labels2 = df_bad.groupby('eventNumber')['energyPrimary'].first().values"
   ]
  },
  {
   "cell_type": "code",
   "execution_count": null,
   "id": "a4b25356-2779-4f0a-ab0f-738e59c9c76d",
   "metadata": {},
   "outputs": [],
   "source": [
    "def serialize_example(group, label):\n",
    "    # Convert the 'detectorPositionX', 'detectorPositionY', 'duplicates_count' columns to floats\n",
    "    detectorPositionX_floats = group['detectorPositionX'].values.astype(float)\n",
    "    detectorPositionY_floats = group['detectorPositionY'].values.astype(float)\n",
    "    label_float = float(label)\n",
    "\n",
    "    feature = {\n",
    "        'detectorPositionX': tf.train.Feature(float_list=tf.train.FloatList(value=detectorPositionX_floats)),\n",
    "        'detectorPositionY': tf.train.Feature(float_list=tf.train.FloatList(value=detectorPositionY_floats)),\n",
    "        'label': tf.train.Feature(float_list=tf.train.FloatList(value=[label_float])),\n",
    "    }\n",
    "    example_proto = tf.train.Example(features=tf.train.Features(feature=feature))\n",
    "    return example_proto.SerializeToString()\n",
    "\n",
    "# Write the dataset to a TFRecord file\n",
    "with tf.io.TFRecordWriter('good3_0.tfrecords') as writer:\n",
    "    for group, label in zip(groups1, labels1):\n",
    "        example = serialize_example(group, label)\n",
    "        writer.write(example)\n",
    "\n",
    "with tf.io.TFRecordWriter('bad3_0.tfrecords') as writer:\n",
    "    for group, label in zip(groups2, labels2):\n",
    "        example = serialize_example(group, label)\n",
    "        writer.write(example)"
   ]
  },
  {
   "cell_type": "code",
   "execution_count": null,
   "id": "151d2fd4-6145-4ca3-bb54-81dbdf958404",
   "metadata": {},
   "outputs": [
    {
     "data": {
      "text/plain": [
       "'df_good.loc[:, \"beta_hat\"] = calculate_beta(df_good[\"radius\"].apply(calculate_half_angle), 1.05)\\n\\ndf_bad.loc[:, \"beta_hat\"] = calculate_beta(df_bad[\"radius\"].apply(calculate_half_angle), 1.05)'"
      ]
     },
     "execution_count": 346,
     "metadata": {},
     "output_type": "execute_result"
    }
   ],
   "source": [
    "\"\"\"df_good.loc[:, \"beta_hat\"] = calculate_beta(df_good[\"radius\"].apply(calculate_half_angle), 1.05)\n",
    "\n",
    "df_bad.loc[:, \"beta_hat\"] = calculate_beta(df_bad[\"radius\"].apply(calculate_half_angle), 1.05)\"\"\""
   ]
  },
  {
   "cell_type": "code",
   "execution_count": null,
   "id": "fc4ec63b",
   "metadata": {},
   "outputs": [
    {
     "data": {
      "text/plain": [
       "0.9831864357269936"
      ]
     },
     "execution_count": 347,
     "metadata": {},
     "output_type": "execute_result"
    }
   ],
   "source": [
    "calculate_beta_proton(4.2)"
   ]
  },
  {
   "cell_type": "code",
   "execution_count": null,
   "id": "9e717a01-387c-4de0-9787-078530b04612",
   "metadata": {},
   "outputs": [
    {
     "ename": "FileNotFoundError",
     "evalue": "[Errno 2] No such file or directory: '9cm/csv/df3_0_good1.csv'",
     "output_type": "error",
     "traceback": [
      "\u001b[0;31m---------------------------------------------------------------------------\u001b[0m",
      "\u001b[0;31mFileNotFoundError\u001b[0m                         Traceback (most recent call last)",
      "Cell \u001b[0;32mIn[348], line 16\u001b[0m\n\u001b[1;32m     14\u001b[0m good_files \u001b[38;5;241m=\u001b[39m [\u001b[38;5;124mf\u001b[39m\u001b[38;5;124m'\u001b[39m\u001b[38;5;124m9cm/csv/df\u001b[39m\u001b[38;5;132;01m{\u001b[39;00mene_str\u001b[38;5;132;01m}\u001b[39;00m\u001b[38;5;124m_good\u001b[39m\u001b[38;5;132;01m{\u001b[39;00mi\u001b[38;5;132;01m}\u001b[39;00m\u001b[38;5;124m.csv\u001b[39m\u001b[38;5;124m'\u001b[39m \u001b[38;5;28;01mfor\u001b[39;00m i \u001b[38;5;129;01min\u001b[39;00m (\u001b[38;5;241m1\u001b[39m,\u001b[38;5;241m3\u001b[39m)]\n\u001b[1;32m     15\u001b[0m bad_files \u001b[38;5;241m=\u001b[39m [\u001b[38;5;124mf\u001b[39m\u001b[38;5;124m'\u001b[39m\u001b[38;5;124m9cm/csv/df\u001b[39m\u001b[38;5;132;01m{\u001b[39;00mene_str\u001b[38;5;132;01m}\u001b[39;00m\u001b[38;5;124m_bad\u001b[39m\u001b[38;5;132;01m{\u001b[39;00mi\u001b[38;5;132;01m}\u001b[39;00m\u001b[38;5;124m.csv\u001b[39m\u001b[38;5;124m'\u001b[39m \u001b[38;5;28;01mfor\u001b[39;00m i \u001b[38;5;129;01min\u001b[39;00m (\u001b[38;5;241m1\u001b[39m,\u001b[38;5;241m3\u001b[39m)]\n\u001b[0;32m---> 16\u001b[0m df_good \u001b[38;5;241m=\u001b[39m pd\u001b[38;5;241m.\u001b[39mconcat(\u001b[43m[\u001b[49m\u001b[43mpd\u001b[49m\u001b[38;5;241;43m.\u001b[39;49m\u001b[43mread_csv\u001b[49m\u001b[43m(\u001b[49m\u001b[43mf\u001b[49m\u001b[43m)\u001b[49m\u001b[43m \u001b[49m\u001b[38;5;28;43;01mfor\u001b[39;49;00m\u001b[43m \u001b[49m\u001b[43mf\u001b[49m\u001b[43m \u001b[49m\u001b[38;5;129;43;01min\u001b[39;49;00m\u001b[43m \u001b[49m\u001b[43mgood_files\u001b[49m\u001b[43m]\u001b[49m)\n\u001b[1;32m     17\u001b[0m df_bad \u001b[38;5;241m=\u001b[39m pd\u001b[38;5;241m.\u001b[39mconcat([pd\u001b[38;5;241m.\u001b[39mread_csv(f) \u001b[38;5;28;01mfor\u001b[39;00m f \u001b[38;5;129;01min\u001b[39;00m bad_files])\n\u001b[1;32m     19\u001b[0m df_good_grouped \u001b[38;5;241m=\u001b[39m df_good\u001b[38;5;241m.\u001b[39mgroupby(\u001b[38;5;124m'\u001b[39m\u001b[38;5;124meventNumber\u001b[39m\u001b[38;5;124m'\u001b[39m)\u001b[38;5;241m.\u001b[39mfirst()\n",
      "Cell \u001b[0;32mIn[348], line 16\u001b[0m, in \u001b[0;36m<listcomp>\u001b[0;34m(.0)\u001b[0m\n\u001b[1;32m     14\u001b[0m good_files \u001b[38;5;241m=\u001b[39m [\u001b[38;5;124mf\u001b[39m\u001b[38;5;124m'\u001b[39m\u001b[38;5;124m9cm/csv/df\u001b[39m\u001b[38;5;132;01m{\u001b[39;00mene_str\u001b[38;5;132;01m}\u001b[39;00m\u001b[38;5;124m_good\u001b[39m\u001b[38;5;132;01m{\u001b[39;00mi\u001b[38;5;132;01m}\u001b[39;00m\u001b[38;5;124m.csv\u001b[39m\u001b[38;5;124m'\u001b[39m \u001b[38;5;28;01mfor\u001b[39;00m i \u001b[38;5;129;01min\u001b[39;00m (\u001b[38;5;241m1\u001b[39m,\u001b[38;5;241m3\u001b[39m)]\n\u001b[1;32m     15\u001b[0m bad_files \u001b[38;5;241m=\u001b[39m [\u001b[38;5;124mf\u001b[39m\u001b[38;5;124m'\u001b[39m\u001b[38;5;124m9cm/csv/df\u001b[39m\u001b[38;5;132;01m{\u001b[39;00mene_str\u001b[38;5;132;01m}\u001b[39;00m\u001b[38;5;124m_bad\u001b[39m\u001b[38;5;132;01m{\u001b[39;00mi\u001b[38;5;132;01m}\u001b[39;00m\u001b[38;5;124m.csv\u001b[39m\u001b[38;5;124m'\u001b[39m \u001b[38;5;28;01mfor\u001b[39;00m i \u001b[38;5;129;01min\u001b[39;00m (\u001b[38;5;241m1\u001b[39m,\u001b[38;5;241m3\u001b[39m)]\n\u001b[0;32m---> 16\u001b[0m df_good \u001b[38;5;241m=\u001b[39m pd\u001b[38;5;241m.\u001b[39mconcat([\u001b[43mpd\u001b[49m\u001b[38;5;241;43m.\u001b[39;49m\u001b[43mread_csv\u001b[49m\u001b[43m(\u001b[49m\u001b[43mf\u001b[49m\u001b[43m)\u001b[49m \u001b[38;5;28;01mfor\u001b[39;00m f \u001b[38;5;129;01min\u001b[39;00m good_files])\n\u001b[1;32m     17\u001b[0m df_bad \u001b[38;5;241m=\u001b[39m pd\u001b[38;5;241m.\u001b[39mconcat([pd\u001b[38;5;241m.\u001b[39mread_csv(f) \u001b[38;5;28;01mfor\u001b[39;00m f \u001b[38;5;129;01min\u001b[39;00m bad_files])\n\u001b[1;32m     19\u001b[0m df_good_grouped \u001b[38;5;241m=\u001b[39m df_good\u001b[38;5;241m.\u001b[39mgroupby(\u001b[38;5;124m'\u001b[39m\u001b[38;5;124meventNumber\u001b[39m\u001b[38;5;124m'\u001b[39m)\u001b[38;5;241m.\u001b[39mfirst()\n",
      "File \u001b[0;32m~/anaconda3/envs/DataAnalisis/lib/python3.11/site-packages/pandas/io/parsers/readers.py:1026\u001b[0m, in \u001b[0;36mread_csv\u001b[0;34m(filepath_or_buffer, sep, delimiter, header, names, index_col, usecols, dtype, engine, converters, true_values, false_values, skipinitialspace, skiprows, skipfooter, nrows, na_values, keep_default_na, na_filter, verbose, skip_blank_lines, parse_dates, infer_datetime_format, keep_date_col, date_parser, date_format, dayfirst, cache_dates, iterator, chunksize, compression, thousands, decimal, lineterminator, quotechar, quoting, doublequote, escapechar, comment, encoding, encoding_errors, dialect, on_bad_lines, delim_whitespace, low_memory, memory_map, float_precision, storage_options, dtype_backend)\u001b[0m\n\u001b[1;32m   1013\u001b[0m kwds_defaults \u001b[38;5;241m=\u001b[39m _refine_defaults_read(\n\u001b[1;32m   1014\u001b[0m     dialect,\n\u001b[1;32m   1015\u001b[0m     delimiter,\n\u001b[0;32m   (...)\u001b[0m\n\u001b[1;32m   1022\u001b[0m     dtype_backend\u001b[38;5;241m=\u001b[39mdtype_backend,\n\u001b[1;32m   1023\u001b[0m )\n\u001b[1;32m   1024\u001b[0m kwds\u001b[38;5;241m.\u001b[39mupdate(kwds_defaults)\n\u001b[0;32m-> 1026\u001b[0m \u001b[38;5;28;01mreturn\u001b[39;00m \u001b[43m_read\u001b[49m\u001b[43m(\u001b[49m\u001b[43mfilepath_or_buffer\u001b[49m\u001b[43m,\u001b[49m\u001b[43m \u001b[49m\u001b[43mkwds\u001b[49m\u001b[43m)\u001b[49m\n",
      "File \u001b[0;32m~/anaconda3/envs/DataAnalisis/lib/python3.11/site-packages/pandas/io/parsers/readers.py:620\u001b[0m, in \u001b[0;36m_read\u001b[0;34m(filepath_or_buffer, kwds)\u001b[0m\n\u001b[1;32m    617\u001b[0m _validate_names(kwds\u001b[38;5;241m.\u001b[39mget(\u001b[38;5;124m\"\u001b[39m\u001b[38;5;124mnames\u001b[39m\u001b[38;5;124m\"\u001b[39m, \u001b[38;5;28;01mNone\u001b[39;00m))\n\u001b[1;32m    619\u001b[0m \u001b[38;5;66;03m# Create the parser.\u001b[39;00m\n\u001b[0;32m--> 620\u001b[0m parser \u001b[38;5;241m=\u001b[39m \u001b[43mTextFileReader\u001b[49m\u001b[43m(\u001b[49m\u001b[43mfilepath_or_buffer\u001b[49m\u001b[43m,\u001b[49m\u001b[43m \u001b[49m\u001b[38;5;241;43m*\u001b[39;49m\u001b[38;5;241;43m*\u001b[39;49m\u001b[43mkwds\u001b[49m\u001b[43m)\u001b[49m\n\u001b[1;32m    622\u001b[0m \u001b[38;5;28;01mif\u001b[39;00m chunksize \u001b[38;5;129;01mor\u001b[39;00m iterator:\n\u001b[1;32m    623\u001b[0m     \u001b[38;5;28;01mreturn\u001b[39;00m parser\n",
      "File \u001b[0;32m~/anaconda3/envs/DataAnalisis/lib/python3.11/site-packages/pandas/io/parsers/readers.py:1620\u001b[0m, in \u001b[0;36mTextFileReader.__init__\u001b[0;34m(self, f, engine, **kwds)\u001b[0m\n\u001b[1;32m   1617\u001b[0m     \u001b[38;5;28mself\u001b[39m\u001b[38;5;241m.\u001b[39moptions[\u001b[38;5;124m\"\u001b[39m\u001b[38;5;124mhas_index_names\u001b[39m\u001b[38;5;124m\"\u001b[39m] \u001b[38;5;241m=\u001b[39m kwds[\u001b[38;5;124m\"\u001b[39m\u001b[38;5;124mhas_index_names\u001b[39m\u001b[38;5;124m\"\u001b[39m]\n\u001b[1;32m   1619\u001b[0m \u001b[38;5;28mself\u001b[39m\u001b[38;5;241m.\u001b[39mhandles: IOHandles \u001b[38;5;241m|\u001b[39m \u001b[38;5;28;01mNone\u001b[39;00m \u001b[38;5;241m=\u001b[39m \u001b[38;5;28;01mNone\u001b[39;00m\n\u001b[0;32m-> 1620\u001b[0m \u001b[38;5;28mself\u001b[39m\u001b[38;5;241m.\u001b[39m_engine \u001b[38;5;241m=\u001b[39m \u001b[38;5;28;43mself\u001b[39;49m\u001b[38;5;241;43m.\u001b[39;49m\u001b[43m_make_engine\u001b[49m\u001b[43m(\u001b[49m\u001b[43mf\u001b[49m\u001b[43m,\u001b[49m\u001b[43m \u001b[49m\u001b[38;5;28;43mself\u001b[39;49m\u001b[38;5;241;43m.\u001b[39;49m\u001b[43mengine\u001b[49m\u001b[43m)\u001b[49m\n",
      "File \u001b[0;32m~/anaconda3/envs/DataAnalisis/lib/python3.11/site-packages/pandas/io/parsers/readers.py:1880\u001b[0m, in \u001b[0;36mTextFileReader._make_engine\u001b[0;34m(self, f, engine)\u001b[0m\n\u001b[1;32m   1878\u001b[0m     \u001b[38;5;28;01mif\u001b[39;00m \u001b[38;5;124m\"\u001b[39m\u001b[38;5;124mb\u001b[39m\u001b[38;5;124m\"\u001b[39m \u001b[38;5;129;01mnot\u001b[39;00m \u001b[38;5;129;01min\u001b[39;00m mode:\n\u001b[1;32m   1879\u001b[0m         mode \u001b[38;5;241m+\u001b[39m\u001b[38;5;241m=\u001b[39m \u001b[38;5;124m\"\u001b[39m\u001b[38;5;124mb\u001b[39m\u001b[38;5;124m\"\u001b[39m\n\u001b[0;32m-> 1880\u001b[0m \u001b[38;5;28mself\u001b[39m\u001b[38;5;241m.\u001b[39mhandles \u001b[38;5;241m=\u001b[39m \u001b[43mget_handle\u001b[49m\u001b[43m(\u001b[49m\n\u001b[1;32m   1881\u001b[0m \u001b[43m    \u001b[49m\u001b[43mf\u001b[49m\u001b[43m,\u001b[49m\n\u001b[1;32m   1882\u001b[0m \u001b[43m    \u001b[49m\u001b[43mmode\u001b[49m\u001b[43m,\u001b[49m\n\u001b[1;32m   1883\u001b[0m \u001b[43m    \u001b[49m\u001b[43mencoding\u001b[49m\u001b[38;5;241;43m=\u001b[39;49m\u001b[38;5;28;43mself\u001b[39;49m\u001b[38;5;241;43m.\u001b[39;49m\u001b[43moptions\u001b[49m\u001b[38;5;241;43m.\u001b[39;49m\u001b[43mget\u001b[49m\u001b[43m(\u001b[49m\u001b[38;5;124;43m\"\u001b[39;49m\u001b[38;5;124;43mencoding\u001b[39;49m\u001b[38;5;124;43m\"\u001b[39;49m\u001b[43m,\u001b[49m\u001b[43m \u001b[49m\u001b[38;5;28;43;01mNone\u001b[39;49;00m\u001b[43m)\u001b[49m\u001b[43m,\u001b[49m\n\u001b[1;32m   1884\u001b[0m \u001b[43m    \u001b[49m\u001b[43mcompression\u001b[49m\u001b[38;5;241;43m=\u001b[39;49m\u001b[38;5;28;43mself\u001b[39;49m\u001b[38;5;241;43m.\u001b[39;49m\u001b[43moptions\u001b[49m\u001b[38;5;241;43m.\u001b[39;49m\u001b[43mget\u001b[49m\u001b[43m(\u001b[49m\u001b[38;5;124;43m\"\u001b[39;49m\u001b[38;5;124;43mcompression\u001b[39;49m\u001b[38;5;124;43m\"\u001b[39;49m\u001b[43m,\u001b[49m\u001b[43m \u001b[49m\u001b[38;5;28;43;01mNone\u001b[39;49;00m\u001b[43m)\u001b[49m\u001b[43m,\u001b[49m\n\u001b[1;32m   1885\u001b[0m \u001b[43m    \u001b[49m\u001b[43mmemory_map\u001b[49m\u001b[38;5;241;43m=\u001b[39;49m\u001b[38;5;28;43mself\u001b[39;49m\u001b[38;5;241;43m.\u001b[39;49m\u001b[43moptions\u001b[49m\u001b[38;5;241;43m.\u001b[39;49m\u001b[43mget\u001b[49m\u001b[43m(\u001b[49m\u001b[38;5;124;43m\"\u001b[39;49m\u001b[38;5;124;43mmemory_map\u001b[39;49m\u001b[38;5;124;43m\"\u001b[39;49m\u001b[43m,\u001b[49m\u001b[43m \u001b[49m\u001b[38;5;28;43;01mFalse\u001b[39;49;00m\u001b[43m)\u001b[49m\u001b[43m,\u001b[49m\n\u001b[1;32m   1886\u001b[0m \u001b[43m    \u001b[49m\u001b[43mis_text\u001b[49m\u001b[38;5;241;43m=\u001b[39;49m\u001b[43mis_text\u001b[49m\u001b[43m,\u001b[49m\n\u001b[1;32m   1887\u001b[0m \u001b[43m    \u001b[49m\u001b[43merrors\u001b[49m\u001b[38;5;241;43m=\u001b[39;49m\u001b[38;5;28;43mself\u001b[39;49m\u001b[38;5;241;43m.\u001b[39;49m\u001b[43moptions\u001b[49m\u001b[38;5;241;43m.\u001b[39;49m\u001b[43mget\u001b[49m\u001b[43m(\u001b[49m\u001b[38;5;124;43m\"\u001b[39;49m\u001b[38;5;124;43mencoding_errors\u001b[39;49m\u001b[38;5;124;43m\"\u001b[39;49m\u001b[43m,\u001b[49m\u001b[43m \u001b[49m\u001b[38;5;124;43m\"\u001b[39;49m\u001b[38;5;124;43mstrict\u001b[39;49m\u001b[38;5;124;43m\"\u001b[39;49m\u001b[43m)\u001b[49m\u001b[43m,\u001b[49m\n\u001b[1;32m   1888\u001b[0m \u001b[43m    \u001b[49m\u001b[43mstorage_options\u001b[49m\u001b[38;5;241;43m=\u001b[39;49m\u001b[38;5;28;43mself\u001b[39;49m\u001b[38;5;241;43m.\u001b[39;49m\u001b[43moptions\u001b[49m\u001b[38;5;241;43m.\u001b[39;49m\u001b[43mget\u001b[49m\u001b[43m(\u001b[49m\u001b[38;5;124;43m\"\u001b[39;49m\u001b[38;5;124;43mstorage_options\u001b[39;49m\u001b[38;5;124;43m\"\u001b[39;49m\u001b[43m,\u001b[49m\u001b[43m \u001b[49m\u001b[38;5;28;43;01mNone\u001b[39;49;00m\u001b[43m)\u001b[49m\u001b[43m,\u001b[49m\n\u001b[1;32m   1889\u001b[0m \u001b[43m\u001b[49m\u001b[43m)\u001b[49m\n\u001b[1;32m   1890\u001b[0m \u001b[38;5;28;01massert\u001b[39;00m \u001b[38;5;28mself\u001b[39m\u001b[38;5;241m.\u001b[39mhandles \u001b[38;5;129;01mis\u001b[39;00m \u001b[38;5;129;01mnot\u001b[39;00m \u001b[38;5;28;01mNone\u001b[39;00m\n\u001b[1;32m   1891\u001b[0m f \u001b[38;5;241m=\u001b[39m \u001b[38;5;28mself\u001b[39m\u001b[38;5;241m.\u001b[39mhandles\u001b[38;5;241m.\u001b[39mhandle\n",
      "File \u001b[0;32m~/anaconda3/envs/DataAnalisis/lib/python3.11/site-packages/pandas/io/common.py:873\u001b[0m, in \u001b[0;36mget_handle\u001b[0;34m(path_or_buf, mode, encoding, compression, memory_map, is_text, errors, storage_options)\u001b[0m\n\u001b[1;32m    868\u001b[0m \u001b[38;5;28;01melif\u001b[39;00m \u001b[38;5;28misinstance\u001b[39m(handle, \u001b[38;5;28mstr\u001b[39m):\n\u001b[1;32m    869\u001b[0m     \u001b[38;5;66;03m# Check whether the filename is to be opened in binary mode.\u001b[39;00m\n\u001b[1;32m    870\u001b[0m     \u001b[38;5;66;03m# Binary mode does not support 'encoding' and 'newline'.\u001b[39;00m\n\u001b[1;32m    871\u001b[0m     \u001b[38;5;28;01mif\u001b[39;00m ioargs\u001b[38;5;241m.\u001b[39mencoding \u001b[38;5;129;01mand\u001b[39;00m \u001b[38;5;124m\"\u001b[39m\u001b[38;5;124mb\u001b[39m\u001b[38;5;124m\"\u001b[39m \u001b[38;5;129;01mnot\u001b[39;00m \u001b[38;5;129;01min\u001b[39;00m ioargs\u001b[38;5;241m.\u001b[39mmode:\n\u001b[1;32m    872\u001b[0m         \u001b[38;5;66;03m# Encoding\u001b[39;00m\n\u001b[0;32m--> 873\u001b[0m         handle \u001b[38;5;241m=\u001b[39m \u001b[38;5;28;43mopen\u001b[39;49m\u001b[43m(\u001b[49m\n\u001b[1;32m    874\u001b[0m \u001b[43m            \u001b[49m\u001b[43mhandle\u001b[49m\u001b[43m,\u001b[49m\n\u001b[1;32m    875\u001b[0m \u001b[43m            \u001b[49m\u001b[43mioargs\u001b[49m\u001b[38;5;241;43m.\u001b[39;49m\u001b[43mmode\u001b[49m\u001b[43m,\u001b[49m\n\u001b[1;32m    876\u001b[0m \u001b[43m            \u001b[49m\u001b[43mencoding\u001b[49m\u001b[38;5;241;43m=\u001b[39;49m\u001b[43mioargs\u001b[49m\u001b[38;5;241;43m.\u001b[39;49m\u001b[43mencoding\u001b[49m\u001b[43m,\u001b[49m\n\u001b[1;32m    877\u001b[0m \u001b[43m            \u001b[49m\u001b[43merrors\u001b[49m\u001b[38;5;241;43m=\u001b[39;49m\u001b[43merrors\u001b[49m\u001b[43m,\u001b[49m\n\u001b[1;32m    878\u001b[0m \u001b[43m            \u001b[49m\u001b[43mnewline\u001b[49m\u001b[38;5;241;43m=\u001b[39;49m\u001b[38;5;124;43m\"\u001b[39;49m\u001b[38;5;124;43m\"\u001b[39;49m\u001b[43m,\u001b[49m\n\u001b[1;32m    879\u001b[0m \u001b[43m        \u001b[49m\u001b[43m)\u001b[49m\n\u001b[1;32m    880\u001b[0m     \u001b[38;5;28;01melse\u001b[39;00m:\n\u001b[1;32m    881\u001b[0m         \u001b[38;5;66;03m# Binary mode\u001b[39;00m\n\u001b[1;32m    882\u001b[0m         handle \u001b[38;5;241m=\u001b[39m \u001b[38;5;28mopen\u001b[39m(handle, ioargs\u001b[38;5;241m.\u001b[39mmode)\n",
      "\u001b[0;31mFileNotFoundError\u001b[0m: [Errno 2] No such file or directory: '9cm/csv/df3_0_good1.csv'"
     ]
    },
    {
     "data": {
      "image/png": "[encoded data removed]",
      "text/plain": [
       "<Figure size 2000x1600 with 6 Axes>"
      ]
     },
     "metadata": {},
     "output_type": "display_data"
    }
   ],
   "source": [
    "from scipy.optimize import curve_fit\n",
    "\n",
    "def gaussian(x, a, b, c):\n",
    "    return a * np.exp(-(x - b)**2 / (2 * c**2))\n",
    "\n",
    "enes = [3.0, 4.2, 5.4, 6.6, 7.8, 9.0]\n",
    "\n",
    "fig, axs = plt.subplots(3, 2, figsize=(20, 16))\n",
    "efficiencies = []\n",
    "\n",
    "for idx, ene in enumerate(enes):\n",
    "    ene_str = str(ene).replace('.', '_')\n",
    "    ax = axs[idx//2, idx%2]\n",
    "    good_files = [f'9cm/csv/df{ene_str}_good{i}.csv' for i in (1,3)]\n",
    "    bad_files = [f'9cm/csv/df{ene_str}_bad{i}.csv' for i in (1,3)]\n",
    "    df_good = pd.concat([pd.read_csv(f) for f in good_files])\n",
    "    df_bad = pd.concat([pd.read_csv(f) for f in bad_files])\n",
    "\n",
    "    df_good_grouped = df_good.groupby('eventNumber').first()\n",
    "    df_bad_grouped = df_bad.groupby('eventNumber').first()\n",
    "\n",
    "    bin_width = 0.001\n",
    "\n",
    "    bins_good = np.arange(min(df_good_grouped[\"beta_hat\"]), max(df_good_grouped[\"beta_hat\"]) + bin_width, bin_width)\n",
    "    counts_good, _ = np.histogram(df_good_grouped[\"beta_hat\"], bins=bins_good)\n",
    "    bins_bad = np.arange(min(df_bad_grouped[\"beta_hat\"]), max(df_bad_grouped[\"beta_hat\"]) + bin_width, bin_width)\n",
    "    counts_bad, _ = np.histogram(df_bad_grouped[\"beta_hat\"], bins=bins_bad)\n",
    "    counts_good = counts_good / np.sum(counts_good)\n",
    "    counts_bad = counts_bad / np.sum(counts_bad)\n",
    "\n",
    "    bin_centers_good = (bins_good[:-1] + bins_good[1:]) / 2\n",
    "    bin_centers_bad = (bins_bad[:-1] + bins_bad[1:]) / 2 \n",
    "\n",
    "    ax.bar(bin_centers_good, counts_good, width=np.diff(bins_good), color='g', alpha=1, zorder=2)\n",
    "\n",
    "    initial_guess_good = [max(counts_good), bin_centers_good[np.argmax(counts_good)], np.std(df_good_grouped[\"beta_hat\"])]\n",
    "    popt_good, _ = curve_fit(gaussian, bin_centers_good, counts_good, p0=initial_guess_good, maxfev=5000)\n",
    "    x_good = np.linspace(min(bin_centers_good), max(bin_centers_good), 1000)\n",
    "    ax.plot(x_good, gaussian(x_good, *popt_good), 'r-', zorder=3)\n",
    "    ax.axvline(popt_good[1], color='r', linestyle='--')\n",
    "    ax.bar(bin_centers_bad, counts_bad, width=np.diff(bins_bad), color='b', alpha=0.6, zorder=1)\n",
    "\n",
    "    beta_r = calculate_beta_proton(ene)\n",
    "    ax.axvline(beta_r, color='gold', linestyle='--')\n",
    "\n",
    "    ax.set_xlim([0.962, 1.04])\n",
    "    ax.set_ylim([1e-3, 1.2])\n",
    "\n",
    "    ax.set_yscale('log')\n",
    "\n",
    "    ax.set_xlabel(r'$\\beta$')\n",
    "    ax.set_ylabel('% Eventos')\n",
    "\n",
    "    line_good, = ax.plot(x_good, gaussian(x_good, *popt_good), 'r-', zorder=3) \n",
    "\n",
    "    line_beta_r = ax.axvline(beta_r, color='black', linestyle='--')\n",
    "\n",
    "    lower_bound = beta_r - 0.005*beta_r\n",
    "    upper_bound = beta_r + 0.005*beta_r\n",
    "\n",
    "    num_events_in_range = df_good_grouped[(df_good_grouped[\"beta_hat\"] >= lower_bound) & (df_good_grouped[\"beta_hat\"] <= upper_bound)].shape[0]\n",
    "\n",
    "    total_events = df_good_grouped.shape[0]\n",
    "    efficiency = num_events_in_range / total_events\n",
    "    efficiencies.append(efficiency)\n",
    "\n",
    "    median_bad = df_bad_grouped[\"beta_hat\"].median()\n",
    "    line_median_bad = ax.axvline(median_bad, color='purple', linestyle='--')\n",
    "\n",
    "    ax.legend([line_good, line_beta_r, line_median_bad], \n",
    "              [f'$<\\\\beta_{{Buenos}}>$ = {popt_good[1]:.4f}', \n",
    "               f'$\\\\beta_{{Real}}$ = {beta_r:.4f}', \n",
    "               f'Mediana $\\\\beta_{{Malos}}$ = {median_bad:.4f}'], \n",
    "              title='Betas Calculadas')\n",
    "\n",
    "    ax.set_title(f'  {str(ene)} GeV Con Likelihood, Eficiencia = {efficiency*100:.4f} %')\n",
    "\n",
    "fig.tight_layout()\n",
    "fig.savefig(f\"./figures/pLike9.png\")\n",
    "\n",
    "plt.show()"
   ]
  },
  {
   "cell_type": "code",
   "execution_count": null,
   "id": "3081e4e0-7cc1-4d51-a1e1-edbcb112c640",
   "metadata": {},
   "outputs": [],
   "source": [
    "\"\"\"import matplotlib.pyplot as plt\n",
    "import numpy as np\n",
    "\n",
    "def draw_circle(ax, centerX, centerY, radius, color):\n",
    "    circle = plt.Circle((centerX, centerY), radius, fill=False, color=color)\n",
    "    ax.add_artist(circle)\n",
    "    ax.plot(centerX, centerY, marker='o', color=color)  # plot the center\n",
    "    \n",
    "# Assuming good_events and bad_events are DataFrames grouped by 'eventNumber'\n",
    "good_events = df_good.groupby('eventNumber')\n",
    "bad_events = df_bad.groupby('eventNumber')\n",
    "\n",
    "fig, axs = plt.subplots(2, 2, figsize=(10, 10))\n",
    "\n",
    "# Plot for df_good\n",
    "for i, (eventNumber, event) in enumerate(good_events):\n",
    "    if i > 1:  # Limit the number of plots to the size of the axs array\n",
    "        break\n",
    "    axs[0, i].scatter(event.detectorPositionX, event.detectorPositionY, color='blue')\n",
    "    draw_circle(axs[0, i], event.centerX.mean(), event.centerY.mean(), event.radius.mean(), 'magenta')\n",
    "\n",
    "# Plot for df_bad\n",
    "for i, (eventNumber, event) in enumerate(bad_events):\n",
    "    if i > 1:  # Limit the number of plots to the size of the axs array\n",
    "        break\n",
    "    axs[1, i].scatter(event.detectorPositionX, event.detectorPositionY, color='yellow')\n",
    "    draw_circle(axs[1, i], event.centerX.mean(), event.centerY.mean(), event.radius.mean(), 'cyan')\n",
    "\n",
    "plt.show()\"\"\""
   ]
  },
  {
   "cell_type": "code",
   "execution_count": null,
   "id": "8de669ee-c295-48a8-a549-787af66a2a40",
   "metadata": {},
   "outputs": [],
   "source": [
    "betas = [calculate_beta_proton(ene) for ene in enes]\n",
    "\n",
    "plt.title(\"Eficiencia en Función de la Velocidad\")\n",
    "\n",
    "plt.xlabel(r'$\\beta$')\n",
    "plt.ylabel(\"% Eficiencia\")\n",
    "\n",
    "plt.plot(betas, [efe*100 for efe in efficiencies])"
   ]
  }
 ],
 "metadata": {
  "kernelspec": {
   "display_name": "Python 3 (ipykernel)",
   "language": "python",
   "name": "python3"
  },
  "language_info": {
   "codemirror_mode": {
    "name": "ipython",
    "version": 3
   },
   "file_extension": ".py",
   "mimetype": "text/x-python",
   "name": "python",
   "nbconvert_exporter": "python",
   "pygments_lexer": "ipython3",
   "version": "3.11.9"
  }
 },
 "nbformat": 4,
 "nbformat_minor": 5
}
